{
 "cells": [
  {
   "cell_type": "code",
   "execution_count": 2,
   "id": "solved-colon",
   "metadata": {},
   "outputs": [
    {
     "name": "stdout",
     "output_type": "stream",
     "text": [
      "table deleted\n"
     ]
    }
   ],
   "source": [
    "import time\n",
    "import board\n",
    "import busio\n",
    "import pandas as pd\n",
    "from pandas import DataFrame\n",
    "from matplotlib import pylab\n",
    "import matplotlib.pyplot as plt\n",
    "from pylab import *\n",
    "import pylab\n",
    "import numpy as np\n",
    "import matplotlib.colors as clrs\n",
    "import matplotlib.cm as cm\n",
    "import matplotlib\n",
    "from collections import deque\n",
    "#matplotlib.use('TkAgg')\n",
    "#%matplotlib notebook\n",
    "\n",
    "#import time\n",
    "import sys\n",
    "import sqlite3\n",
    "#from time import sleep\n",
    "\n",
    "#import adafruit_ads1x15.ads1015 as ADS\n",
    "import adafruit_ads1x15.ads1115 as ADS\n",
    "from adafruit_ads1x15.analog_in import AnalogIn\n",
    "\n",
    "import MySQLdb as db\n",
    "\n",
    "HOST = \"10.208.8.122\"\n",
    "PORT = 3306\n",
    "USER = \"yogi\"\n",
    "PASSWORD = \"bittoo\"\n",
    "DB = \"TemaccessToRemoteRp2\"\n",
    "'''\n",
    "try:\n",
    "    connection = db.Connection(host=HOST, port=PORT,\n",
    "                               user=USER, passwd=PASSWORD, db=DB)\n",
    "\n",
    "    c = connection.cursor()\n",
    "    c.execute(\"SELECT * from temSensor\")\n",
    "    result = c.fetchall()\n",
    "    for item in result:\n",
    "        print (item)\n",
    "\n",
    "except Exception as e:\n",
    "    print (e)\n",
    "'''\n",
    "connectionL = db.connect(host=\"10.208.8.121\",\n",
    "                     user=\"yogi\",\n",
    "                     passwd=\"bittoo\",\n",
    "                     db=\"allSensors\")\n",
    "\n",
    "#c = conn.cursor()\n",
    "connectionR = db.Connection(host=HOST, port=PORT,user=USER, passwd=PASSWORD, db=DB)\n",
    "\n",
    "cR = connectionR.cursor()\n",
    "cL =connectionL.cursor()\n",
    "\n",
    "i2c = busio.I2C(board.SCL, board.SDA)\n",
    "\n",
    "# Create the ADC object using the I2C bus\n",
    "ads = ADS.ADS1115(i2c)\n",
    "\n",
    "ads.gain = 1\n",
    "\n",
    "\n",
    "cL.execute('DROP TABLE IF EXISTS flowReadings;')\n",
    "print ('table deleted')\n",
    "\n",
    "\n",
    "cL.execute('CREATE TABLE flowReadings(id INT AUTO_INCREMENT PRIMARY KEY, ts TIMESTAMP DEFAULT CURRENT_TIMESTAMP, flowHP FLOAT, flowLoad FLOAT);')\n",
    "\n",
    "\n",
    "\n",
    "lol=[[], [], []]\n",
    "flowRateLoad  = []\n",
    "\n",
    "def flatten(l_of_l):\n",
    "    T = l_of_l[0]\n",
    "    flattend_l = [val for sublist in T for val in sublist]\n",
    "    #print ('flattened list is =', flattend_l)\n",
    "    return flattend_l\n",
    "\n",
    "def mct(Lol):\n",
    "    mHP = Lol[2]\n",
    "    T = flatten(Lol)\n",
    "    mL = Lol[1]\n",
    "    #this is density as polynomial function of T\n",
    "    p_LperH = [999.8473664794213 + 6.29265190e-02*x[2] - 8.42930922e-03*x[2]**2 + 6.77190849e-05*x[2]**3 \\\n",
    " - 4.40840180e-07*x[2]**4 + 1.29302849e-09*x[2]**5 for x in T  ]\n",
    "\n",
    "    #pV = [(999.8473664794213 + 6.29265190e-02*x[2] - 8.42930922e-03*x[2]**2 + 6.77190849e-05*x[2]**3 - 4.40840180e-07*x[2]**4 + 1.29302849e-09*x[2]**5)*2.7777e-07*y for x, y in zip(T, mHP)  ]\n",
    "    # this is mass flow  in kg/S =  density*V(flow rate in m^3/sec)= d * (1000^-3/3600)\n",
    "    mF_kgPerS =[ x*2.7777e-07*y for x, y in zip(p_LperH, mHP)]\n",
    "    #this is Cp as functiono of T linear function\n",
    "    cP_kjPerkgK = [4.253264761904763 - 0.00470305*b[2] for b in T]\n",
    "    #mCT1 = sum([(4.253264761904763 - 0.00470305*b[2])*a*(b[2]-b[3]) for a, b in zip(mHP, T)])\n",
    "    #mCT_kW = [(4.253264761904763 - 0.00470305*b[2])*a*(b[3]-b[4]) for a, b in zip(mHP, T)]\n",
    "    #Cp*M*deltaT\n",
    "    mCT_kW = [c*a*(b[3]-b[4]) for c, a, b in zip(cP_kjPerkgK,mF_kgPerS, T)]\n",
    "    # sum(mct* 5/3600 (time stamp))  = kWh\n",
    "    mCT2_kWh = sum([m*c*(dt[3]-dt[4])*0.0013888889 for m, c, dt in zip(mF_kgPerS,  cP_kjPerkgK, T)])\n",
    "    #print (T[-1], mHP,'mCpDeltaT =', mCT)\n",
    "    #print ('mCT is:',mCT)\n",
    "    #print ('mF', mF_kgPerS, mHP[-1])\n",
    "    #print (' mCT_kW is:', mCT_kW)\n",
    "    #print ('mCTkWh is ',mCT2_kWh)\n",
    "    return mCT_kW, mCT2_kWh\n",
    "\n",
    "l_id = []\n",
    "\n",
    "def idGenerator(Id, l_id):\n",
    "    if Id not in l_id:\n",
    "       l_id.append(Id) \n",
    "    #print (l_id)\n",
    "    return l_id\n",
    "\n",
    "#df_conc= None\n",
    "def dfs(Lol):\n",
    "    mHP = Lol[2]\n",
    "    T = flatten(Lol)\n",
    "    mL = Lol[1]\n",
    "    StartTemTestingtank = [ 'id', 'dateTime', 'Tamb', 'TtopTestTankHPCir', 'TbottomTestTankHpCir', 'TtopSourceTank', \\\n",
    "'TloadTankMid','TTopTestTankLoadCir', 'TloadMix', 'TbottomSourceTank', 'TbottomTestTankLoadCir']\n",
    "    l_T = ['T{}'.format(x) for x in range(0,10)]\n",
    "    L = StartTemTestingtank +l_T\n",
    "    df_mHP = DataFrame(mHP, columns=['flowHP'])\n",
    "    df_mL = DataFrame(mL, columns=['flowLoad'])\n",
    "    df_tem = DataFrame(T, columns = L)\n",
    "    df_conc = pd.concat([df_tem, df_mHP, df_mL], axis=1)\n",
    "    #print (df_mL)\n",
    "    #print (df_mHP)\n",
    "    #print (df_tem)\n",
    "    #print (df_conc)\n",
    "    return df_conc\n",
    "\n",
    "def tankStrat(df):\n",
    "    dfT = df.iloc[:, 11:-2]\n",
    "    #print (dfT)\n",
    "    return dfT\n",
    "#tankStratTem = tankStrat(df_conc)\n",
    "\n",
    "\n",
    "def create_color_step_obj(cmap_name, n):\n",
    "    \"\"\"\n",
    "    Return scalarMap object with n colors in gradient from color map\n",
    "    given in cmap_name.\n",
    "    \"\"\"\n",
    "    cmap = plt.get_cmap(cmap_name)\n",
    "    values = range(n)\n",
    "    cNorm  = clrs.Normalize(vmin=values[0], vmax=values[-1])\n",
    "    scalarMap = cm.ScalarMappable(norm=cNorm, cmap=cmap)\n",
    "    return scalarMap\n",
    "\n"
   ]
  },
  {
   "cell_type": "code",
   "execution_count": 8,
   "id": "exotic-domestic",
   "metadata": {},
   "outputs": [
    {
     "name": "stdout",
     "output_type": "stream",
     "text": [
      "small x is: 230\n",
      "small y is : 0    45\n",
      "1    47\n",
      "2    48\n",
      "3    43\n",
      "4    43\n",
      "5    41\n",
      "6    29\n",
      "7    39\n",
      "8    54\n",
      "9    23\n",
      "Name: 99, dtype: int32\n"
     ]
    },
    {
     "data": {
      "image/png": "[encoded data removed]",
      "text/plain": [
       "<Figure size 432x288 with 1 Axes>"
      ]
     },
     "metadata": {
      "needs_background": "light"
     },
     "output_type": "display_data"
    },
    {
     "data": {
      "image/png": "[encoded data removed]",
      "text/plain": [
       "<Figure size 432x288 with 1 Axes>"
      ]
     },
     "metadata": {
      "needs_background": "light"
     },
     "output_type": "display_data"
    },
    {
     "data": {
      "image/png": "[encoded data removed]",
      "text/plain": [
       "<Figure size 432x288 with 1 Axes>"
      ]
     },
     "metadata": {
      "needs_background": "light"
     },
     "output_type": "display_data"
    },
    {
     "data": {
      "image/png": "[encoded data removed]",
      "text/plain": [
       "<Figure size 432x288 with 1 Axes>"
      ]
     },
     "metadata": {
      "needs_background": "light"
     },
     "output_type": "display_data"
    },
    {
     "data": {
      "image/png": "[encoded data removed]",
      "text/plain": [
       "<Figure size 432x288 with 1 Axes>"
      ]
     },
     "metadata": {
      "needs_background": "light"
     },
     "output_type": "display_data"
    },
    {
     "data": {
      "image/png": "[encoded data removed]",
      "text/plain": [
       "<Figure size 432x288 with 1 Axes>"
      ]
     },
     "metadata": {
      "needs_background": "light"
     },
     "output_type": "display_data"
    },
    {
     "data": {
      "image/png": "[encoded data removed]",
      "text/plain": [
       "<Figure size 432x288 with 1 Axes>"
      ]
     },
     "metadata": {
      "needs_background": "light"
     },
     "output_type": "display_data"
    },
    {
     "data": {
      "image/png": "[encoded data removed]",
      "text/plain": [
       "<Figure size 432x288 with 1 Axes>"
      ]
     },
     "metadata": {
      "needs_background": "light"
     },
     "output_type": "display_data"
    },
    {
     "data": {
      "image/png": "[encoded data removed]",
      "text/plain": [
       "<Figure size 432x288 with 1 Axes>"
      ]
     },
     "metadata": {
      "needs_background": "light"
     },
     "output_type": "display_data"
    },
    {
     "data": {
      "image/png": "[encoded data removed]",
      "text/plain": [
       "<Figure size 432x288 with 1 Axes>"
      ]
     },
     "metadata": {
      "needs_background": "light"
     },
     "output_type": "display_data"
    },
    {
     "data": {
      "text/plain": [
       "<generator object whileLoopMain at 0xab1fedf0>"
      ]
     },
     "execution_count": 8,
     "metadata": {},
     "output_type": "execute_result"
    }
   ],
   "source": [
    "#This works plots interactivly but index dosent changes. So i need to yield the x and y values from generators\n",
    "\n",
    "def plotObject(df,alpha =0.7):\n",
    "\n",
    "    #plt.ion()\n",
    "    #fig, ax = plt.ion()\n",
    "    #ax.set_xlabel('Index')\n",
    "    #ax.set_ylabel('Tem, C', color='r')\n",
    "    #plt.legend (bbox_to_anchor=(1.4,0.89), fontsize='xx-small', loc='upper right', ncol=2)\n",
    "    for i in range (0, 10):\n",
    "        x = df.index[-1]\n",
    "        y =df.iloc[-1]\n",
    "        #print ('dataframe is :',df)\n",
    "        Fig = ax.plot(x, y.iloc[i], label = 'Layer ' + str(10-i), color= scm.to_rgba(10-i, alpha))\n",
    "    #plt.show()\n",
    "    #plt.draw()\n",
    "    #plt.pause(0.05)\n",
    "    return Fig\n",
    "\n",
    "#tankStrat(dfs(lol))\n",
    "cmap_name = \"jet\"\n",
    "scm = create_color_step_obj(cmap_name, 10)\n",
    "#plt.ion()\n",
    "#fig, ax = plt.subplots()\n",
    "#plt.legend (bbox_to_anchor=(1.4,0.89), fontsize='xx-small', loc='upper right', ncol=2)\n",
    "#plt.draw()\n",
    "#plt.pause(0.05)\n",
    "#x = np.random.random()\n",
    "x = 230\n",
    "#x = pd.DataFrame(np.zeros(1))\n",
    "print ('small x is:',x)\n",
    "y = pd.DataFrame(np.random.randint(20,60,size=(100, 10))).iloc[-1]\n",
    "#y = pd.DataFrame(np.Nan(0,100,size=(100, 10))).iloc[-1]\n",
    "#y = pd.DataFrame([0]*10)\n",
    "print ('small y is :', y)\n",
    "#fig = [plt.plot(x, y.iloc[i], label = 'Layer ' + str(10-i), color= scm.to_rgba(10-i, 0.7)) for i in range (0,10)]\n",
    "#plt.figure(figsize=(10,8))\n",
    "plt.ion()\n",
    "#plt.figure()\n",
    "#plt.ion()\n",
    "fig = plt.figure()\n",
    "axes = fig.add_subplot(111)\n",
    "#plt.axis([0,1000,0,1])\n",
    "x = x\n",
    "for i in range(0, 10):\n",
    "    Y = y.iloc[i]\n",
    "    \n",
    "    #Y = y.iloc[i]\n",
    "    line_list = [plt.scatter(x, Y, label = 'Layer ' + str(10-i), color= scm.to_rgba(10-i, 0.7)) for i in range (0, 10)]\n",
    "    #plt.ion()\n",
    "    plt.draw()\n",
    "    #time.sleep(0.1)\n",
    "    plt.pause(0.0001)  \n",
    "    plt.show()\n",
    "    ##plt.pause(0.01)\n",
    "\n",
    "def plotInnerFig(figs, df):\n",
    "    for fi in figs:\n",
    "        fi.set_ydata(df)\n",
    "        plt.draw()\n",
    "        plt.pause(0.5)\n",
    "        plt.show()\n",
    "    return \n",
    "\n",
    "def plot(df, fig):\n",
    "    x = df.index\n",
    "    y = df\n",
    "    Fig = [fi.set_ydata(df) for fi in fig]\n",
    "        \n",
    "    plt.draw()\n",
    "    plt.pause(0.5)\n",
    "    plt.show()\n",
    "    return Fig\n",
    "\n",
    "def whileLoopMain():\n",
    "    while True:\n",
    "        #c.execute(\"INSERT INTO flowReadings(flowHp, flowLoad) VALUES(?,?,?,?)\", (chan2.voltage, chan1.voltage))\n",
    "        #connection.commit()\n",
    "        chan1 = AnalogIn(ads, ADS.P0)\n",
    "        chan2 = AnalogIn(ads, ADS.P1)\n",
    "\n",
    "        chan1Vol = chan1.voltage\n",
    "        chan1curr = chan1Vol/159.42\n",
    "\n",
    "        chan2Vol = chan2.voltage\n",
    "        chan2curr=chan2Vol/159.65\n",
    "        #flow1 = ((chan1Vol/159.42)*1000 -4)/16*1000\n",
    "        flow1 = ((chan1Vol/159.42)-0.003956)/0.0000159\n",
    "        #flow2 = ((chan2Vol/159.65)*1000 -4)/16*4000 +20\n",
    "        #flow2 = ((chan2Vol/159.65)- 0.0005468893873066417)/1.09561608e-05\n",
    "        flow2 = ((chan2Vol/159.65)- 0.003973767754877122)/5.3038815e-06\n",
    "        cL.execute(\"INSERT INTO flowReadings(flowHp, flowLoad) VALUES(%s, %s)\", (flow2, flow1))\n",
    "        connectionL.commit()\n",
    "        #print('flow HP:',\"{:>5}\\t{:>5.3f}\".format(chan2.value, chan2.voltage), '\\n\\n')\n",
    "        #print('flow load:',\"{:>5}\\t{:>5.3f}\".format(chan1.value, chan1.voltage, '\\n\\n'))\n",
    "        print('flow rates load is = ',chan1Vol, chan1curr,flow1 )\n",
    "        print('flow rates HP is = ',chan2Vol, chan2curr,flow2 )\n",
    "\n",
    "        connectionR = db.Connection(host=HOST, port=PORT,user=USER, passwd=PASSWORD, db=DB)\n",
    "        cR = connectionR.cursor()\n",
    "        #c.execute(\"SELECT * from temSensor\")\n",
    "        cR.execute(\"SELECT * FROM temSensor ORDER BY id DESC LIMIT 1\")\n",
    "        result = cR.fetchall()\n",
    "        id = result[0][0]\n",
    "        idGenerator(id, l_id)\n",
    "        #print ('id is :', id)\n",
    "        flowRateLoad.append(flow1)\n",
    "\n",
    "        if lol[0] ==[] or id < lol[0][-1][0][0] :\n",
    "            lol[0].append(result)\n",
    "            #print (lol)\n",
    "            lol[1].append(flow1)\n",
    "            lol[2].append(flow2)\n",
    "        elif lol[0] != [] and id > lol[0][-1][0][0]:\n",
    "\n",
    "            lol[0].append(result)\n",
    "            lol[1].append(flow1)\n",
    "            lol[2].append(flow2)\n",
    "\n",
    "\n",
    "        mct(lol)\n",
    "        #print ('lol is:',lol)\n",
    "        #dfs(lol)\n",
    "        tankStrat(dfs(lol))\n",
    "        #plot(tankStrat(dfs(lol)), plotObject(tankStrat(dfs(lol))))\n",
    "        #plotObject(tankStrat(dfs(lol)))for i in range (0, 10):\n",
    "        x = tankStrat(dfs(lol)).index[-1]\n",
    "        y =tankStrat(dfs(lol)).iloc[-1]\n",
    "        yield x, y \n",
    "        '''\n",
    "        for line in line_list:\n",
    "            print (type(line), line)\n",
    "            for li in line:\n",
    "                li.set_xdata(x)\n",
    "                li.set_ydata(y)\n",
    "        axes.autoscale_view(True,True,True)\n",
    "        '''\n",
    "        for line in line_list:\n",
    "            line.set_xdata(x)\n",
    "            line.set_ydata(y)\n",
    "        plt.show()\n",
    "        plt.draw()\n",
    "        plt.pause(0.0001)\n",
    "    \n",
    "        \n",
    "        \n",
    "        #plt.figure()\n",
    "        #for f in fig:\n",
    "        #    f.set_xdata(x)\n",
    "        #    f.set_ydata(y)\n",
    "        #plt.show()\n",
    "        #plt.draw()\n",
    "        #plt.pause(0.01)\n",
    "        print('x is ',x, 'y is:', y)\n",
    "        #plt.draw()\n",
    "        #plt.pause(0.05)\n",
    "        #print ('dataframe is :',df)\n",
    "    \n",
    "    \n",
    "    \n",
    "        print('________________________________________________________________')\n",
    "        time.sleep(0.05)\n",
    "        \n",
    "whileLoopMain()"
   ]
  },
  {
   "cell_type": "code",
   "execution_count": null,
   "id": "republican-commodity",
   "metadata": {},
   "outputs": [],
   "source": []
  }
 ],
 "metadata": {
  "kernelspec": {
   "display_name": "Python 3",
   "language": "python",
   "name": "python3"
  },
  "language_info": {
   "codemirror_mode": {
    "name": "ipython",
    "version": 3
   },
   "file_extension": ".py",
   "mimetype": "text/x-python",
   "name": "python",
   "nbconvert_exporter": "python",
   "pygments_lexer": "ipython3",
   "version": "3.7.3"
  }
 },
 "nbformat": 4,
 "nbformat_minor": 5
}
