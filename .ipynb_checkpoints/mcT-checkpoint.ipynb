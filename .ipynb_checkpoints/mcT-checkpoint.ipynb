{
 "cells": [
  {
   "cell_type": "code",
   "execution_count": 1,
   "id": "august-watch",
   "metadata": {},
   "outputs": [
    {
     "name": "stdout",
     "output_type": "stream",
     "text": [
      "table deleted\n"
     ]
    }
   ],
   "source": [
    "import time\n",
    "import board\n",
    "import busio\n",
    "import pandas as pd\n",
    "from pandas import DataFrame\n",
    "from matplotlib import pylab\n",
    "import matplotlib.pyplot as plt\n",
    "from pylab import *\n",
    "import pylab\n",
    "import numpy as np\n",
    "import matplotlib.colors as clrs\n",
    "import matplotlib.cm as cm\n",
    "import matplotlib\n",
    "from collections import deque\n",
    "#matplotlib.use('TkAgg')\n",
    "#%matplotlib notebook\n",
    "\n",
    "#import time\n",
    "import sys\n",
    "import sqlite3\n",
    "#from time import sleep\n",
    "\n",
    "#import adafruit_ads1x15.ads1015 as ADS\n",
    "import adafruit_ads1x15.ads1115 as ADS\n",
    "from adafruit_ads1x15.analog_in import AnalogIn\n",
    "\n",
    "import MySQLdb as db\n",
    "\n",
    "HOST = \"10.208.8.122\"\n",
    "PORT = 3306\n",
    "USER = \"yogi\"\n",
    "PASSWORD = \"bittoo\"\n",
    "DB = \"TemaccessToRemoteRp2\"\n",
    "'''\n",
    "try:\n",
    "    connection = db.Connection(host=HOST, port=PORT,\n",
    "                               user=USER, passwd=PASSWORD, db=DB)\n",
    "\n",
    "    c = connection.cursor()\n",
    "    c.execute(\"SELECT * from temSensor\")\n",
    "    result = c.fetchall()\n",
    "    for item in result:\n",
    "        print (item)\n",
    "\n",
    "except Exception as e:\n",
    "    print (e)\n",
    "'''\n",
    "connectionL = db.connect(host=\"10.208.8.121\",\n",
    "                     user=\"yogi\",\n",
    "                     passwd=\"bittoo\",\n",
    "                     db=\"allSensors\")\n",
    "\n",
    "#c = conn.cursor()\n",
    "connectionR = db.Connection(host=HOST, port=PORT,user=USER, passwd=PASSWORD, db=DB)\n",
    "\n",
    "cR = connectionR.cursor()\n",
    "cL =connectionL.cursor()\n",
    "\n",
    "i2c = busio.I2C(board.SCL, board.SDA)\n",
    "\n",
    "# Create the ADC object using the I2C bus\n",
    "ads = ADS.ADS1115(i2c)\n",
    "\n",
    "ads.gain = 1\n",
    "\n",
    "\n",
    "cL.execute('DROP TABLE IF EXISTS flowReadings;')\n",
    "print ('table deleted')\n",
    "\n",
    "\n",
    "cL.execute('CREATE TABLE flowReadings(id INT AUTO_INCREMENT PRIMARY KEY, ts TIMESTAMP DEFAULT CURRENT_TIMESTAMP, flowHP FLOAT, flowLoad FLOAT);')\n",
    "\n",
    "\n",
    "\n",
    "lol=[[], [], []]\n",
    "flowRateLoad  = []\n",
    "\n",
    "def flatten(l_of_l):\n",
    "    T = l_of_l[0]\n",
    "    flattend_l = [val for sublist in T for val in sublist]\n",
    "    #print ('flattened list is =', flattend_l)\n",
    "    return flattend_l\n",
    "\n",
    "def mct(Lol):\n",
    "    mHP = Lol[2]\n",
    "    T = flatten(Lol)\n",
    "    mL = Lol[1]\n",
    "    #this is density as polynomial function of T\n",
    "    p_LperH = [999.8473664794213 + 6.29265190e-02*x[2] - 8.42930922e-03*x[2]**2 + 6.77190849e-05*x[2]**3 \\\n",
    " - 4.40840180e-07*x[2]**4 + 1.29302849e-09*x[2]**5 for x in T  ]\n",
    "\n",
    "    #pV = [(999.8473664794213 + 6.29265190e-02*x[2] - 8.42930922e-03*x[2]**2 + 6.77190849e-05*x[2]**3 - 4.40840180e-07*x[2]**4 + 1.29302849e-09*x[2]**5)*2.7777e-07*y for x, y in zip(T, mHP)  ]\n",
    "    # this is mass flow  in kg/S =  density*V(flow rate in m^3/sec)= d * (1000^-3/3600)\n",
    "    mF_kgPerS =[ x*2.7777e-07*y for x, y in zip(p_LperH, mHP)]\n",
    "    #this is Cp as functiono of T linear function\n",
    "    cP_kjPerkgK = [4.253264761904763 - 0.00470305*b[2] for b in T]\n",
    "    #mCT1 = sum([(4.253264761904763 - 0.00470305*b[2])*a*(b[2]-b[3]) for a, b in zip(mHP, T)])\n",
    "    #mCT_kW = [(4.253264761904763 - 0.00470305*b[2])*a*(b[3]-b[4]) for a, b in zip(mHP, T)]\n",
    "    #Cp*M*deltaT\n",
    "    mCT_kW = [c*a*(b[3]-b[4]) for c, a, b in zip(cP_kjPerkgK,mF_kgPerS, T)]\n",
    "    # sum(mct* 5/3600 (time stamp))  = kWh\n",
    "    mCT2_kWh = sum([m*c*(dt[3]-dt[4])*0.0013888889 for m, c, dt in zip(mF_kgPerS,  cP_kjPerkgK, T)])\n",
    "    #print (T[-1], mHP,'mCpDeltaT =', mCT)\n",
    "    #print ('mCT is:',mCT)\n",
    "    #print ('mF', mF_kgPerS, mHP[-1])\n",
    "    #print (' mCT_kW is:', mCT_kW)\n",
    "    #print ('mCTkWh is ',mCT2_kWh)\n",
    "    return mCT_kW, mCT2_kWh\n",
    "\n",
    "l_id = []\n",
    "\n",
    "def idGenerator(Id, l_id):\n",
    "    if Id not in l_id:\n",
    "       l_id.append(Id) \n",
    "    #print (l_id)\n",
    "    return l_id\n",
    "\n",
    "#df_conc= None\n",
    "def dfs(Lol):\n",
    "    mHP = Lol[2]\n",
    "    T = flatten(Lol)\n",
    "    mL = Lol[1]\n",
    "    StartTemTestingtank = [ 'id', 'dateTime', 'Tamb', 'TtopTestTankHPCir', 'TbottomTestTankHpCir', 'TtopSourceTank', \\\n",
    "'TloadTankMid','TTopTestTankLoadCir', 'TloadMix', 'TbottomSourceTank', 'TbottomTestTankLoadCir']\n",
    "    l_T = ['T{}'.format(x) for x in range(0,10)]\n",
    "    L = StartTemTestingtank +l_T\n",
    "    df_mHP = DataFrame(mHP, columns=['flowHP'])\n",
    "    df_mL = DataFrame(mL, columns=['flowLoad'])\n",
    "    df_tem = DataFrame(T, columns = L)\n",
    "    df_conc = pd.concat([df_tem, df_mHP, df_mL], axis=1)\n",
    "    #print (df_mL)\n",
    "    #print (df_mHP)\n",
    "    #print (df_tem)\n",
    "    #print (df_conc)\n",
    "    return df_conc\n",
    "\n",
    "def tankStrat(df):\n",
    "    dfT = df.iloc[:, 11:-2]\n",
    "    #print (dfT)\n",
    "    return dfT\n",
    "#tankStratTem = tankStrat(df_conc)\n",
    "\n",
    "\n",
    "def create_color_step_obj(cmap_name, n):\n",
    "    \"\"\"\n",
    "    Return scalarMap object with n colors in gradient from color map\n",
    "    given in cmap_name.\n",
    "    \"\"\"\n",
    "    cmap = plt.get_cmap(cmap_name)\n",
    "    values = range(n)\n",
    "    cNorm  = clrs.Normalize(vmin=values[0], vmax=values[-1])\n",
    "    scalarMap = cm.ScalarMappable(norm=cNorm, cmap=cmap)\n",
    "    return scalarMap\n",
    "\n"
   ]
  },
  {
   "cell_type": "code",
   "execution_count": null,
   "id": "anticipated-dream",
   "metadata": {},
   "outputs": [],
   "source": [
    "a1 = deque()\n"
   ]
  },
  {
   "cell_type": "code",
   "execution_count": 145,
   "id": "experienced-librarian",
   "metadata": {
    "scrolled": true
   },
   "outputs": [
    {
     "data": {
      "text/plain": [
       "'cherry'"
      ]
     },
     "execution_count": 145,
     "metadata": {},
     "output_type": "execute_result"
    }
   ],
   "source": [
    "fruits = ['apple', 'banana', 'cherry']\n",
    "fruits.pop()"
   ]
  },
  {
   "cell_type": "code",
   "execution_count": 164,
   "id": "flush-method",
   "metadata": {
    "scrolled": true
   },
   "outputs": [
    {
     "name": "stdout",
     "output_type": "stream",
     "text": [
      "flow rates load is =  0.6340193487350078 0.0039770376912244875 1.3231252342444757\n",
      "flow rates HP is =  0.6340193487350078 0.003971308166207377 -0.4637337145910134\n"
     ]
    },
    {
     "data": {
      "image/png": "[encoded data removed]",
      "text/plain": [
       "<Figure size 432x288 with 1 Axes>"
      ]
     },
     "metadata": {
      "needs_background": "light"
     },
     "output_type": "display_data"
    },
    {
     "data": {
      "text/plain": [
       "<Figure size 432x288 with 0 Axes>"
      ]
     },
     "metadata": {},
     "output_type": "display_data"
    },
    {
     "name": "stdout",
     "output_type": "stream",
     "text": [
      "________________________________________________________________\n",
      "flow rates load is =  0.6400195318460646 0.004014675271898536 3.6902686728639007\n",
      "flow rates HP is =  0.6380194708090458 0.003996363738233922 4.260273039056376\n"
     ]
    },
    {
     "data": {
      "image/png": "[encoded data removed]",
      "text/plain": [
       "<Figure size 432x288 with 1 Axes>"
      ]
     },
     "metadata": {
      "needs_background": "light"
     },
     "output_type": "display_data"
    },
    {
     "data": {
      "text/plain": [
       "<Figure size 432x288 with 0 Axes>"
      ]
     },
     "metadata": {},
     "output_type": "display_data"
    },
    {
     "name": "stdout",
     "output_type": "stream",
     "text": [
      "________________________________________________________________\n",
      "flow rates load is =  0.6320192876979889 0.003964491830999805 0.5340774213713702\n",
      "flow rates HP is =  0.6320192876979889 0.003958780380194105 -2.825737091414544\n"
     ]
    },
    {
     "data": {
      "image/png": "[encoded data removed]",
      "text/plain": [
       "<Figure size 432x288 with 1 Axes>"
      ]
     },
     "metadata": {
      "needs_background": "light"
     },
     "output_type": "display_data"
    },
    {
     "data": {
      "text/plain": [
       "<Figure size 432x288 with 0 Axes>"
      ]
     },
     "metadata": {},
     "output_type": "display_data"
    },
    {
     "name": "stdout",
     "output_type": "stream",
     "text": [
      "________________________________________________________________\n",
      "flow rates load is =  0.6320192876979889 0.003964491830999805 0.5340774213713702\n",
      "flow rates HP is =  0.6300192266609699 0.003946252594180832 -5.187740468238238\n"
     ]
    },
    {
     "data": {
      "image/png": "[encoded data removed]",
      "text/plain": [
       "<Figure size 432x288 with 1 Axes>"
      ]
     },
     "metadata": {
      "needs_background": "light"
     },
     "output_type": "display_data"
    },
    {
     "ename": "KeyboardInterrupt",
     "evalue": "",
     "output_type": "error",
     "traceback": [
      "\u001b[0;31m---------------------------------------------------------------------------\u001b[0m",
      "\u001b[0;31mKeyboardInterrupt\u001b[0m                         Traceback (most recent call last)",
      "\u001b[0;32m<ipython-input-164-7a55c1079c53>\u001b[0m in \u001b[0;36m<module>\u001b[0;34m\u001b[0m\n\u001b[1;32m    283\u001b[0m     \u001b[0;32mfor\u001b[0m \u001b[0mi\u001b[0m \u001b[0;32min\u001b[0m \u001b[0mrange\u001b[0m\u001b[0;34m(\u001b[0m\u001b[0;36m0\u001b[0m\u001b[0;34m,\u001b[0m\u001b[0;36m10\u001b[0m\u001b[0;34m)\u001b[0m\u001b[0;34m:\u001b[0m\u001b[0;34m\u001b[0m\u001b[0;34m\u001b[0m\u001b[0m\n\u001b[1;32m    284\u001b[0m         \u001b[0mx\u001b[0m\u001b[0;34m.\u001b[0m\u001b[0mappendleft\u001b[0m\u001b[0;34m(\u001b[0m\u001b[0mnext\u001b[0m\u001b[0;34m(\u001b[0m\u001b[0mp\u001b[0m\u001b[0;34m)\u001b[0m\u001b[0;34m)\u001b[0m\u001b[0;34m\u001b[0m\u001b[0;34m\u001b[0m\u001b[0m\n\u001b[0;32m--> 285\u001b[0;31m         \u001b[0my\u001b[0m\u001b[0;34m.\u001b[0m\u001b[0mappendleft\u001b[0m\u001b[0;34m(\u001b[0m\u001b[0mnext\u001b[0m\u001b[0;34m(\u001b[0m\u001b[0ml\u001b[0m\u001b[0;34m)\u001b[0m\u001b[0;34m)\u001b[0m\u001b[0;34m\u001b[0m\u001b[0;34m\u001b[0m\u001b[0m\n\u001b[0m\u001b[1;32m    286\u001b[0m         \u001b[0mdatatoplot\u001b[0m \u001b[0;34m=\u001b[0m \u001b[0mx\u001b[0m\u001b[0;34m.\u001b[0m\u001b[0mpop\u001b[0m\u001b[0;34m(\u001b[0m\u001b[0;34m)\u001b[0m\u001b[0;34m\u001b[0m\u001b[0;34m\u001b[0m\u001b[0m\n\u001b[1;32m    287\u001b[0m         \u001b[0mdatatoplot\u001b[0m \u001b[0;34m=\u001b[0m \u001b[0my\u001b[0m\u001b[0;34m.\u001b[0m\u001b[0mpop\u001b[0m\u001b[0;34m(\u001b[0m\u001b[0;34m)\u001b[0m\u001b[0;34m\u001b[0m\u001b[0;34m\u001b[0m\u001b[0m\n",
      "\u001b[0;32m<ipython-input-164-7a55c1079c53>\u001b[0m in \u001b[0;36mgeneratorY\u001b[0;34m()\u001b[0m\n\u001b[1;32m    194\u001b[0m \u001b[0;34m\u001b[0m\u001b[0m\n\u001b[1;32m    195\u001b[0m         \u001b[0;31m#print('________________________________________________________________')\u001b[0m\u001b[0;34m\u001b[0m\u001b[0;34m\u001b[0m\u001b[0;34m\u001b[0m\u001b[0m\n\u001b[0;32m--> 196\u001b[0;31m         \u001b[0mtime\u001b[0m\u001b[0;34m.\u001b[0m\u001b[0msleep\u001b[0m\u001b[0;34m(\u001b[0m\u001b[0;36m0.5\u001b[0m\u001b[0;34m)\u001b[0m\u001b[0;34m\u001b[0m\u001b[0;34m\u001b[0m\u001b[0m\n\u001b[0m\u001b[1;32m    197\u001b[0m \u001b[0;34m\u001b[0m\u001b[0m\n\u001b[1;32m    198\u001b[0m \u001b[0;34m\u001b[0m\u001b[0m\n",
      "\u001b[0;31mKeyboardInterrupt\u001b[0m: "
     ]
    }
   ],
   "source": [
    "def plotObject(df,alpha =0.7):\n",
    "\n",
    "    #plt.ion()\n",
    "    #fig, ax = plt.ion()\n",
    "    #ax.set_xlabel('Index')\n",
    "    #ax.set_ylabel('Tem, C', color='r')\n",
    "    #plt.legend (bbox_to_anchor=(1.4,0.89), fontsize='xx-small', loc='upper right', ncol=2)\n",
    "    for i in range (0, 10):\n",
    "        x = df.index[-1]\n",
    "        y =df.iloc[-1]\n",
    "        #print ('dataframe is :',df)\n",
    "        fig = ax.plot(x, y.iloc[i], label = 'Layer ' + str(10-i), color= scm.to_rgba(10-i, alpha))\n",
    "    #plt.show()\n",
    "    #plt.draw()\n",
    "    #plt.pause(0.05)\n",
    "    return fig\n",
    "\n",
    "\n",
    "\n",
    "\n",
    "'''\n",
    "for i in range (0, 10):\n",
    "    df = \n",
    "    x = df.index[-1]\n",
    "    y =df.iloc[-1]\n",
    "    #print ('dataframe is :',df)\n",
    "    fig = ax.plot(x, y.iloc[i], label = 'Layer ' + str(10-i), color= scm.to_rgba(10-i, 0.7))\n",
    "'''\n",
    "#plotObject(df,alpha =0.7)\n",
    "#tankStrat(dfs(lol))\n",
    "def plotInnerFig(figs, df):\n",
    "    for fi in figs:\n",
    "        fi.set_ydata(df)\n",
    "        plt.draw()\n",
    "        plt.pause(0.5)\n",
    "        plt.show()\n",
    "    return \n",
    "'''\n",
    "def plot(df, fig):\n",
    "    for i in range(0, 10):\n",
    "        x = df.index\n",
    "        y = df\n",
    "        plotInnerFig(fig, df)\n",
    "        \n",
    "        #plt.draw()\n",
    "        #plt.pause(0.5)\n",
    "        #plt.show()\n",
    "    return\n",
    "'''\n",
    "\n",
    "def plot(df, fig):\n",
    "    x = df.index\n",
    "    y = df\n",
    "    Fig = [fi.set_ydata(df) for fi in fig]\n",
    "        \n",
    "    plt.draw()\n",
    "    plt.pause(0.5)\n",
    "    plt.show()\n",
    "    return Fig\n",
    "\n",
    "\n",
    "def generatorX():\n",
    "    while True:\n",
    "        chan1 = AnalogIn(ads, ADS.P0)\n",
    "        chan2 = AnalogIn(ads, ADS.P1)\n",
    "\n",
    "        chan1Vol = chan1.voltage\n",
    "        chan1curr = chan1Vol/159.42\n",
    "\n",
    "        chan2Vol = chan2.voltage\n",
    "        chan2curr=chan2Vol/159.65\n",
    "        #flow1 = ((chan1Vol/159.42)*1000 -4)/16*1000\n",
    "        flow1 = ((chan1Vol/159.42)-0.003956)/0.0000159\n",
    "        #flow2 = ((chan2Vol/159.65)*1000 -4)/16*4000 +20\n",
    "        #flow2 = ((chan2Vol/159.65)- 0.0005468893873066417)/1.09561608e-05\n",
    "        flow2 = ((chan2Vol/159.65)- 0.003973767754877122)/5.3038815e-06\n",
    "        cL.execute(\"INSERT INTO flowReadings(flowHp, flowLoad) VALUES(%s, %s)\", (flow2, flow1))\n",
    "        connectionL.commit()\n",
    "        #print('flow HP:',\"{:>5}\\t{:>5.3f}\".format(chan2.value, chan2.voltage), '\\n\\n')\n",
    "        #print('flow load:',\"{:>5}\\t{:>5.3f}\".format(chan1.value, chan1.voltage, '\\n\\n'))\n",
    "        #print('flow rates load is = ',chan1Vol, chan1curr,flow1 )\n",
    "        #print('flow rates HP is = ',chan2Vol, chan2curr,flow2 )\n",
    "\n",
    "        connectionR = db.Connection(host=HOST, port=PORT,user=USER, passwd=PASSWORD, db=DB)\n",
    "        cR = connectionR.cursor()\n",
    "        #c.execute(\"SELECT * from temSensor\")\n",
    "        cR.execute(\"SELECT * FROM temSensor ORDER BY id DESC LIMIT 1\")\n",
    "        result = cR.fetchall()\n",
    "        id = result[0][0]\n",
    "        idGenerator(id, l_id)\n",
    "        #print ('id is :', id)\n",
    "        flowRateLoad.append(flow1)\n",
    "\n",
    "        if lol[0] ==[] or id < lol[0][-1][0][0] :\n",
    "            lol[0].append(result)\n",
    "            #print (lol)\n",
    "            lol[1].append(flow1)\n",
    "            lol[2].append(flow2)\n",
    "        elif lol[0] != [] and id > lol[0][-1][0][0]:\n",
    "\n",
    "            lol[0].append(result)\n",
    "            lol[1].append(flow1)\n",
    "            lol[2].append(flow2)\n",
    "\n",
    "\n",
    "        mct(lol)\n",
    "        #print ('lol is:',lol)\n",
    "        #dfs(lol)\n",
    "        tankStrat(dfs(lol))\n",
    "        #plot(tankStrat(dfs(lol)), plotObject(tankStrat(dfs(lol))))\n",
    "        #plotObject(tankStrat(dfs(lol)))for i in range (0, 10):\n",
    "        x = tankStrat(dfs(lol)).index[-1]\n",
    "        y =tankStrat(dfs(lol)).iloc[-1]\n",
    "        yield x\n",
    "        #yield y\n",
    "        #for f in fig:\n",
    "        #    f.set_xdata(x)\n",
    "        #    f.set_ydata(y)\n",
    "        #plt.show()\n",
    "        #print('x is ',x, 'y is:', y)\n",
    "        #plt.draw()\n",
    "        #plt.pause(0.05)\n",
    "        #print ('dataframe is :',df)\n",
    "    \n",
    "    \n",
    "    \n",
    "        #print('________________________________________________________________')\n",
    "        time.sleep(0.5)\n",
    "\n",
    "def generatorY():\n",
    "    while True:\n",
    "        chan1 = AnalogIn(ads, ADS.P0)\n",
    "        chan2 = AnalogIn(ads, ADS.P1)\n",
    "\n",
    "        chan1Vol = chan1.voltage\n",
    "        chan1curr = chan1Vol/159.42\n",
    "\n",
    "        chan2Vol = chan2.voltage\n",
    "        chan2curr=chan2Vol/159.65\n",
    "        #flow1 = ((chan1Vol/159.42)*1000 -4)/16*1000\n",
    "        flow1 = ((chan1Vol/159.42)-0.003956)/0.0000159\n",
    "        #flow2 = ((chan2Vol/159.65)*1000 -4)/16*4000 +20\n",
    "        #flow2 = ((chan2Vol/159.65)- 0.0005468893873066417)/1.09561608e-05\n",
    "        flow2 = ((chan2Vol/159.65)- 0.003973767754877122)/5.3038815e-06\n",
    "        cL.execute(\"INSERT INTO flowReadings(flowHp, flowLoad) VALUES(%s, %s)\", (flow2, flow1))\n",
    "        connectionL.commit()\n",
    "        #print('flow HP:',\"{:>5}\\t{:>5.3f}\".format(chan2.value, chan2.voltage), '\\n\\n')\n",
    "        #print('flow load:',\"{:>5}\\t{:>5.3f}\".format(chan1.value, chan1.voltage, '\\n\\n'))\n",
    "        #print('flow rates load is = ',chan1Vol, chan1curr,flow1 )\n",
    "        #print('flow rates HP is = ',chan2Vol, chan2curr,flow2 )\n",
    "\n",
    "        connectionR = db.Connection(host=HOST, port=PORT,user=USER, passwd=PASSWORD, db=DB)\n",
    "        cR = connectionR.cursor()\n",
    "        #c.execute(\"SELECT * from temSensor\")\n",
    "        cR.execute(\"SELECT * FROM temSensor ORDER BY id DESC LIMIT 1\")\n",
    "        result = cR.fetchall()\n",
    "        id = result[0][0]\n",
    "        idGenerator(id, l_id)\n",
    "        #print ('id is :', id)\n",
    "        flowRateLoad.append(flow1)\n",
    "\n",
    "        if lol[0] ==[] or id < lol[0][-1][0][0] :\n",
    "            lol[0].append(result)\n",
    "            #print (lol)\n",
    "            lol[1].append(flow1)\n",
    "            lol[2].append(flow2)\n",
    "        elif lol[0] != [] and id > lol[0][-1][0][0]:\n",
    "\n",
    "            lol[0].append(result)\n",
    "            lol[1].append(flow1)\n",
    "            lol[2].append(flow2)\n",
    "\n",
    "\n",
    "        mct(lol)\n",
    "        #print ('lol is:',lol)\n",
    "        #dfs(lol)\n",
    "        tankStrat(dfs(lol))\n",
    "        #plot(tankStrat(dfs(lol)), plotObject(tankStrat(dfs(lol))))\n",
    "        #plotObject(tankStrat(dfs(lol)))for i in range (0, 10):\n",
    "        x = tankStrat(dfs(lol)).index[-1]\n",
    "        y =tankStrat(dfs(lol)).iloc[-1]\n",
    "        yield y\n",
    "        #yield y\n",
    "        #for f in fig:\n",
    "        #    f.set_xdata(x)\n",
    "        #    f.set_ydata(y)\n",
    "        #plt.show()\n",
    "        #print('x is ',x, 'y is:', y)\n",
    "        #plt.draw()\n",
    "        #plt.pause(0.05)\n",
    "        #print ('dataframe is :',df)\n",
    "    \n",
    "    \n",
    "    \n",
    "        #print('________________________________________________________________')\n",
    "        time.sleep(0.5)\n",
    "    \n",
    "\n",
    "\n",
    "#tankStrat(dfs(lol))\n",
    "#cmap_name = \"jet\"\n",
    "#scm = create_color_step_obj(cmap_name, 10)\n",
    "#plt.ion()\n",
    "#fig, ax = plt.subplots()\n",
    "#plt.legend (bbox_to_anchor=(1.4,0.89), fontsize='xx-small', loc='upper right', ncol=2)\n",
    "#plt.draw()\n",
    "#plt.pause(0.05)\n",
    "#x = np.random.random()\n",
    "#print ('small x is:',x)\n",
    "#y = pd.DataFrame(np.random.randint(0,100,size=(100, 10))).iloc[-1]\n",
    "#print ('small y is :', y)\n",
    "#fig = [plt.plot(x, y.iloc[i], label = 'Layer ' + str(10-i), color= scm.to_rgba(10-i, 0.7)) for i in range (0,10)]\n",
    "#plt.figure()\n",
    "#plt.ion()\n",
    "#for i in range (0, 10):\n",
    "#    plt.ion()\n",
    "#    fig = plt.plot(x, y.iloc[i], label = 'Layer ' + str(10-i), color= scm.to_rgba(10-i, 0.7))\n",
    "#plt.draw()\n",
    "\n",
    "\n",
    "\n",
    "while True:\n",
    "    #c.execute(\"INSERT INTO flowReadings(flowHp, flowLoad) VALUES(?,?,?,?)\", (chan2.voltage, chan1.voltage))\n",
    "    #connection.commit()\n",
    "    chan1 = AnalogIn(ads, ADS.P0)\n",
    "    chan2 = AnalogIn(ads, ADS.P1)\n",
    "\n",
    "    chan1Vol = chan1.voltage\n",
    "    chan1curr = chan1Vol/159.42\n",
    "\n",
    "    chan2Vol = chan2.voltage\n",
    "    chan2curr=chan2Vol/159.65\n",
    "    #flow1 = ((chan1Vol/159.42)*1000 -4)/16*1000\n",
    "    flow1 = ((chan1Vol/159.42)-0.003956)/0.0000159\n",
    "    #flow2 = ((chan2Vol/159.65)*1000 -4)/16*4000 +20\n",
    "    #flow2 = ((chan2Vol/159.65)- 0.0005468893873066417)/1.09561608e-05\n",
    "    flow2 = ((chan2Vol/159.65)- 0.003973767754877122)/5.3038815e-06\n",
    "    cL.execute(\"INSERT INTO flowReadings(flowHp, flowLoad) VALUES(%s, %s)\", (flow2, flow1))\n",
    "    connectionL.commit()\n",
    "    #print('flow HP:',\"{:>5}\\t{:>5.3f}\".format(chan2.value, chan2.voltage), '\\n\\n')\n",
    "    #print('flow load:',\"{:>5}\\t{:>5.3f}\".format(chan1.value, chan1.voltage, '\\n\\n'))\n",
    "    print('flow rates load is = ',chan1Vol, chan1curr,flow1 )\n",
    "    print('flow rates HP is = ',chan2Vol, chan2curr,flow2 )\n",
    "\n",
    "    connectionR = db.Connection(host=HOST, port=PORT,user=USER, passwd=PASSWORD, db=DB)\n",
    "    cR = connectionR.cursor()\n",
    "    #c.execute(\"SELECT * from temSensor\")\n",
    "    cR.execute(\"SELECT * FROM temSensor ORDER BY id DESC LIMIT 1\")\n",
    "    result = cR.fetchall()\n",
    "    id = result[0][0]\n",
    "    idGenerator(id, l_id)\n",
    "    #print ('id is :', id)\n",
    "    flowRateLoad.append(flow1)\n",
    "\n",
    "    if lol[0] ==[] or id < lol[0][-1][0][0] :\n",
    "        lol[0].append(result)\n",
    "        #print (lol)\n",
    "        lol[1].append(flow1)\n",
    "        lol[2].append(flow2)\n",
    "    elif lol[0] != [] and id > lol[0][-1][0][0]:\n",
    "\n",
    "        lol[0].append(result)\n",
    "        lol[1].append(flow1)\n",
    "        lol[2].append(flow2)\n",
    "\n",
    "\n",
    "    mct(lol)\n",
    "    #print ('lol is:',lol)\n",
    "    #dfs(lol)\n",
    "    #tankStrat(dfs(lol))\n",
    "    x = deque([0] *100)\n",
    "    y = deque([0] *100)\n",
    "    ax = plt.axes(xlim=(0, 200), ylim=(0,80))\n",
    "    p = generatorX()\n",
    "    l = generatorY()\n",
    "\n",
    "    \n",
    "    line, = plt.plot(x, y)\n",
    "    plt.ion()\n",
    "    plt.ylim([0,100])\n",
    "    plt.show()\n",
    "\n",
    "    for i in range(0,10):\n",
    "        x.appendleft(next(p))\n",
    "        y.appendleft(next(l))\n",
    "        datatoplot = x.pop()\n",
    "        datatoplot = y.pop()\n",
    "        line.set_ydata(y)\n",
    "        line.set_xdata(x)\n",
    "    plt.draw()\n",
    "    #print a1[0]\n",
    "    #i += 1\n",
    "    time.sleep(0.1)\n",
    "    plt.pause(0.0001) \n",
    "    #plot(tankStrat(dfs(lol)), plotObject(tankStrat(dfs(lol))))\n",
    "    #plotObject(tankStrat(dfs(lol)))for i in range (0, 10):\n",
    "    #x = tankStrat(dfs(lol)).index[-1]\n",
    "    #y =tankStrat(dfs(lol)).iloc[-1]\n",
    "    #yield x\n",
    "    #yield y\n",
    "    #for f in fig:\n",
    "    #    f.set_xdata(x)\n",
    "    #    f.set_ydata(y)\n",
    "    #plt.show()\n",
    "    #print('x is ',x, 'y is:', y)\n",
    "    #plt.draw()\n",
    "    #plt.pause(0.05)\n",
    "    #print ('dataframe is :',df)\n",
    "    \n",
    "    \n",
    "    \n",
    "    print('________________________________________________________________')\n",
    "    time.sleep(0.5)\n"
   ]
  },
  {
   "cell_type": "code",
   "execution_count": 26,
   "id": "different-radio",
   "metadata": {},
   "outputs": [],
   "source": [
    "import numpy as np\n",
    "import pandas as pd\n",
    "df = pd.DataFrame(np.random.randint(0,100,size=(100, 4)), columns=list('ABCD'))"
   ]
  },
  {
   "cell_type": "code",
   "execution_count": 88,
   "id": "dying-empty",
   "metadata": {},
   "outputs": [],
   "source": [
    "x = np.random.random()"
   ]
  },
  {
   "cell_type": "code",
   "execution_count": 94,
   "id": "developing-laptop",
   "metadata": {},
   "outputs": [],
   "source": [
    "df = pd.DataFrame(np.random.randint(0,100,size=(100, 10)))"
   ]
  },
  {
   "cell_type": "code",
   "execution_count": 98,
   "id": "american-practitioner",
   "metadata": {},
   "outputs": [
    {
     "data": {
      "text/plain": [
       "0    65\n",
       "1    29\n",
       "2    88\n",
       "3    67\n",
       "4    77\n",
       "5    78\n",
       "6    68\n",
       "7    78\n",
       "8    56\n",
       "9    95\n",
       "Name: 99, dtype: int32"
      ]
     },
     "execution_count": 98,
     "metadata": {},
     "output_type": "execute_result"
    }
   ],
   "source": [
    "df.iloc[-1]"
   ]
  },
  {
   "cell_type": "code",
   "execution_count": 97,
   "id": "herbal-framing",
   "metadata": {},
   "outputs": [
    {
     "data": {
      "text/plain": [
       "[65, 29, 88, 67, 77, 78, 68, 78, 56, 95]"
      ]
     },
     "execution_count": 97,
     "metadata": {},
     "output_type": "execute_result"
    }
   ],
   "source": [
    "[df.iloc[-1][i] for i in range(0, 10)]"
   ]
  },
  {
   "cell_type": "code",
   "execution_count": 105,
   "id": "abstract-mandate",
   "metadata": {},
   "outputs": [
    {
     "data": {
      "text/plain": [
       "0    89\n",
       "1    41\n",
       "2    59\n",
       "3     1\n",
       "4    22\n",
       "5    63\n",
       "6    46\n",
       "7    74\n",
       "8    90\n",
       "9    36\n",
       "Name: 99, dtype: int32"
      ]
     },
     "execution_count": 105,
     "metadata": {},
     "output_type": "execute_result"
    }
   ],
   "source": [
    "y = pd.DataFrame(np.random.randint(0,100,size=(100, 10)))\n",
    "p =y.iloc[-1]\n",
    "p"
   ]
  },
  {
   "cell_type": "code",
   "execution_count": 15,
   "id": "clear-eating",
   "metadata": {},
   "outputs": [
    {
     "data": {
      "text/html": [
       "<div>\n",
       "<style scoped>\n",
       "    .dataframe tbody tr th:only-of-type {\n",
       "        vertical-align: middle;\n",
       "    }\n",
       "\n",
       "    .dataframe tbody tr th {\n",
       "        vertical-align: top;\n",
       "    }\n",
       "\n",
       "    .dataframe thead th {\n",
       "        text-align: right;\n",
       "    }\n",
       "</style>\n",
       "<table border=\"1\" class=\"dataframe\">\n",
       "  <thead>\n",
       "    <tr style=\"text-align: right;\">\n",
       "      <th></th>\n",
       "      <th>0</th>\n",
       "    </tr>\n",
       "  </thead>\n",
       "  <tbody>\n",
       "    <tr>\n",
       "      <th>0</th>\n",
       "      <td>0.0</td>\n",
       "    </tr>\n",
       "  </tbody>\n",
       "</table>\n",
       "</div>"
      ],
      "text/plain": [
       "     0\n",
       "0  0.0"
      ]
     },
     "execution_count": 15,
     "metadata": {},
     "output_type": "execute_result"
    }
   ],
   "source": [
    "y = pd.DataFrame([0]*10)\n",
    "x = pd.DataFrame(np.zeros(1))\n",
    "x"
   ]
  },
  {
   "cell_type": "code",
   "execution_count": 45,
   "id": "super-australian",
   "metadata": {
    "scrolled": true
   },
   "outputs": [
    {
     "name": "stdout",
     "output_type": "stream",
     "text": [
      "small x is: 230\n",
      "small y is : 0    49\n",
      "1    54\n",
      "2    22\n",
      "3    59\n",
      "4    35\n",
      "5    44\n",
      "6    29\n",
      "7    49\n",
      "8    46\n",
      "9    34\n",
      "Name: 99, dtype: int32\n"
     ]
    },
    {
     "data": {
      "application/javascript": [
       "/* Put everything inside the global mpl namespace */\n",
       "/* global mpl */\n",
       "window.mpl = {};\n",
       "\n",
       "mpl.get_websocket_type = function () {\n",
       "    if (typeof WebSocket !== 'undefined') {\n",
       "        return WebSocket;\n",
       "    } else if (typeof MozWebSocket !== 'undefined') {\n",
       "        return MozWebSocket;\n",
       "    } else {\n",
       "        alert(\n",
       "            'Your browser does not have WebSocket support. ' +\n",
       "                'Please try Chrome, Safari or Firefox ≥ 6. ' +\n",
       "                'Firefox 4 and 5 are also supported but you ' +\n",
       "                'have to enable WebSockets in about:config.'\n",
       "        );\n",
       "    }\n",
       "};\n",
       "\n",
       "mpl.figure = function (figure_id, websocket, ondownload, parent_element) {\n",
       "    this.id = figure_id;\n",
       "\n",
       "    this.ws = websocket;\n",
       "\n",
       "    this.supports_binary = this.ws.binaryType !== undefined;\n",
       "\n",
       "    if (!this.supports_binary) {\n",
       "        var warnings = document.getElementById('mpl-warnings');\n",
       "        if (warnings) {\n",
       "            warnings.style.display = 'block';\n",
       "            warnings.textContent =\n",
       "                'This browser does not support binary websocket messages. ' +\n",
       "                'Performance may be slow.';\n",
       "        }\n",
       "    }\n",
       "\n",
       "    this.imageObj = new Image();\n",
       "\n",
       "    this.context = undefined;\n",
       "    this.message = undefined;\n",
       "    this.canvas = undefined;\n",
       "    this.rubberband_canvas = undefined;\n",
       "    this.rubberband_context = undefined;\n",
       "    this.format_dropdown = undefined;\n",
       "\n",
       "    this.image_mode = 'full';\n",
       "\n",
       "    this.root = document.createElement('div');\n",
       "    this.root.setAttribute('style', 'display: inline-block');\n",
       "    this._root_extra_style(this.root);\n",
       "\n",
       "    parent_element.appendChild(this.root);\n",
       "\n",
       "    this._init_header(this);\n",
       "    this._init_canvas(this);\n",
       "    this._init_toolbar(this);\n",
       "\n",
       "    var fig = this;\n",
       "\n",
       "    this.waiting = false;\n",
       "\n",
       "    this.ws.onopen = function () {\n",
       "        fig.send_message('supports_binary', { value: fig.supports_binary });\n",
       "        fig.send_message('send_image_mode', {});\n",
       "        if (fig.ratio !== 1) {\n",
       "            fig.send_message('set_dpi_ratio', { dpi_ratio: fig.ratio });\n",
       "        }\n",
       "        fig.send_message('refresh', {});\n",
       "    };\n",
       "\n",
       "    this.imageObj.onload = function () {\n",
       "        if (fig.image_mode === 'full') {\n",
       "            // Full images could contain transparency (where diff images\n",
       "            // almost always do), so we need to clear the canvas so that\n",
       "            // there is no ghosting.\n",
       "            fig.context.clearRect(0, 0, fig.canvas.width, fig.canvas.height);\n",
       "        }\n",
       "        fig.context.drawImage(fig.imageObj, 0, 0);\n",
       "    };\n",
       "\n",
       "    this.imageObj.onunload = function () {\n",
       "        fig.ws.close();\n",
       "    };\n",
       "\n",
       "    this.ws.onmessage = this._make_on_message_function(this);\n",
       "\n",
       "    this.ondownload = ondownload;\n",
       "};\n",
       "\n",
       "mpl.figure.prototype._init_header = function () {\n",
       "    var titlebar = document.createElement('div');\n",
       "    titlebar.classList =\n",
       "        'ui-dialog-titlebar ui-widget-header ui-corner-all ui-helper-clearfix';\n",
       "    var titletext = document.createElement('div');\n",
       "    titletext.classList = 'ui-dialog-title';\n",
       "    titletext.setAttribute(\n",
       "        'style',\n",
       "        'width: 100%; text-align: center; padding: 3px;'\n",
       "    );\n",
       "    titlebar.appendChild(titletext);\n",
       "    this.root.appendChild(titlebar);\n",
       "    this.header = titletext;\n",
       "};\n",
       "\n",
       "mpl.figure.prototype._canvas_extra_style = function (_canvas_div) {};\n",
       "\n",
       "mpl.figure.prototype._root_extra_style = function (_canvas_div) {};\n",
       "\n",
       "mpl.figure.prototype._init_canvas = function () {\n",
       "    var fig = this;\n",
       "\n",
       "    var canvas_div = (this.canvas_div = document.createElement('div'));\n",
       "    canvas_div.setAttribute(\n",
       "        'style',\n",
       "        'border: 1px solid #ddd;' +\n",
       "            'box-sizing: content-box;' +\n",
       "            'clear: both;' +\n",
       "            'min-height: 1px;' +\n",
       "            'min-width: 1px;' +\n",
       "            'outline: 0;' +\n",
       "            'overflow: hidden;' +\n",
       "            'position: relative;' +\n",
       "            'resize: both;'\n",
       "    );\n",
       "\n",
       "    function on_keyboard_event_closure(name) {\n",
       "        return function (event) {\n",
       "            return fig.key_event(event, name);\n",
       "        };\n",
       "    }\n",
       "\n",
       "    canvas_div.addEventListener(\n",
       "        'keydown',\n",
       "        on_keyboard_event_closure('key_press')\n",
       "    );\n",
       "    canvas_div.addEventListener(\n",
       "        'keyup',\n",
       "        on_keyboard_event_closure('key_release')\n",
       "    );\n",
       "\n",
       "    this._canvas_extra_style(canvas_div);\n",
       "    this.root.appendChild(canvas_div);\n",
       "\n",
       "    var canvas = (this.canvas = document.createElement('canvas'));\n",
       "    canvas.classList.add('mpl-canvas');\n",
       "    canvas.setAttribute('style', 'box-sizing: content-box;');\n",
       "\n",
       "    this.context = canvas.getContext('2d');\n",
       "\n",
       "    var backingStore =\n",
       "        this.context.backingStorePixelRatio ||\n",
       "        this.context.webkitBackingStorePixelRatio ||\n",
       "        this.context.mozBackingStorePixelRatio ||\n",
       "        this.context.msBackingStorePixelRatio ||\n",
       "        this.context.oBackingStorePixelRatio ||\n",
       "        this.context.backingStorePixelRatio ||\n",
       "        1;\n",
       "\n",
       "    this.ratio = (window.devicePixelRatio || 1) / backingStore;\n",
       "    if (this.ratio !== 1) {\n",
       "        fig.send_message('set_dpi_ratio', { dpi_ratio: this.ratio });\n",
       "    }\n",
       "\n",
       "    var rubberband_canvas = (this.rubberband_canvas = document.createElement(\n",
       "        'canvas'\n",
       "    ));\n",
       "    rubberband_canvas.setAttribute(\n",
       "        'style',\n",
       "        'box-sizing: content-box; position: absolute; left: 0; top: 0; z-index: 1;'\n",
       "    );\n",
       "\n",
       "    // Apply a ponyfill if ResizeObserver is not implemented by browser.\n",
       "    if (this.ResizeObserver === undefined) {\n",
       "        if (window.ResizeObserver !== undefined) {\n",
       "            this.ResizeObserver = window.ResizeObserver;\n",
       "        } else {\n",
       "            var obs = _JSXTOOLS_RESIZE_OBSERVER({});\n",
       "            this.ResizeObserver = obs.ResizeObserver;\n",
       "        }\n",
       "    }\n",
       "\n",
       "    this.resizeObserverInstance = new this.ResizeObserver(function (entries) {\n",
       "        var nentries = entries.length;\n",
       "        for (var i = 0; i < nentries; i++) {\n",
       "            var entry = entries[i];\n",
       "            var width, height;\n",
       "            if (entry.contentBoxSize) {\n",
       "                if (entry.contentBoxSize instanceof Array) {\n",
       "                    // Chrome 84 implements new version of spec.\n",
       "                    width = entry.contentBoxSize[0].inlineSize;\n",
       "                    height = entry.contentBoxSize[0].blockSize;\n",
       "                } else {\n",
       "                    // Firefox implements old version of spec.\n",
       "                    width = entry.contentBoxSize.inlineSize;\n",
       "                    height = entry.contentBoxSize.blockSize;\n",
       "                }\n",
       "            } else {\n",
       "                // Chrome <84 implements even older version of spec.\n",
       "                width = entry.contentRect.width;\n",
       "                height = entry.contentRect.height;\n",
       "            }\n",
       "\n",
       "            // Keep the size of the canvas and rubber band canvas in sync with\n",
       "            // the canvas container.\n",
       "            if (entry.devicePixelContentBoxSize) {\n",
       "                // Chrome 84 implements new version of spec.\n",
       "                canvas.setAttribute(\n",
       "                    'width',\n",
       "                    entry.devicePixelContentBoxSize[0].inlineSize\n",
       "                );\n",
       "                canvas.setAttribute(\n",
       "                    'height',\n",
       "                    entry.devicePixelContentBoxSize[0].blockSize\n",
       "                );\n",
       "            } else {\n",
       "                canvas.setAttribute('width', width * fig.ratio);\n",
       "                canvas.setAttribute('height', height * fig.ratio);\n",
       "            }\n",
       "            canvas.setAttribute(\n",
       "                'style',\n",
       "                'width: ' + width + 'px; height: ' + height + 'px;'\n",
       "            );\n",
       "\n",
       "            rubberband_canvas.setAttribute('width', width);\n",
       "            rubberband_canvas.setAttribute('height', height);\n",
       "\n",
       "            // And update the size in Python. We ignore the initial 0/0 size\n",
       "            // that occurs as the element is placed into the DOM, which should\n",
       "            // otherwise not happen due to the minimum size styling.\n",
       "            if (width != 0 && height != 0) {\n",
       "                fig.request_resize(width, height);\n",
       "            }\n",
       "        }\n",
       "    });\n",
       "    this.resizeObserverInstance.observe(canvas_div);\n",
       "\n",
       "    function on_mouse_event_closure(name) {\n",
       "        return function (event) {\n",
       "            return fig.mouse_event(event, name);\n",
       "        };\n",
       "    }\n",
       "\n",
       "    rubberband_canvas.addEventListener(\n",
       "        'mousedown',\n",
       "        on_mouse_event_closure('button_press')\n",
       "    );\n",
       "    rubberband_canvas.addEventListener(\n",
       "        'mouseup',\n",
       "        on_mouse_event_closure('button_release')\n",
       "    );\n",
       "    // Throttle sequential mouse events to 1 every 20ms.\n",
       "    rubberband_canvas.addEventListener(\n",
       "        'mousemove',\n",
       "        on_mouse_event_closure('motion_notify')\n",
       "    );\n",
       "\n",
       "    rubberband_canvas.addEventListener(\n",
       "        'mouseenter',\n",
       "        on_mouse_event_closure('figure_enter')\n",
       "    );\n",
       "    rubberband_canvas.addEventListener(\n",
       "        'mouseleave',\n",
       "        on_mouse_event_closure('figure_leave')\n",
       "    );\n",
       "\n",
       "    canvas_div.addEventListener('wheel', function (event) {\n",
       "        if (event.deltaY < 0) {\n",
       "            event.step = 1;\n",
       "        } else {\n",
       "            event.step = -1;\n",
       "        }\n",
       "        on_mouse_event_closure('scroll')(event);\n",
       "    });\n",
       "\n",
       "    canvas_div.appendChild(canvas);\n",
       "    canvas_div.appendChild(rubberband_canvas);\n",
       "\n",
       "    this.rubberband_context = rubberband_canvas.getContext('2d');\n",
       "    this.rubberband_context.strokeStyle = '#000000';\n",
       "\n",
       "    this._resize_canvas = function (width, height, forward) {\n",
       "        if (forward) {\n",
       "            canvas_div.style.width = width + 'px';\n",
       "            canvas_div.style.height = height + 'px';\n",
       "        }\n",
       "    };\n",
       "\n",
       "    // Disable right mouse context menu.\n",
       "    this.rubberband_canvas.addEventListener('contextmenu', function (_e) {\n",
       "        event.preventDefault();\n",
       "        return false;\n",
       "    });\n",
       "\n",
       "    function set_focus() {\n",
       "        canvas.focus();\n",
       "        canvas_div.focus();\n",
       "    }\n",
       "\n",
       "    window.setTimeout(set_focus, 100);\n",
       "};\n",
       "\n",
       "mpl.figure.prototype._init_toolbar = function () {\n",
       "    var fig = this;\n",
       "\n",
       "    var toolbar = document.createElement('div');\n",
       "    toolbar.classList = 'mpl-toolbar';\n",
       "    this.root.appendChild(toolbar);\n",
       "\n",
       "    function on_click_closure(name) {\n",
       "        return function (_event) {\n",
       "            return fig.toolbar_button_onclick(name);\n",
       "        };\n",
       "    }\n",
       "\n",
       "    function on_mouseover_closure(tooltip) {\n",
       "        return function (event) {\n",
       "            if (!event.currentTarget.disabled) {\n",
       "                return fig.toolbar_button_onmouseover(tooltip);\n",
       "            }\n",
       "        };\n",
       "    }\n",
       "\n",
       "    fig.buttons = {};\n",
       "    var buttonGroup = document.createElement('div');\n",
       "    buttonGroup.classList = 'mpl-button-group';\n",
       "    for (var toolbar_ind in mpl.toolbar_items) {\n",
       "        var name = mpl.toolbar_items[toolbar_ind][0];\n",
       "        var tooltip = mpl.toolbar_items[toolbar_ind][1];\n",
       "        var image = mpl.toolbar_items[toolbar_ind][2];\n",
       "        var method_name = mpl.toolbar_items[toolbar_ind][3];\n",
       "\n",
       "        if (!name) {\n",
       "            /* Instead of a spacer, we start a new button group. */\n",
       "            if (buttonGroup.hasChildNodes()) {\n",
       "                toolbar.appendChild(buttonGroup);\n",
       "            }\n",
       "            buttonGroup = document.createElement('div');\n",
       "            buttonGroup.classList = 'mpl-button-group';\n",
       "            continue;\n",
       "        }\n",
       "\n",
       "        var button = (fig.buttons[name] = document.createElement('button'));\n",
       "        button.classList = 'mpl-widget';\n",
       "        button.setAttribute('role', 'button');\n",
       "        button.setAttribute('aria-disabled', 'false');\n",
       "        button.addEventListener('click', on_click_closure(method_name));\n",
       "        button.addEventListener('mouseover', on_mouseover_closure(tooltip));\n",
       "\n",
       "        var icon_img = document.createElement('img');\n",
       "        icon_img.src = '_images/' + image + '.png';\n",
       "        icon_img.srcset = '_images/' + image + '_large.png 2x';\n",
       "        icon_img.alt = tooltip;\n",
       "        button.appendChild(icon_img);\n",
       "\n",
       "        buttonGroup.appendChild(button);\n",
       "    }\n",
       "\n",
       "    if (buttonGroup.hasChildNodes()) {\n",
       "        toolbar.appendChild(buttonGroup);\n",
       "    }\n",
       "\n",
       "    var fmt_picker = document.createElement('select');\n",
       "    fmt_picker.classList = 'mpl-widget';\n",
       "    toolbar.appendChild(fmt_picker);\n",
       "    this.format_dropdown = fmt_picker;\n",
       "\n",
       "    for (var ind in mpl.extensions) {\n",
       "        var fmt = mpl.extensions[ind];\n",
       "        var option = document.createElement('option');\n",
       "        option.selected = fmt === mpl.default_extension;\n",
       "        option.innerHTML = fmt;\n",
       "        fmt_picker.appendChild(option);\n",
       "    }\n",
       "\n",
       "    var status_bar = document.createElement('span');\n",
       "    status_bar.classList = 'mpl-message';\n",
       "    toolbar.appendChild(status_bar);\n",
       "    this.message = status_bar;\n",
       "};\n",
       "\n",
       "mpl.figure.prototype.request_resize = function (x_pixels, y_pixels) {\n",
       "    // Request matplotlib to resize the figure. Matplotlib will then trigger a resize in the client,\n",
       "    // which will in turn request a refresh of the image.\n",
       "    this.send_message('resize', { width: x_pixels, height: y_pixels });\n",
       "};\n",
       "\n",
       "mpl.figure.prototype.send_message = function (type, properties) {\n",
       "    properties['type'] = type;\n",
       "    properties['figure_id'] = this.id;\n",
       "    this.ws.send(JSON.stringify(properties));\n",
       "};\n",
       "\n",
       "mpl.figure.prototype.send_draw_message = function () {\n",
       "    if (!this.waiting) {\n",
       "        this.waiting = true;\n",
       "        this.ws.send(JSON.stringify({ type: 'draw', figure_id: this.id }));\n",
       "    }\n",
       "};\n",
       "\n",
       "mpl.figure.prototype.handle_save = function (fig, _msg) {\n",
       "    var format_dropdown = fig.format_dropdown;\n",
       "    var format = format_dropdown.options[format_dropdown.selectedIndex].value;\n",
       "    fig.ondownload(fig, format);\n",
       "};\n",
       "\n",
       "mpl.figure.prototype.handle_resize = function (fig, msg) {\n",
       "    var size = msg['size'];\n",
       "    if (size[0] !== fig.canvas.width || size[1] !== fig.canvas.height) {\n",
       "        fig._resize_canvas(size[0], size[1], msg['forward']);\n",
       "        fig.send_message('refresh', {});\n",
       "    }\n",
       "};\n",
       "\n",
       "mpl.figure.prototype.handle_rubberband = function (fig, msg) {\n",
       "    var x0 = msg['x0'] / fig.ratio;\n",
       "    var y0 = (fig.canvas.height - msg['y0']) / fig.ratio;\n",
       "    var x1 = msg['x1'] / fig.ratio;\n",
       "    var y1 = (fig.canvas.height - msg['y1']) / fig.ratio;\n",
       "    x0 = Math.floor(x0) + 0.5;\n",
       "    y0 = Math.floor(y0) + 0.5;\n",
       "    x1 = Math.floor(x1) + 0.5;\n",
       "    y1 = Math.floor(y1) + 0.5;\n",
       "    var min_x = Math.min(x0, x1);\n",
       "    var min_y = Math.min(y0, y1);\n",
       "    var width = Math.abs(x1 - x0);\n",
       "    var height = Math.abs(y1 - y0);\n",
       "\n",
       "    fig.rubberband_context.clearRect(\n",
       "        0,\n",
       "        0,\n",
       "        fig.canvas.width / fig.ratio,\n",
       "        fig.canvas.height / fig.ratio\n",
       "    );\n",
       "\n",
       "    fig.rubberband_context.strokeRect(min_x, min_y, width, height);\n",
       "};\n",
       "\n",
       "mpl.figure.prototype.handle_figure_label = function (fig, msg) {\n",
       "    // Updates the figure title.\n",
       "    fig.header.textContent = msg['label'];\n",
       "};\n",
       "\n",
       "mpl.figure.prototype.handle_cursor = function (fig, msg) {\n",
       "    var cursor = msg['cursor'];\n",
       "    switch (cursor) {\n",
       "        case 0:\n",
       "            cursor = 'pointer';\n",
       "            break;\n",
       "        case 1:\n",
       "            cursor = 'default';\n",
       "            break;\n",
       "        case 2:\n",
       "            cursor = 'crosshair';\n",
       "            break;\n",
       "        case 3:\n",
       "            cursor = 'move';\n",
       "            break;\n",
       "    }\n",
       "    fig.rubberband_canvas.style.cursor = cursor;\n",
       "};\n",
       "\n",
       "mpl.figure.prototype.handle_message = function (fig, msg) {\n",
       "    fig.message.textContent = msg['message'];\n",
       "};\n",
       "\n",
       "mpl.figure.prototype.handle_draw = function (fig, _msg) {\n",
       "    // Request the server to send over a new figure.\n",
       "    fig.send_draw_message();\n",
       "};\n",
       "\n",
       "mpl.figure.prototype.handle_image_mode = function (fig, msg) {\n",
       "    fig.image_mode = msg['mode'];\n",
       "};\n",
       "\n",
       "mpl.figure.prototype.handle_history_buttons = function (fig, msg) {\n",
       "    for (var key in msg) {\n",
       "        if (!(key in fig.buttons)) {\n",
       "            continue;\n",
       "        }\n",
       "        fig.buttons[key].disabled = !msg[key];\n",
       "        fig.buttons[key].setAttribute('aria-disabled', !msg[key]);\n",
       "    }\n",
       "};\n",
       "\n",
       "mpl.figure.prototype.handle_navigate_mode = function (fig, msg) {\n",
       "    if (msg['mode'] === 'PAN') {\n",
       "        fig.buttons['Pan'].classList.add('active');\n",
       "        fig.buttons['Zoom'].classList.remove('active');\n",
       "    } else if (msg['mode'] === 'ZOOM') {\n",
       "        fig.buttons['Pan'].classList.remove('active');\n",
       "        fig.buttons['Zoom'].classList.add('active');\n",
       "    } else {\n",
       "        fig.buttons['Pan'].classList.remove('active');\n",
       "        fig.buttons['Zoom'].classList.remove('active');\n",
       "    }\n",
       "};\n",
       "\n",
       "mpl.figure.prototype.updated_canvas_event = function () {\n",
       "    // Called whenever the canvas gets updated.\n",
       "    this.send_message('ack', {});\n",
       "};\n",
       "\n",
       "// A function to construct a web socket function for onmessage handling.\n",
       "// Called in the figure constructor.\n",
       "mpl.figure.prototype._make_on_message_function = function (fig) {\n",
       "    return function socket_on_message(evt) {\n",
       "        if (evt.data instanceof Blob) {\n",
       "            /* FIXME: We get \"Resource interpreted as Image but\n",
       "             * transferred with MIME type text/plain:\" errors on\n",
       "             * Chrome.  But how to set the MIME type?  It doesn't seem\n",
       "             * to be part of the websocket stream */\n",
       "            evt.data.type = 'image/png';\n",
       "\n",
       "            /* Free the memory for the previous frames */\n",
       "            if (fig.imageObj.src) {\n",
       "                (window.URL || window.webkitURL).revokeObjectURL(\n",
       "                    fig.imageObj.src\n",
       "                );\n",
       "            }\n",
       "\n",
       "            fig.imageObj.src = (window.URL || window.webkitURL).createObjectURL(\n",
       "                evt.data\n",
       "            );\n",
       "            fig.updated_canvas_event();\n",
       "            fig.waiting = false;\n",
       "            return;\n",
       "        } else if (\n",
       "            typeof evt.data === 'string' &&\n",
       "            evt.data.slice(0, 21) === 'data:image/png;base64'\n",
       "        ) {\n",
       "            fig.imageObj.src = evt.data;\n",
       "            fig.updated_canvas_event();\n",
       "            fig.waiting = false;\n",
       "            return;\n",
       "        }\n",
       "\n",
       "        var msg = JSON.parse(evt.data);\n",
       "        var msg_type = msg['type'];\n",
       "\n",
       "        // Call the  \"handle_{type}\" callback, which takes\n",
       "        // the figure and JSON message as its only arguments.\n",
       "        try {\n",
       "            var callback = fig['handle_' + msg_type];\n",
       "        } catch (e) {\n",
       "            console.log(\n",
       "                \"No handler for the '\" + msg_type + \"' message type: \",\n",
       "                msg\n",
       "            );\n",
       "            return;\n",
       "        }\n",
       "\n",
       "        if (callback) {\n",
       "            try {\n",
       "                // console.log(\"Handling '\" + msg_type + \"' message: \", msg);\n",
       "                callback(fig, msg);\n",
       "            } catch (e) {\n",
       "                console.log(\n",
       "                    \"Exception inside the 'handler_\" + msg_type + \"' callback:\",\n",
       "                    e,\n",
       "                    e.stack,\n",
       "                    msg\n",
       "                );\n",
       "            }\n",
       "        }\n",
       "    };\n",
       "};\n",
       "\n",
       "// from http://stackoverflow.com/questions/1114465/getting-mouse-location-in-canvas\n",
       "mpl.findpos = function (e) {\n",
       "    //this section is from http://www.quirksmode.org/js/events_properties.html\n",
       "    var targ;\n",
       "    if (!e) {\n",
       "        e = window.event;\n",
       "    }\n",
       "    if (e.target) {\n",
       "        targ = e.target;\n",
       "    } else if (e.srcElement) {\n",
       "        targ = e.srcElement;\n",
       "    }\n",
       "    if (targ.nodeType === 3) {\n",
       "        // defeat Safari bug\n",
       "        targ = targ.parentNode;\n",
       "    }\n",
       "\n",
       "    // pageX,Y are the mouse positions relative to the document\n",
       "    var boundingRect = targ.getBoundingClientRect();\n",
       "    var x = e.pageX - (boundingRect.left + document.body.scrollLeft);\n",
       "    var y = e.pageY - (boundingRect.top + document.body.scrollTop);\n",
       "\n",
       "    return { x: x, y: y };\n",
       "};\n",
       "\n",
       "/*\n",
       " * return a copy of an object with only non-object keys\n",
       " * we need this to avoid circular references\n",
       " * http://stackoverflow.com/a/24161582/3208463\n",
       " */\n",
       "function simpleKeys(original) {\n",
       "    return Object.keys(original).reduce(function (obj, key) {\n",
       "        if (typeof original[key] !== 'object') {\n",
       "            obj[key] = original[key];\n",
       "        }\n",
       "        return obj;\n",
       "    }, {});\n",
       "}\n",
       "\n",
       "mpl.figure.prototype.mouse_event = function (event, name) {\n",
       "    var canvas_pos = mpl.findpos(event);\n",
       "\n",
       "    if (name === 'button_press') {\n",
       "        this.canvas.focus();\n",
       "        this.canvas_div.focus();\n",
       "    }\n",
       "\n",
       "    var x = canvas_pos.x * this.ratio;\n",
       "    var y = canvas_pos.y * this.ratio;\n",
       "\n",
       "    this.send_message(name, {\n",
       "        x: x,\n",
       "        y: y,\n",
       "        button: event.button,\n",
       "        step: event.step,\n",
       "        guiEvent: simpleKeys(event),\n",
       "    });\n",
       "\n",
       "    /* This prevents the web browser from automatically changing to\n",
       "     * the text insertion cursor when the button is pressed.  We want\n",
       "     * to control all of the cursor setting manually through the\n",
       "     * 'cursor' event from matplotlib */\n",
       "    event.preventDefault();\n",
       "    return false;\n",
       "};\n",
       "\n",
       "mpl.figure.prototype._key_event_extra = function (_event, _name) {\n",
       "    // Handle any extra behaviour associated with a key event\n",
       "};\n",
       "\n",
       "mpl.figure.prototype.key_event = function (event, name) {\n",
       "    // Prevent repeat events\n",
       "    if (name === 'key_press') {\n",
       "        if (event.which === this._key) {\n",
       "            return;\n",
       "        } else {\n",
       "            this._key = event.which;\n",
       "        }\n",
       "    }\n",
       "    if (name === 'key_release') {\n",
       "        this._key = null;\n",
       "    }\n",
       "\n",
       "    var value = '';\n",
       "    if (event.ctrlKey && event.which !== 17) {\n",
       "        value += 'ctrl+';\n",
       "    }\n",
       "    if (event.altKey && event.which !== 18) {\n",
       "        value += 'alt+';\n",
       "    }\n",
       "    if (event.shiftKey && event.which !== 16) {\n",
       "        value += 'shift+';\n",
       "    }\n",
       "\n",
       "    value += 'k';\n",
       "    value += event.which.toString();\n",
       "\n",
       "    this._key_event_extra(event, name);\n",
       "\n",
       "    this.send_message(name, { key: value, guiEvent: simpleKeys(event) });\n",
       "    return false;\n",
       "};\n",
       "\n",
       "mpl.figure.prototype.toolbar_button_onclick = function (name) {\n",
       "    if (name === 'download') {\n",
       "        this.handle_save(this, null);\n",
       "    } else {\n",
       "        this.send_message('toolbar_button', { name: name });\n",
       "    }\n",
       "};\n",
       "\n",
       "mpl.figure.prototype.toolbar_button_onmouseover = function (tooltip) {\n",
       "    this.message.textContent = tooltip;\n",
       "};\n",
       "\n",
       "///////////////// REMAINING CONTENT GENERATED BY embed_js.py /////////////////\n",
       "// prettier-ignore\n",
       "var _JSXTOOLS_RESIZE_OBSERVER=function(A){var t,i=new WeakMap,n=new WeakMap,a=new WeakMap,r=new WeakMap,o=new Set;function s(e){if(!(this instanceof s))throw new TypeError(\"Constructor requires 'new' operator\");i.set(this,e)}function h(){throw new TypeError(\"Function is not a constructor\")}function c(e,t,i,n){e=0 in arguments?Number(arguments[0]):0,t=1 in arguments?Number(arguments[1]):0,i=2 in arguments?Number(arguments[2]):0,n=3 in arguments?Number(arguments[3]):0,this.right=(this.x=this.left=e)+(this.width=i),this.bottom=(this.y=this.top=t)+(this.height=n),Object.freeze(this)}function d(){t=requestAnimationFrame(d);var s=new WeakMap,p=new Set;o.forEach((function(t){r.get(t).forEach((function(i){var r=t instanceof window.SVGElement,o=a.get(t),d=r?0:parseFloat(o.paddingTop),f=r?0:parseFloat(o.paddingRight),l=r?0:parseFloat(o.paddingBottom),u=r?0:parseFloat(o.paddingLeft),g=r?0:parseFloat(o.borderTopWidth),m=r?0:parseFloat(o.borderRightWidth),w=r?0:parseFloat(o.borderBottomWidth),b=u+f,F=d+l,v=(r?0:parseFloat(o.borderLeftWidth))+m,W=g+w,y=r?0:t.offsetHeight-W-t.clientHeight,E=r?0:t.offsetWidth-v-t.clientWidth,R=b+v,z=F+W,M=r?t.width:parseFloat(o.width)-R-E,O=r?t.height:parseFloat(o.height)-z-y;if(n.has(t)){var k=n.get(t);if(k[0]===M&&k[1]===O)return}n.set(t,[M,O]);var S=Object.create(h.prototype);S.target=t,S.contentRect=new c(u,d,M,O),s.has(i)||(s.set(i,[]),p.add(i)),s.get(i).push(S)}))})),p.forEach((function(e){i.get(e).call(e,s.get(e),e)}))}return s.prototype.observe=function(i){if(i instanceof window.Element){r.has(i)||(r.set(i,new Set),o.add(i),a.set(i,window.getComputedStyle(i)));var n=r.get(i);n.has(this)||n.add(this),cancelAnimationFrame(t),t=requestAnimationFrame(d)}},s.prototype.unobserve=function(i){if(i instanceof window.Element&&r.has(i)){var n=r.get(i);n.has(this)&&(n.delete(this),n.size||(r.delete(i),o.delete(i))),n.size||r.delete(i),o.size||cancelAnimationFrame(t)}},A.DOMRectReadOnly=c,A.ResizeObserver=s,A.ResizeObserverEntry=h,A}; // eslint-disable-line\n",
       "mpl.toolbar_items = [[\"Home\", \"Reset original view\", \"fa fa-home icon-home\", \"home\"], [\"Back\", \"Back to previous view\", \"fa fa-arrow-left icon-arrow-left\", \"back\"], [\"Forward\", \"Forward to next view\", \"fa fa-arrow-right icon-arrow-right\", \"forward\"], [\"\", \"\", \"\", \"\"], [\"Pan\", \"Left button pans, Right button zooms\\nx/y fixes axis, CTRL fixes aspect\", \"fa fa-arrows icon-move\", \"pan\"], [\"Zoom\", \"Zoom to rectangle\\nx/y fixes axis, CTRL fixes aspect\", \"fa fa-square-o icon-check-empty\", \"zoom\"], [\"\", \"\", \"\", \"\"], [\"Download\", \"Download plot\", \"fa fa-floppy-o icon-save\", \"download\"]];\n",
       "\n",
       "mpl.extensions = [\"eps\", \"jpeg\", \"pdf\", \"png\", \"ps\", \"raw\", \"svg\", \"tif\"];\n",
       "\n",
       "mpl.default_extension = \"png\";/* global mpl */\n",
       "\n",
       "var comm_websocket_adapter = function (comm) {\n",
       "    // Create a \"websocket\"-like object which calls the given IPython comm\n",
       "    // object with the appropriate methods. Currently this is a non binary\n",
       "    // socket, so there is still some room for performance tuning.\n",
       "    var ws = {};\n",
       "\n",
       "    ws.close = function () {\n",
       "        comm.close();\n",
       "    };\n",
       "    ws.send = function (m) {\n",
       "        //console.log('sending', m);\n",
       "        comm.send(m);\n",
       "    };\n",
       "    // Register the callback with on_msg.\n",
       "    comm.on_msg(function (msg) {\n",
       "        //console.log('receiving', msg['content']['data'], msg);\n",
       "        // Pass the mpl event to the overridden (by mpl) onmessage function.\n",
       "        ws.onmessage(msg['content']['data']);\n",
       "    });\n",
       "    return ws;\n",
       "};\n",
       "\n",
       "mpl.mpl_figure_comm = function (comm, msg) {\n",
       "    // This is the function which gets called when the mpl process\n",
       "    // starts-up an IPython Comm through the \"matplotlib\" channel.\n",
       "\n",
       "    var id = msg.content.data.id;\n",
       "    // Get hold of the div created by the display call when the Comm\n",
       "    // socket was opened in Python.\n",
       "    var element = document.getElementById(id);\n",
       "    var ws_proxy = comm_websocket_adapter(comm);\n",
       "\n",
       "    function ondownload(figure, _format) {\n",
       "        window.open(figure.canvas.toDataURL());\n",
       "    }\n",
       "\n",
       "    var fig = new mpl.figure(id, ws_proxy, ondownload, element);\n",
       "\n",
       "    // Call onopen now - mpl needs it, as it is assuming we've passed it a real\n",
       "    // web socket which is closed, not our websocket->open comm proxy.\n",
       "    ws_proxy.onopen();\n",
       "\n",
       "    fig.parent_element = element;\n",
       "    fig.cell_info = mpl.find_output_cell(\"<div id='\" + id + \"'></div>\");\n",
       "    if (!fig.cell_info) {\n",
       "        console.error('Failed to find cell for figure', id, fig);\n",
       "        return;\n",
       "    }\n",
       "    fig.cell_info[0].output_area.element.on(\n",
       "        'cleared',\n",
       "        { fig: fig },\n",
       "        fig._remove_fig_handler\n",
       "    );\n",
       "};\n",
       "\n",
       "mpl.figure.prototype.handle_close = function (fig, msg) {\n",
       "    var width = fig.canvas.width / fig.ratio;\n",
       "    fig.cell_info[0].output_area.element.off(\n",
       "        'cleared',\n",
       "        fig._remove_fig_handler\n",
       "    );\n",
       "    fig.resizeObserverInstance.unobserve(fig.canvas_div);\n",
       "\n",
       "    // Update the output cell to use the data from the current canvas.\n",
       "    fig.push_to_output();\n",
       "    var dataURL = fig.canvas.toDataURL();\n",
       "    // Re-enable the keyboard manager in IPython - without this line, in FF,\n",
       "    // the notebook keyboard shortcuts fail.\n",
       "    IPython.keyboard_manager.enable();\n",
       "    fig.parent_element.innerHTML =\n",
       "        '<img src=\"' + dataURL + '\" width=\"' + width + '\">';\n",
       "    fig.close_ws(fig, msg);\n",
       "};\n",
       "\n",
       "mpl.figure.prototype.close_ws = function (fig, msg) {\n",
       "    fig.send_message('closing', msg);\n",
       "    // fig.ws.close()\n",
       "};\n",
       "\n",
       "mpl.figure.prototype.push_to_output = function (_remove_interactive) {\n",
       "    // Turn the data on the canvas into data in the output cell.\n",
       "    var width = this.canvas.width / this.ratio;\n",
       "    var dataURL = this.canvas.toDataURL();\n",
       "    this.cell_info[1]['text/html'] =\n",
       "        '<img src=\"' + dataURL + '\" width=\"' + width + '\">';\n",
       "};\n",
       "\n",
       "mpl.figure.prototype.updated_canvas_event = function () {\n",
       "    // Tell IPython that the notebook contents must change.\n",
       "    IPython.notebook.set_dirty(true);\n",
       "    this.send_message('ack', {});\n",
       "    var fig = this;\n",
       "    // Wait a second, then push the new image to the DOM so\n",
       "    // that it is saved nicely (might be nice to debounce this).\n",
       "    setTimeout(function () {\n",
       "        fig.push_to_output();\n",
       "    }, 1000);\n",
       "};\n",
       "\n",
       "mpl.figure.prototype._init_toolbar = function () {\n",
       "    var fig = this;\n",
       "\n",
       "    var toolbar = document.createElement('div');\n",
       "    toolbar.classList = 'btn-toolbar';\n",
       "    this.root.appendChild(toolbar);\n",
       "\n",
       "    function on_click_closure(name) {\n",
       "        return function (_event) {\n",
       "            return fig.toolbar_button_onclick(name);\n",
       "        };\n",
       "    }\n",
       "\n",
       "    function on_mouseover_closure(tooltip) {\n",
       "        return function (event) {\n",
       "            if (!event.currentTarget.disabled) {\n",
       "                return fig.toolbar_button_onmouseover(tooltip);\n",
       "            }\n",
       "        };\n",
       "    }\n",
       "\n",
       "    fig.buttons = {};\n",
       "    var buttonGroup = document.createElement('div');\n",
       "    buttonGroup.classList = 'btn-group';\n",
       "    var button;\n",
       "    for (var toolbar_ind in mpl.toolbar_items) {\n",
       "        var name = mpl.toolbar_items[toolbar_ind][0];\n",
       "        var tooltip = mpl.toolbar_items[toolbar_ind][1];\n",
       "        var image = mpl.toolbar_items[toolbar_ind][2];\n",
       "        var method_name = mpl.toolbar_items[toolbar_ind][3];\n",
       "\n",
       "        if (!name) {\n",
       "            /* Instead of a spacer, we start a new button group. */\n",
       "            if (buttonGroup.hasChildNodes()) {\n",
       "                toolbar.appendChild(buttonGroup);\n",
       "            }\n",
       "            buttonGroup = document.createElement('div');\n",
       "            buttonGroup.classList = 'btn-group';\n",
       "            continue;\n",
       "        }\n",
       "\n",
       "        button = fig.buttons[name] = document.createElement('button');\n",
       "        button.classList = 'btn btn-default';\n",
       "        button.href = '#';\n",
       "        button.title = name;\n",
       "        button.innerHTML = '<i class=\"fa ' + image + ' fa-lg\"></i>';\n",
       "        button.addEventListener('click', on_click_closure(method_name));\n",
       "        button.addEventListener('mouseover', on_mouseover_closure(tooltip));\n",
       "        buttonGroup.appendChild(button);\n",
       "    }\n",
       "\n",
       "    if (buttonGroup.hasChildNodes()) {\n",
       "        toolbar.appendChild(buttonGroup);\n",
       "    }\n",
       "\n",
       "    // Add the status bar.\n",
       "    var status_bar = document.createElement('span');\n",
       "    status_bar.classList = 'mpl-message pull-right';\n",
       "    toolbar.appendChild(status_bar);\n",
       "    this.message = status_bar;\n",
       "\n",
       "    // Add the close button to the window.\n",
       "    var buttongrp = document.createElement('div');\n",
       "    buttongrp.classList = 'btn-group inline pull-right';\n",
       "    button = document.createElement('button');\n",
       "    button.classList = 'btn btn-mini btn-primary';\n",
       "    button.href = '#';\n",
       "    button.title = 'Stop Interaction';\n",
       "    button.innerHTML = '<i class=\"fa fa-power-off icon-remove icon-large\"></i>';\n",
       "    button.addEventListener('click', function (_evt) {\n",
       "        fig.handle_close(fig, {});\n",
       "    });\n",
       "    button.addEventListener(\n",
       "        'mouseover',\n",
       "        on_mouseover_closure('Stop Interaction')\n",
       "    );\n",
       "    buttongrp.appendChild(button);\n",
       "    var titlebar = this.root.querySelector('.ui-dialog-titlebar');\n",
       "    titlebar.insertBefore(buttongrp, titlebar.firstChild);\n",
       "};\n",
       "\n",
       "mpl.figure.prototype._remove_fig_handler = function (event) {\n",
       "    var fig = event.data.fig;\n",
       "    if (event.target !== this) {\n",
       "        // Ignore bubbled events from children.\n",
       "        return;\n",
       "    }\n",
       "    fig.close_ws(fig, {});\n",
       "};\n",
       "\n",
       "mpl.figure.prototype._root_extra_style = function (el) {\n",
       "    el.style.boxSizing = 'content-box'; // override notebook setting of border-box.\n",
       "};\n",
       "\n",
       "mpl.figure.prototype._canvas_extra_style = function (el) {\n",
       "    // this is important to make the div 'focusable\n",
       "    el.setAttribute('tabindex', 0);\n",
       "    // reach out to IPython and tell the keyboard manager to turn it's self\n",
       "    // off when our div gets focus\n",
       "\n",
       "    // location in version 3\n",
       "    if (IPython.notebook.keyboard_manager) {\n",
       "        IPython.notebook.keyboard_manager.register_events(el);\n",
       "    } else {\n",
       "        // location in version 2\n",
       "        IPython.keyboard_manager.register_events(el);\n",
       "    }\n",
       "};\n",
       "\n",
       "mpl.figure.prototype._key_event_extra = function (event, _name) {\n",
       "    var manager = IPython.notebook.keyboard_manager;\n",
       "    if (!manager) {\n",
       "        manager = IPython.keyboard_manager;\n",
       "    }\n",
       "\n",
       "    // Check for shift+enter\n",
       "    if (event.shiftKey && event.which === 13) {\n",
       "        this.canvas_div.blur();\n",
       "        // select the cell after this one\n",
       "        var index = IPython.notebook.find_cell_index(this.cell_info[0]);\n",
       "        IPython.notebook.select(index + 1);\n",
       "    }\n",
       "};\n",
       "\n",
       "mpl.figure.prototype.handle_save = function (fig, _msg) {\n",
       "    fig.ondownload(fig, null);\n",
       "};\n",
       "\n",
       "mpl.find_output_cell = function (html_output) {\n",
       "    // Return the cell and output element which can be found *uniquely* in the notebook.\n",
       "    // Note - this is a bit hacky, but it is done because the \"notebook_saving.Notebook\"\n",
       "    // IPython event is triggered only after the cells have been serialised, which for\n",
       "    // our purposes (turning an active figure into a static one), is too late.\n",
       "    var cells = IPython.notebook.get_cells();\n",
       "    var ncells = cells.length;\n",
       "    for (var i = 0; i < ncells; i++) {\n",
       "        var cell = cells[i];\n",
       "        if (cell.cell_type === 'code') {\n",
       "            for (var j = 0; j < cell.output_area.outputs.length; j++) {\n",
       "                var data = cell.output_area.outputs[j];\n",
       "                if (data.data) {\n",
       "                    // IPython >= 3 moved mimebundle to data attribute of output\n",
       "                    data = data.data;\n",
       "                }\n",
       "                if (data['text/html'] === html_output) {\n",
       "                    return [cell, data, j];\n",
       "                }\n",
       "            }\n",
       "        }\n",
       "    }\n",
       "};\n",
       "\n",
       "// Register the function which deals with the matplotlib target/channel.\n",
       "// The kernel may be null if the page has been refreshed.\n",
       "if (IPython.notebook.kernel !== null) {\n",
       "    IPython.notebook.kernel.comm_manager.register_target(\n",
       "        'matplotlib',\n",
       "        mpl.mpl_figure_comm\n",
       "    );\n",
       "}\n"
      ],
      "text/plain": [
       "<IPython.core.display.Javascript object>"
      ]
     },
     "metadata": {},
     "output_type": "display_data"
    },
    {
     "data": {
      "text/html": [
       "<div id='a592a47a-de88-4439-ab66-90f879485e8a'></div>"
      ],
      "text/plain": [
       "<IPython.core.display.HTML object>"
      ]
     },
     "metadata": {},
     "output_type": "display_data"
    },
    {
     "name": "stdout",
     "output_type": "stream",
     "text": [
      "flow rates load is =  0.6300192266609699 0.003951945970775122 -0.25497039150178974\n",
      "flow rates HP is =  0.6320192876979889 0.003958780380194105 -2.825737091414544\n",
      "x is  713 y is: T0    29.4243\n",
      "T1    27.9343\n",
      "T2    26.2758\n",
      "T3    25.1255\n",
      "T4    24.2799\n",
      "T5    34.5087\n",
      "T6    34.4409\n",
      "T7    33.8304\n",
      "T8    32.5757\n",
      "T9    31.1860\n",
      "Name: 713, dtype: float64\n",
      "________________________________________________________________\n",
      "flow rates load is =  0.6320192876979889 0.003964491830999805 0.5340774213713702\n",
      "flow rates HP is =  0.6360194097720268 0.003983835952220649 1.898269662232681\n",
      "x is  713 y is: T0    29.4243\n",
      "T1    27.9343\n",
      "T2    26.2758\n",
      "T3    25.1255\n",
      "T4    24.2799\n",
      "T5    34.5087\n",
      "T6    34.4409\n",
      "T7    33.8304\n",
      "T8    32.5757\n",
      "T9    31.1860\n",
      "Name: 713, dtype: float64\n",
      "________________________________________________________________\n",
      "flow rates load is =  0.6380194708090458 0.004002129411673854 2.9012208599907954\n",
      "flow rates HP is =  0.6360194097720268 0.003983835952220649 1.898269662232681\n",
      "x is  713 y is: T0    29.4243\n",
      "T1    27.9343\n",
      "T2    26.2758\n",
      "T3    25.1255\n",
      "T4    24.2799\n",
      "T5    34.5087\n",
      "T6    34.4409\n",
      "T7    33.8304\n",
      "T8    32.5757\n",
      "T9    31.1860\n",
      "Name: 713, dtype: float64\n",
      "________________________________________________________________\n",
      "flow rates load is =  0.6340193487350078 0.0039770376912244875 1.3231252342444757\n",
      "flow rates HP is =  0.6300192266609699 0.003946252594180832 -5.187740468238238\n",
      "x is  713 y is: T0    29.4243\n",
      "T1    27.9343\n",
      "T2    26.2758\n",
      "T3    25.1255\n",
      "T4    24.2799\n",
      "T5    34.5087\n",
      "T6    34.4409\n",
      "T7    33.8304\n",
      "T8    32.5757\n",
      "T9    31.1860\n",
      "Name: 713, dtype: float64\n",
      "________________________________________________________________\n",
      "flow rates load is =  0.6320192876979889 0.003964491830999805 0.5340774213713702\n",
      "flow rates HP is =  0.6340193487350078 0.003971308166207377 -0.4637337145910134\n",
      "x is  713 y is: T0    29.4243\n",
      "T1    27.9343\n",
      "T2    26.2758\n",
      "T3    25.1255\n",
      "T4    24.2799\n",
      "T5    34.5087\n",
      "T6    34.4409\n",
      "T7    33.8304\n",
      "T8    32.5757\n",
      "T9    31.1860\n",
      "Name: 713, dtype: float64\n",
      "________________________________________________________________\n",
      "flow rates load is =  0.6340193487350078 0.0039770376912244875 1.3231252342444757\n",
      "flow rates HP is =  0.6300192266609699 0.003946252594180832 -5.187740468238238\n",
      "x is  713 y is: T0    29.4243\n",
      "T1    27.9343\n",
      "T2    26.2758\n",
      "T3    25.1255\n",
      "T4    24.2799\n",
      "T5    34.5087\n",
      "T6    34.4409\n",
      "T7    33.8304\n",
      "T8    32.5757\n",
      "T9    31.1860\n",
      "Name: 713, dtype: float64\n",
      "________________________________________________________________\n",
      "flow rates load is =  0.6340193487350078 0.0039770376912244875 1.3231252342444757\n",
      "flow rates HP is =  0.6340193487350078 0.003971308166207377 -0.4637337145910134\n",
      "x is  713 y is: T0    29.4243\n",
      "T1    27.9343\n",
      "T2    26.2758\n",
      "T3    25.1255\n",
      "T4    24.2799\n",
      "T5    34.5087\n",
      "T6    34.4409\n",
      "T7    33.8304\n",
      "T8    32.5757\n",
      "T9    31.1860\n",
      "Name: 713, dtype: float64\n",
      "________________________________________________________________\n",
      "flow rates load is =  0.6300192266609699 0.003951945970775122 -0.25497039150178974\n",
      "flow rates HP is =  0.6320192876979889 0.003958780380194105 -2.825737091414544\n",
      "x is  713 y is: T0    29.4243\n",
      "T1    27.9343\n",
      "T2    26.2758\n",
      "T3    25.1255\n",
      "T4    24.2799\n",
      "T5    34.5087\n",
      "T6    34.4409\n",
      "T7    33.8304\n",
      "T8    32.5757\n",
      "T9    31.1860\n",
      "Name: 713, dtype: float64\n",
      "________________________________________________________________\n",
      "flow rates load is =  0.6320192876979889 0.003964491830999805 0.5340774213713702\n",
      "flow rates HP is =  0.6300192266609699 0.003946252594180832 -5.187740468238238\n",
      "x is  713 y is: T0    29.4243\n",
      "T1    27.9343\n",
      "T2    26.2758\n",
      "T3    25.1255\n",
      "T4    24.2799\n",
      "T5    34.5087\n",
      "T6    34.4409\n",
      "T7    33.8304\n",
      "T8    32.5757\n",
      "T9    31.1860\n",
      "Name: 713, dtype: float64\n",
      "________________________________________________________________\n",
      "flow rates load is =  0.6380194708090458 0.004002129411673854 2.9012208599907954\n",
      "flow rates HP is =  0.6380194708090458 0.003996363738233922 4.260273039056376\n",
      "x is  714 y is: T0    29.3904\n",
      "T1    27.9343\n",
      "T2    26.2758\n",
      "T3    25.0916\n",
      "T4    24.2799\n",
      "T5    34.4748\n",
      "T6    34.4409\n",
      "T7    33.7964\n",
      "T8    32.5757\n",
      "T9    31.1521\n",
      "Name: 714, dtype: float64\n",
      "________________________________________________________________\n",
      "flow rates load is =  0.6360194097720268 0.003989583551449171 2.1121730471176354\n",
      "flow rates HP is =  0.6340193487350078 0.003971308166207377 -0.4637337145910134\n",
      "x is  714 y is: T0    29.3904\n",
      "T1    27.9343\n",
      "T2    26.2758\n",
      "T3    25.0916\n",
      "T4    24.2799\n",
      "T5    34.4748\n",
      "T6    34.4409\n",
      "T7    33.7964\n",
      "T8    32.5757\n",
      "T9    31.1521\n",
      "Name: 714, dtype: float64\n",
      "________________________________________________________________\n",
      "flow rates load is =  0.6340193487350078 0.0039770376912244875 1.3231252342444757\n",
      "flow rates HP is =  0.6300192266609699 0.003946252594180832 -5.187740468238238\n",
      "x is  714 y is: T0    29.3904\n",
      "T1    27.9343\n",
      "T2    26.2758\n",
      "T3    25.0916\n",
      "T4    24.2799\n",
      "T5    34.4748\n",
      "T6    34.4409\n",
      "T7    33.7964\n",
      "T8    32.5757\n",
      "T9    31.1521\n",
      "Name: 714, dtype: float64\n",
      "________________________________________________________________\n",
      "flow rates load is =  0.6320192876979889 0.003964491830999805 0.5340774213713702\n",
      "flow rates HP is =  0.6300192266609699 0.003946252594180832 -5.187740468238238\n",
      "x is  714 y is: T0    29.3904\n",
      "T1    27.9343\n",
      "T2    26.2758\n",
      "T3    25.0916\n",
      "T4    24.2799\n",
      "T5    34.4748\n",
      "T6    34.4409\n",
      "T7    33.7964\n",
      "T8    32.5757\n",
      "T9    31.1521\n",
      "Name: 714, dtype: float64\n",
      "________________________________________________________________\n",
      "flow rates load is =  0.6360194097720268 0.003989583551449171 2.1121730471176354\n",
      "flow rates HP is =  0.6340193487350078 0.003971308166207377 -0.4637337145910134\n",
      "x is  714 y is: T0    29.3904\n",
      "T1    27.9343\n",
      "T2    26.2758\n",
      "T3    25.0916\n",
      "T4    24.2799\n",
      "T5    34.4748\n",
      "T6    34.4409\n",
      "T7    33.7964\n",
      "T8    32.5757\n",
      "T9    31.1521\n",
      "Name: 714, dtype: float64\n",
      "________________________________________________________________\n",
      "flow rates load is =  0.6320192876979889 0.003964491830999805 0.5340774213713702\n",
      "flow rates HP is =  0.6340193487350078 0.003971308166207377 -0.4637337145910134\n",
      "x is  714 y is: T0    29.3904\n",
      "T1    27.9343\n",
      "T2    26.2758\n",
      "T3    25.0916\n",
      "T4    24.2799\n",
      "T5    34.4748\n",
      "T6    34.4409\n",
      "T7    33.7964\n",
      "T8    32.5757\n",
      "T9    31.1521\n",
      "Name: 714, dtype: float64\n",
      "________________________________________________________________\n",
      "flow rates load is =  0.6340193487350078 0.0039770376912244875 1.3231252342444757\n",
      "flow rates HP is =  0.6340193487350078 0.003971308166207377 -0.4637337145910134\n",
      "x is  714 y is: T0    29.3904\n",
      "T1    27.9343\n",
      "T2    26.2758\n",
      "T3    25.0916\n",
      "T4    24.2799\n",
      "T5    34.4748\n",
      "T6    34.4409\n",
      "T7    33.7964\n",
      "T8    32.5757\n",
      "T9    31.1521\n",
      "Name: 714, dtype: float64\n",
      "________________________________________________________________\n",
      "flow rates load is =  0.6360194097720268 0.003989583551449171 2.1121730471176354\n",
      "flow rates HP is =  0.6340193487350078 0.003971308166207377 -0.4637337145910134\n",
      "x is  714 y is: T0    29.3904\n",
      "T1    27.9343\n",
      "T2    26.2758\n",
      "T3    25.0916\n",
      "T4    24.2799\n",
      "T5    34.4748\n",
      "T6    34.4409\n",
      "T7    33.7964\n",
      "T8    32.5757\n",
      "T9    31.1521\n",
      "Name: 714, dtype: float64\n",
      "________________________________________________________________\n",
      "flow rates load is =  0.6380194708090458 0.004002129411673854 2.9012208599907954\n",
      "flow rates HP is =  0.6360194097720268 0.003983835952220649 1.898269662232681\n",
      "x is  714 y is: T0    29.3904\n",
      "T1    27.9343\n",
      "T2    26.2758\n",
      "T3    25.0916\n",
      "T4    24.2799\n",
      "T5    34.4748\n",
      "T6    34.4409\n",
      "T7    33.7964\n",
      "T8    32.5757\n",
      "T9    31.1521\n",
      "Name: 714, dtype: float64\n",
      "________________________________________________________________\n",
      "flow rates load is =  0.6360194097720268 0.003989583551449171 2.1121730471176354\n",
      "flow rates HP is =  0.6340193487350078 0.003971308166207377 -0.4637337145910134\n",
      "x is  714 y is: T0    29.3904\n",
      "T1    27.9343\n",
      "T2    26.2758\n",
      "T3    25.0916\n",
      "T4    24.2799\n",
      "T5    34.4748\n",
      "T6    34.4409\n",
      "T7    33.7964\n",
      "T8    32.5757\n",
      "T9    31.1521\n",
      "Name: 714, dtype: float64\n",
      "________________________________________________________________\n",
      "flow rates load is =  0.6380194708090458 0.004002129411673854 2.9012208599907954\n",
      "flow rates HP is =  0.6360194097720268 0.003983835952220649 1.898269662232681\n",
      "x is  715 y is: T0    29.3904\n",
      "T1    27.9343\n",
      "T2    26.2758\n",
      "T3    25.0916\n",
      "T4    24.2799\n",
      "T5    34.4748\n",
      "T6    34.4409\n",
      "T7    33.7964\n",
      "T8    32.5757\n",
      "T9    31.1521\n",
      "Name: 715, dtype: float64\n",
      "________________________________________________________________\n",
      "flow rates load is =  0.6340193487350078 0.0039770376912244875 1.3231252342444757\n",
      "flow rates HP is =  0.6340193487350078 0.003971308166207377 -0.4637337145910134\n",
      "x is  715 y is: T0    29.3904\n",
      "T1    27.9343\n",
      "T2    26.2758\n",
      "T3    25.0916\n",
      "T4    24.2799\n",
      "T5    34.4748\n",
      "T6    34.4409\n",
      "T7    33.7964\n",
      "T8    32.5757\n",
      "T9    31.1521\n",
      "Name: 715, dtype: float64\n",
      "________________________________________________________________\n"
     ]
    },
    {
     "name": "stdout",
     "output_type": "stream",
     "text": [
      "flow rates load is =  0.6400195318460646 0.004014675271898536 3.6902686728639007\n",
      "flow rates HP is =  0.6360194097720268 0.003983835952220649 1.898269662232681\n",
      "x is  715 y is: T0    29.3904\n",
      "T1    27.9343\n",
      "T2    26.2758\n",
      "T3    25.0916\n",
      "T4    24.2799\n",
      "T5    34.4748\n",
      "T6    34.4409\n",
      "T7    33.7964\n",
      "T8    32.5757\n",
      "T9    31.1521\n",
      "Name: 715, dtype: float64\n",
      "________________________________________________________________\n",
      "flow rates load is =  0.6300192266609699 0.003951945970775122 -0.25497039150178974\n",
      "flow rates HP is =  0.6340193487350078 0.003971308166207377 -0.4637337145910134\n",
      "x is  715 y is: T0    29.3904\n",
      "T1    27.9343\n",
      "T2    26.2758\n",
      "T3    25.0916\n",
      "T4    24.2799\n",
      "T5    34.4748\n",
      "T6    34.4409\n",
      "T7    33.7964\n",
      "T8    32.5757\n",
      "T9    31.1521\n",
      "Name: 715, dtype: float64\n",
      "________________________________________________________________\n",
      "flow rates load is =  0.6340193487350078 0.0039770376912244875 1.3231252342444757\n",
      "flow rates HP is =  0.6340193487350078 0.003971308166207377 -0.4637337145910134\n",
      "x is  715 y is: T0    29.3904\n",
      "T1    27.9343\n",
      "T2    26.2758\n",
      "T3    25.0916\n",
      "T4    24.2799\n",
      "T5    34.4748\n",
      "T6    34.4409\n",
      "T7    33.7964\n",
      "T8    32.5757\n",
      "T9    31.1521\n",
      "Name: 715, dtype: float64\n",
      "________________________________________________________________\n",
      "flow rates load is =  0.6340193487350078 0.0039770376912244875 1.3231252342444757\n",
      "flow rates HP is =  0.6340193487350078 0.003971308166207377 -0.4637337145910134\n",
      "x is  715 y is: T0    29.3904\n",
      "T1    27.9343\n",
      "T2    26.2758\n",
      "T3    25.0916\n",
      "T4    24.2799\n",
      "T5    34.4748\n",
      "T6    34.4409\n",
      "T7    33.7964\n",
      "T8    32.5757\n",
      "T9    31.1521\n",
      "Name: 715, dtype: float64\n",
      "________________________________________________________________\n",
      "flow rates load is =  0.6320192876979889 0.003964491830999805 0.5340774213713702\n",
      "flow rates HP is =  0.6340193487350078 0.003971308166207377 -0.4637337145910134\n",
      "x is  715 y is: T0    29.3904\n",
      "T1    27.9343\n",
      "T2    26.2758\n",
      "T3    25.0916\n",
      "T4    24.2799\n",
      "T5    34.4748\n",
      "T6    34.4409\n",
      "T7    33.7964\n",
      "T8    32.5757\n",
      "T9    31.1521\n",
      "Name: 715, dtype: float64\n",
      "________________________________________________________________\n",
      "flow rates load is =  0.6320192876979889 0.003964491830999805 0.5340774213713702\n",
      "flow rates HP is =  0.6340193487350078 0.003971308166207377 -0.4637337145910134\n",
      "x is  715 y is: T0    29.3904\n",
      "T1    27.9343\n",
      "T2    26.2758\n",
      "T3    25.0916\n",
      "T4    24.2799\n",
      "T5    34.4748\n",
      "T6    34.4409\n",
      "T7    33.7964\n",
      "T8    32.5757\n",
      "T9    31.1521\n",
      "Name: 715, dtype: float64\n",
      "________________________________________________________________\n",
      "flow rates load is =  0.6320192876979889 0.003964491830999805 0.5340774213713702\n",
      "flow rates HP is =  0.6340193487350078 0.003971308166207377 -0.4637337145910134\n",
      "x is  715 y is: T0    29.3904\n",
      "T1    27.9343\n",
      "T2    26.2758\n",
      "T3    25.0916\n",
      "T4    24.2799\n",
      "T5    34.4748\n",
      "T6    34.4409\n",
      "T7    33.7964\n",
      "T8    32.5757\n",
      "T9    31.1521\n",
      "Name: 715, dtype: float64\n",
      "________________________________________________________________\n",
      "flow rates load is =  0.6360194097720268 0.003989583551449171 2.1121730471176354\n",
      "flow rates HP is =  0.6380194708090458 0.003996363738233922 4.260273039056376\n",
      "x is  715 y is: T0    29.3904\n",
      "T1    27.9343\n",
      "T2    26.2758\n",
      "T3    25.0916\n",
      "T4    24.2799\n",
      "T5    34.4748\n",
      "T6    34.4409\n",
      "T7    33.7964\n",
      "T8    32.5757\n",
      "T9    31.1521\n",
      "Name: 715, dtype: float64\n",
      "________________________________________________________________\n",
      "flow rates load is =  0.6320192876979889 0.003964491830999805 0.5340774213713702\n",
      "flow rates HP is =  0.6300192266609699 0.003946252594180832 -5.187740468238238\n",
      "x is  715 y is: T0    29.3904\n",
      "T1    27.9343\n",
      "T2    26.2758\n",
      "T3    25.0916\n",
      "T4    24.2799\n",
      "T5    34.4748\n",
      "T6    34.4409\n",
      "T7    33.7964\n",
      "T8    32.5757\n",
      "T9    31.1521\n",
      "Name: 715, dtype: float64\n",
      "________________________________________________________________\n",
      "flow rates load is =  0.6340193487350078 0.0039770376912244875 1.3231252342444757\n",
      "flow rates HP is =  0.6340193487350078 0.003971308166207377 -0.4637337145910134\n",
      "x is  716 y is: T0    29.3904\n",
      "T1    27.9343\n",
      "T2    26.2758\n",
      "T3    25.1255\n",
      "T4    24.2799\n",
      "T5    34.4748\n",
      "T6    34.4409\n",
      "T7    33.7964\n",
      "T8    32.5757\n",
      "T9    31.1521\n",
      "Name: 716, dtype: float64\n",
      "________________________________________________________________\n",
      "flow rates load is =  0.6340193487350078 0.0039770376912244875 1.3231252342444757\n",
      "flow rates HP is =  0.6340193487350078 0.003971308166207377 -0.4637337145910134\n",
      "x is  716 y is: T0    29.3904\n",
      "T1    27.9343\n",
      "T2    26.2758\n",
      "T3    25.1255\n",
      "T4    24.2799\n",
      "T5    34.4748\n",
      "T6    34.4409\n",
      "T7    33.7964\n",
      "T8    32.5757\n",
      "T9    31.1521\n",
      "Name: 716, dtype: float64\n",
      "________________________________________________________________\n",
      "flow rates load is =  0.6340193487350078 0.0039770376912244875 1.3231252342444757\n",
      "flow rates HP is =  0.6360194097720268 0.003983835952220649 1.898269662232681\n",
      "x is  716 y is: T0    29.3904\n",
      "T1    27.9343\n",
      "T2    26.2758\n",
      "T3    25.1255\n",
      "T4    24.2799\n",
      "T5    34.4748\n",
      "T6    34.4409\n",
      "T7    33.7964\n",
      "T8    32.5757\n",
      "T9    31.1521\n",
      "Name: 716, dtype: float64\n",
      "________________________________________________________________\n",
      "flow rates load is =  0.6320192876979889 0.003964491830999805 0.5340774213713702\n",
      "flow rates HP is =  0.6300192266609699 0.003946252594180832 -5.187740468238238\n",
      "x is  716 y is: T0    29.3904\n",
      "T1    27.9343\n",
      "T2    26.2758\n",
      "T3    25.1255\n",
      "T4    24.2799\n",
      "T5    34.4748\n",
      "T6    34.4409\n",
      "T7    33.7964\n",
      "T8    32.5757\n",
      "T9    31.1521\n",
      "Name: 716, dtype: float64\n",
      "________________________________________________________________\n",
      "flow rates load is =  0.6320192876979889 0.003964491830999805 0.5340774213713702\n",
      "flow rates HP is =  0.6340193487350078 0.003971308166207377 -0.4637337145910134\n",
      "x is  716 y is: T0    29.3904\n",
      "T1    27.9343\n",
      "T2    26.2758\n",
      "T3    25.1255\n",
      "T4    24.2799\n",
      "T5    34.4748\n",
      "T6    34.4409\n",
      "T7    33.7964\n",
      "T8    32.5757\n",
      "T9    31.1521\n",
      "Name: 716, dtype: float64\n",
      "________________________________________________________________\n",
      "flow rates load is =  0.6380194708090458 0.004002129411673854 2.9012208599907954\n",
      "flow rates HP is =  0.6340193487350078 0.003971308166207377 -0.4637337145910134\n",
      "x is  716 y is: T0    29.3904\n",
      "T1    27.9343\n",
      "T2    26.2758\n",
      "T3    25.1255\n",
      "T4    24.2799\n",
      "T5    34.4748\n",
      "T6    34.4409\n",
      "T7    33.7964\n",
      "T8    32.5757\n",
      "T9    31.1521\n",
      "Name: 716, dtype: float64\n",
      "________________________________________________________________\n",
      "flow rates load is =  0.6300192266609699 0.003951945970775122 -0.25497039150178974\n",
      "flow rates HP is =  0.6340193487350078 0.003971308166207377 -0.4637337145910134\n",
      "x is  716 y is: T0    29.3904\n",
      "T1    27.9343\n",
      "T2    26.2758\n",
      "T3    25.1255\n",
      "T4    24.2799\n",
      "T5    34.4748\n",
      "T6    34.4409\n",
      "T7    33.7964\n",
      "T8    32.5757\n",
      "T9    31.1521\n",
      "Name: 716, dtype: float64\n",
      "________________________________________________________________\n",
      "flow rates load is =  0.6340193487350078 0.0039770376912244875 1.3231252342444757\n",
      "flow rates HP is =  0.6380194708090458 0.003996363738233922 4.260273039056376\n",
      "x is  716 y is: T0    29.3904\n",
      "T1    27.9343\n",
      "T2    26.2758\n",
      "T3    25.1255\n",
      "T4    24.2799\n",
      "T5    34.4748\n",
      "T6    34.4409\n",
      "T7    33.7964\n",
      "T8    32.5757\n",
      "T9    31.1521\n",
      "Name: 716, dtype: float64\n",
      "________________________________________________________________\n",
      "flow rates load is =  0.6340193487350078 0.0039770376912244875 1.3231252342444757\n",
      "flow rates HP is =  0.6360194097720268 0.003983835952220649 1.898269662232681\n",
      "x is  716 y is: T0    29.3904\n",
      "T1    27.9343\n",
      "T2    26.2758\n",
      "T3    25.1255\n",
      "T4    24.2799\n",
      "T5    34.4748\n",
      "T6    34.4409\n",
      "T7    33.7964\n",
      "T8    32.5757\n",
      "T9    31.1521\n",
      "Name: 716, dtype: float64\n",
      "________________________________________________________________\n",
      "flow rates load is =  0.6360194097720268 0.003989583551449171 2.1121730471176354\n",
      "flow rates HP is =  0.6380194708090458 0.003996363738233922 4.260273039056376\n",
      "x is  716 y is: T0    29.3904\n",
      "T1    27.9343\n",
      "T2    26.2758\n",
      "T3    25.1255\n",
      "T4    24.2799\n",
      "T5    34.4748\n",
      "T6    34.4409\n",
      "T7    33.7964\n",
      "T8    32.5757\n",
      "T9    31.1521\n",
      "Name: 716, dtype: float64\n",
      "________________________________________________________________\n",
      "flow rates load is =  0.6300192266609699 0.003951945970775122 -0.25497039150178974\n",
      "flow rates HP is =  0.6340193487350078 0.003971308166207377 -0.4637337145910134\n",
      "x is  716 y is: T0    29.3904\n",
      "T1    27.9343\n",
      "T2    26.2758\n",
      "T3    25.1255\n",
      "T4    24.2799\n",
      "T5    34.4748\n",
      "T6    34.4409\n",
      "T7    33.7964\n",
      "T8    32.5757\n",
      "T9    31.1521\n",
      "Name: 716, dtype: float64\n",
      "________________________________________________________________\n",
      "flow rates load is =  0.6340193487350078 0.0039770376912244875 1.3231252342444757\n",
      "flow rates HP is =  0.6340193487350078 0.003971308166207377 -0.4637337145910134\n",
      "x is  717 y is: T0    29.3904\n",
      "T1    27.9343\n",
      "T2    26.2758\n",
      "T3    25.1255\n",
      "T4    24.2799\n",
      "T5    34.4748\n",
      "T6    34.4409\n",
      "T7    33.7964\n",
      "T8    32.5418\n",
      "T9    31.1521\n",
      "Name: 717, dtype: float64\n",
      "________________________________________________________________\n"
     ]
    },
    {
     "name": "stdout",
     "output_type": "stream",
     "text": [
      "flow rates load is =  0.6320192876979889 0.003964491830999805 0.5340774213713702\n",
      "flow rates HP is =  0.6380194708090458 0.003996363738233922 4.260273039056376\n",
      "x is  717 y is: T0    29.3904\n",
      "T1    27.9343\n",
      "T2    26.2758\n",
      "T3    25.1255\n",
      "T4    24.2799\n",
      "T5    34.4748\n",
      "T6    34.4409\n",
      "T7    33.7964\n",
      "T8    32.5418\n",
      "T9    31.1521\n",
      "Name: 717, dtype: float64\n",
      "________________________________________________________________\n",
      "flow rates load is =  0.6360194097720268 0.003989583551449171 2.1121730471176354\n",
      "flow rates HP is =  0.6340193487350078 0.003971308166207377 -0.4637337145910134\n",
      "x is  717 y is: T0    29.3904\n",
      "T1    27.9343\n",
      "T2    26.2758\n",
      "T3    25.1255\n",
      "T4    24.2799\n",
      "T5    34.4748\n",
      "T6    34.4409\n",
      "T7    33.7964\n",
      "T8    32.5418\n",
      "T9    31.1521\n",
      "Name: 717, dtype: float64\n",
      "________________________________________________________________\n",
      "flow rates load is =  0.6320192876979889 0.003964491830999805 0.5340774213713702\n",
      "flow rates HP is =  0.6340193487350078 0.003971308166207377 -0.4637337145910134\n",
      "x is  717 y is: T0    29.3904\n",
      "T1    27.9343\n",
      "T2    26.2758\n",
      "T3    25.1255\n",
      "T4    24.2799\n",
      "T5    34.4748\n",
      "T6    34.4409\n",
      "T7    33.7964\n",
      "T8    32.5418\n",
      "T9    31.1521\n",
      "Name: 717, dtype: float64\n",
      "________________________________________________________________\n",
      "flow rates load is =  0.6360194097720268 0.003989583551449171 2.1121730471176354\n",
      "flow rates HP is =  0.6340193487350078 0.003971308166207377 -0.4637337145910134\n",
      "x is  717 y is: T0    29.3904\n",
      "T1    27.9343\n",
      "T2    26.2758\n",
      "T3    25.1255\n",
      "T4    24.2799\n",
      "T5    34.4748\n",
      "T6    34.4409\n",
      "T7    33.7964\n",
      "T8    32.5418\n",
      "T9    31.1521\n",
      "Name: 717, dtype: float64\n",
      "________________________________________________________________\n",
      "flow rates load is =  0.6300192266609699 0.003951945970775122 -0.25497039150178974\n",
      "flow rates HP is =  0.6340193487350078 0.003971308166207377 -0.4637337145910134\n",
      "x is  717 y is: T0    29.3904\n",
      "T1    27.9343\n",
      "T2    26.2758\n",
      "T3    25.1255\n",
      "T4    24.2799\n",
      "T5    34.4748\n",
      "T6    34.4409\n",
      "T7    33.7964\n",
      "T8    32.5418\n",
      "T9    31.1521\n",
      "Name: 717, dtype: float64\n",
      "________________________________________________________________\n",
      "flow rates load is =  0.6340193487350078 0.0039770376912244875 1.3231252342444757\n",
      "flow rates HP is =  0.6300192266609699 0.003946252594180832 -5.187740468238238\n",
      "x is  717 y is: T0    29.3904\n",
      "T1    27.9343\n",
      "T2    26.2758\n",
      "T3    25.1255\n",
      "T4    24.2799\n",
      "T5    34.4748\n",
      "T6    34.4409\n",
      "T7    33.7964\n",
      "T8    32.5418\n",
      "T9    31.1521\n",
      "Name: 717, dtype: float64\n",
      "________________________________________________________________\n",
      "flow rates load is =  0.6380194708090458 0.004002129411673854 2.9012208599907954\n",
      "flow rates HP is =  0.6360194097720268 0.003983835952220649 1.898269662232681\n",
      "x is  717 y is: T0    29.3904\n",
      "T1    27.9343\n",
      "T2    26.2758\n",
      "T3    25.1255\n",
      "T4    24.2799\n",
      "T5    34.4748\n",
      "T6    34.4409\n",
      "T7    33.7964\n",
      "T8    32.5418\n",
      "T9    31.1521\n",
      "Name: 717, dtype: float64\n",
      "________________________________________________________________\n",
      "flow rates load is =  0.6280191656239509 0.003939400110550439 -1.0440182043749497\n",
      "flow rates HP is =  0.6320192876979889 0.003958780380194105 -2.825737091414544\n",
      "x is  717 y is: T0    29.3904\n",
      "T1    27.9343\n",
      "T2    26.2758\n",
      "T3    25.1255\n",
      "T4    24.2799\n",
      "T5    34.4748\n",
      "T6    34.4409\n",
      "T7    33.7964\n",
      "T8    32.5418\n",
      "T9    31.1521\n",
      "Name: 717, dtype: float64\n",
      "________________________________________________________________\n",
      "flow rates load is =  0.6340193487350078 0.0039770376912244875 1.3231252342444757\n",
      "flow rates HP is =  0.6340193487350078 0.003971308166207377 -0.4637337145910134\n",
      "x is  717 y is: T0    29.3904\n",
      "T1    27.9343\n",
      "T2    26.2758\n",
      "T3    25.1255\n",
      "T4    24.2799\n",
      "T5    34.4748\n",
      "T6    34.4409\n",
      "T7    33.7964\n",
      "T8    32.5418\n",
      "T9    31.1521\n",
      "Name: 717, dtype: float64\n",
      "________________________________________________________________\n",
      "flow rates load is =  0.6340193487350078 0.0039770376912244875 1.3231252342444757\n",
      "flow rates HP is =  0.6340193487350078 0.003971308166207377 -0.4637337145910134\n",
      "x is  717 y is: T0    29.3904\n",
      "T1    27.9343\n",
      "T2    26.2758\n",
      "T3    25.1255\n",
      "T4    24.2799\n",
      "T5    34.4748\n",
      "T6    34.4409\n",
      "T7    33.7964\n",
      "T8    32.5418\n",
      "T9    31.1521\n",
      "Name: 717, dtype: float64\n",
      "________________________________________________________________\n",
      "flow rates load is =  0.6300192266609699 0.003951945970775122 -0.25497039150178974\n",
      "flow rates HP is =  0.6340193487350078 0.003971308166207377 -0.4637337145910134\n",
      "x is  718 y is: T0    29.3904\n",
      "T1    27.9343\n",
      "T2    26.2758\n",
      "T3    25.1255\n",
      "T4    24.2799\n",
      "T5    34.4748\n",
      "T6    34.4409\n",
      "T7    33.7964\n",
      "T8    32.5418\n",
      "T9    31.1521\n",
      "Name: 718, dtype: float64\n",
      "________________________________________________________________\n",
      "flow rates load is =  0.6340193487350078 0.0039770376912244875 1.3231252342444757\n",
      "flow rates HP is =  0.6340193487350078 0.003971308166207377 -0.4637337145910134\n",
      "x is  718 y is: T0    29.3904\n",
      "T1    27.9343\n",
      "T2    26.2758\n",
      "T3    25.1255\n",
      "T4    24.2799\n",
      "T5    34.4748\n",
      "T6    34.4409\n",
      "T7    33.7964\n",
      "T8    32.5418\n",
      "T9    31.1521\n",
      "Name: 718, dtype: float64\n",
      "________________________________________________________________\n",
      "flow rates load is =  0.6320192876979889 0.003964491830999805 0.5340774213713702\n",
      "flow rates HP is =  0.6340193487350078 0.003971308166207377 -0.4637337145910134\n"
     ]
    },
    {
     "ename": "KeyboardInterrupt",
     "evalue": "",
     "output_type": "error",
     "traceback": [
      "\u001b[0;31m---------------------------------------------------------------------------\u001b[0m",
      "\u001b[0;31mKeyboardInterrupt\u001b[0m                         Traceback (most recent call last)",
      "\u001b[0;32m<ipython-input-45-789726cc8584>\u001b[0m in \u001b[0;36m<module>\u001b[0;34m\u001b[0m\n\u001b[1;32m    124\u001b[0m     \u001b[0;31m#plot(tankStrat(dfs(lol)), plotObject(tankStrat(dfs(lol))))\u001b[0m\u001b[0;34m\u001b[0m\u001b[0;34m\u001b[0m\u001b[0;34m\u001b[0m\u001b[0m\n\u001b[1;32m    125\u001b[0m     \u001b[0;31m#plotObject(tankStrat(dfs(lol)))for i in range (0, 10):\u001b[0m\u001b[0;34m\u001b[0m\u001b[0;34m\u001b[0m\u001b[0;34m\u001b[0m\u001b[0m\n\u001b[0;32m--> 126\u001b[0;31m     \u001b[0mx\u001b[0m \u001b[0;34m=\u001b[0m \u001b[0mtankStrat\u001b[0m\u001b[0;34m(\u001b[0m\u001b[0mdfs\u001b[0m\u001b[0;34m(\u001b[0m\u001b[0mlol\u001b[0m\u001b[0;34m)\u001b[0m\u001b[0;34m)\u001b[0m\u001b[0;34m.\u001b[0m\u001b[0mindex\u001b[0m\u001b[0;34m[\u001b[0m\u001b[0;34m-\u001b[0m\u001b[0;36m1\u001b[0m\u001b[0;34m]\u001b[0m\u001b[0;34m\u001b[0m\u001b[0;34m\u001b[0m\u001b[0m\n\u001b[0m\u001b[1;32m    127\u001b[0m     \u001b[0my\u001b[0m \u001b[0;34m=\u001b[0m\u001b[0mtankStrat\u001b[0m\u001b[0;34m(\u001b[0m\u001b[0mdfs\u001b[0m\u001b[0;34m(\u001b[0m\u001b[0mlol\u001b[0m\u001b[0;34m)\u001b[0m\u001b[0;34m)\u001b[0m\u001b[0;34m.\u001b[0m\u001b[0miloc\u001b[0m\u001b[0;34m[\u001b[0m\u001b[0;34m-\u001b[0m\u001b[0;36m1\u001b[0m\u001b[0;34m]\u001b[0m\u001b[0;34m\u001b[0m\u001b[0;34m\u001b[0m\u001b[0m\n\u001b[1;32m    128\u001b[0m     '''\n",
      "\u001b[0;32m<ipython-input-1-4e637144f420>\u001b[0m in \u001b[0;36mdfs\u001b[0;34m(Lol)\u001b[0m\n\u001b[1;32m    125\u001b[0m     \u001b[0ml_T\u001b[0m \u001b[0;34m=\u001b[0m \u001b[0;34m[\u001b[0m\u001b[0;34m'T{}'\u001b[0m\u001b[0;34m.\u001b[0m\u001b[0mformat\u001b[0m\u001b[0;34m(\u001b[0m\u001b[0mx\u001b[0m\u001b[0;34m)\u001b[0m \u001b[0;32mfor\u001b[0m \u001b[0mx\u001b[0m \u001b[0;32min\u001b[0m \u001b[0mrange\u001b[0m\u001b[0;34m(\u001b[0m\u001b[0;36m0\u001b[0m\u001b[0;34m,\u001b[0m\u001b[0;36m10\u001b[0m\u001b[0;34m)\u001b[0m\u001b[0;34m]\u001b[0m\u001b[0;34m\u001b[0m\u001b[0;34m\u001b[0m\u001b[0m\n\u001b[1;32m    126\u001b[0m     \u001b[0mL\u001b[0m \u001b[0;34m=\u001b[0m \u001b[0mStartTemTestingtank\u001b[0m \u001b[0;34m+\u001b[0m\u001b[0ml_T\u001b[0m\u001b[0;34m\u001b[0m\u001b[0;34m\u001b[0m\u001b[0m\n\u001b[0;32m--> 127\u001b[0;31m     \u001b[0mdf_mHP\u001b[0m \u001b[0;34m=\u001b[0m \u001b[0mDataFrame\u001b[0m\u001b[0;34m(\u001b[0m\u001b[0mmHP\u001b[0m\u001b[0;34m,\u001b[0m \u001b[0mcolumns\u001b[0m\u001b[0;34m=\u001b[0m\u001b[0;34m[\u001b[0m\u001b[0;34m'flowHP'\u001b[0m\u001b[0;34m]\u001b[0m\u001b[0;34m)\u001b[0m\u001b[0;34m\u001b[0m\u001b[0;34m\u001b[0m\u001b[0m\n\u001b[0m\u001b[1;32m    128\u001b[0m     \u001b[0mdf_mL\u001b[0m \u001b[0;34m=\u001b[0m \u001b[0mDataFrame\u001b[0m\u001b[0;34m(\u001b[0m\u001b[0mmL\u001b[0m\u001b[0;34m,\u001b[0m \u001b[0mcolumns\u001b[0m\u001b[0;34m=\u001b[0m\u001b[0;34m[\u001b[0m\u001b[0;34m'flowLoad'\u001b[0m\u001b[0;34m]\u001b[0m\u001b[0;34m)\u001b[0m\u001b[0;34m\u001b[0m\u001b[0;34m\u001b[0m\u001b[0m\n\u001b[1;32m    129\u001b[0m     \u001b[0mdf_tem\u001b[0m \u001b[0;34m=\u001b[0m \u001b[0mDataFrame\u001b[0m\u001b[0;34m(\u001b[0m\u001b[0mT\u001b[0m\u001b[0;34m,\u001b[0m \u001b[0mcolumns\u001b[0m \u001b[0;34m=\u001b[0m \u001b[0mL\u001b[0m\u001b[0;34m)\u001b[0m\u001b[0;34m\u001b[0m\u001b[0;34m\u001b[0m\u001b[0m\n",
      "\u001b[0;32m/usr/local/lib/python3.7/dist-packages/pandas/core/frame.py\u001b[0m in \u001b[0;36m__init__\u001b[0;34m(self, data, index, columns, dtype, copy)\u001b[0m\n\u001b[1;32m    521\u001b[0m                     \u001b[0mmgr\u001b[0m \u001b[0;34m=\u001b[0m \u001b[0marrays_to_mgr\u001b[0m\u001b[0;34m(\u001b[0m\u001b[0marrays\u001b[0m\u001b[0;34m,\u001b[0m \u001b[0mcolumns\u001b[0m\u001b[0;34m,\u001b[0m \u001b[0mindex\u001b[0m\u001b[0;34m,\u001b[0m \u001b[0mcolumns\u001b[0m\u001b[0;34m,\u001b[0m \u001b[0mdtype\u001b[0m\u001b[0;34m=\u001b[0m\u001b[0mdtype\u001b[0m\u001b[0;34m)\u001b[0m\u001b[0;34m\u001b[0m\u001b[0;34m\u001b[0m\u001b[0m\n\u001b[1;32m    522\u001b[0m                 \u001b[0;32melse\u001b[0m\u001b[0;34m:\u001b[0m\u001b[0;34m\u001b[0m\u001b[0;34m\u001b[0m\u001b[0m\n\u001b[0;32m--> 523\u001b[0;31m                     \u001b[0mmgr\u001b[0m \u001b[0;34m=\u001b[0m \u001b[0minit_ndarray\u001b[0m\u001b[0;34m(\u001b[0m\u001b[0mdata\u001b[0m\u001b[0;34m,\u001b[0m \u001b[0mindex\u001b[0m\u001b[0;34m,\u001b[0m \u001b[0mcolumns\u001b[0m\u001b[0;34m,\u001b[0m \u001b[0mdtype\u001b[0m\u001b[0;34m=\u001b[0m\u001b[0mdtype\u001b[0m\u001b[0;34m,\u001b[0m \u001b[0mcopy\u001b[0m\u001b[0;34m=\u001b[0m\u001b[0mcopy\u001b[0m\u001b[0;34m)\u001b[0m\u001b[0;34m\u001b[0m\u001b[0;34m\u001b[0m\u001b[0m\n\u001b[0m\u001b[1;32m    524\u001b[0m             \u001b[0;32melse\u001b[0m\u001b[0;34m:\u001b[0m\u001b[0;34m\u001b[0m\u001b[0;34m\u001b[0m\u001b[0m\n\u001b[1;32m    525\u001b[0m                 \u001b[0mmgr\u001b[0m \u001b[0;34m=\u001b[0m \u001b[0minit_dict\u001b[0m\u001b[0;34m(\u001b[0m\u001b[0;34m{\u001b[0m\u001b[0;34m}\u001b[0m\u001b[0;34m,\u001b[0m \u001b[0mindex\u001b[0m\u001b[0;34m,\u001b[0m \u001b[0mcolumns\u001b[0m\u001b[0;34m,\u001b[0m \u001b[0mdtype\u001b[0m\u001b[0;34m=\u001b[0m\u001b[0mdtype\u001b[0m\u001b[0;34m)\u001b[0m\u001b[0;34m\u001b[0m\u001b[0;34m\u001b[0m\u001b[0m\n",
      "\u001b[0;32m/usr/local/lib/python3.7/dist-packages/pandas/core/internals/construction.py\u001b[0m in \u001b[0;36minit_ndarray\u001b[0;34m(values, index, columns, dtype, copy)\u001b[0m\n\u001b[1;32m    202\u001b[0m     \u001b[0;31m# _prep_ndarray ensures that values.ndim == 2 at this point\u001b[0m\u001b[0;34m\u001b[0m\u001b[0;34m\u001b[0m\u001b[0;34m\u001b[0m\u001b[0m\n\u001b[1;32m    203\u001b[0m     index, columns = _get_axes(\n\u001b[0;32m--> 204\u001b[0;31m         \u001b[0mvalues\u001b[0m\u001b[0;34m.\u001b[0m\u001b[0mshape\u001b[0m\u001b[0;34m[\u001b[0m\u001b[0;36m0\u001b[0m\u001b[0;34m]\u001b[0m\u001b[0;34m,\u001b[0m \u001b[0mvalues\u001b[0m\u001b[0;34m.\u001b[0m\u001b[0mshape\u001b[0m\u001b[0;34m[\u001b[0m\u001b[0;36m1\u001b[0m\u001b[0;34m]\u001b[0m\u001b[0;34m,\u001b[0m \u001b[0mindex\u001b[0m\u001b[0;34m=\u001b[0m\u001b[0mindex\u001b[0m\u001b[0;34m,\u001b[0m \u001b[0mcolumns\u001b[0m\u001b[0;34m=\u001b[0m\u001b[0mcolumns\u001b[0m\u001b[0;34m\u001b[0m\u001b[0;34m\u001b[0m\u001b[0m\n\u001b[0m\u001b[1;32m    205\u001b[0m     )\n\u001b[1;32m    206\u001b[0m     \u001b[0mvalues\u001b[0m \u001b[0;34m=\u001b[0m \u001b[0mvalues\u001b[0m\u001b[0;34m.\u001b[0m\u001b[0mT\u001b[0m\u001b[0;34m\u001b[0m\u001b[0;34m\u001b[0m\u001b[0m\n",
      "\u001b[0;32m/usr/local/lib/python3.7/dist-packages/pandas/core/internals/construction.py\u001b[0m in \u001b[0;36m_get_axes\u001b[0;34m(N, K, index, columns)\u001b[0m\n\u001b[1;32m    460\u001b[0m         \u001b[0mcolumns\u001b[0m \u001b[0;34m=\u001b[0m \u001b[0mibase\u001b[0m\u001b[0;34m.\u001b[0m\u001b[0mdefault_index\u001b[0m\u001b[0;34m(\u001b[0m\u001b[0mK\u001b[0m\u001b[0;34m)\u001b[0m\u001b[0;34m\u001b[0m\u001b[0;34m\u001b[0m\u001b[0m\n\u001b[1;32m    461\u001b[0m     \u001b[0;32melse\u001b[0m\u001b[0;34m:\u001b[0m\u001b[0;34m\u001b[0m\u001b[0;34m\u001b[0m\u001b[0m\n\u001b[0;32m--> 462\u001b[0;31m         \u001b[0mcolumns\u001b[0m \u001b[0;34m=\u001b[0m \u001b[0mensure_index\u001b[0m\u001b[0;34m(\u001b[0m\u001b[0mcolumns\u001b[0m\u001b[0;34m)\u001b[0m\u001b[0;34m\u001b[0m\u001b[0;34m\u001b[0m\u001b[0m\n\u001b[0m\u001b[1;32m    463\u001b[0m     \u001b[0;32mreturn\u001b[0m \u001b[0mindex\u001b[0m\u001b[0;34m,\u001b[0m \u001b[0mcolumns\u001b[0m\u001b[0;34m\u001b[0m\u001b[0;34m\u001b[0m\u001b[0m\n\u001b[1;32m    464\u001b[0m \u001b[0;34m\u001b[0m\u001b[0m\n",
      "\u001b[0;32m/usr/local/lib/python3.7/dist-packages/pandas/core/indexes/base.py\u001b[0m in \u001b[0;36mensure_index\u001b[0;34m(index_like, copy)\u001b[0m\n\u001b[1;32m   5604\u001b[0m             \u001b[0mindex_like\u001b[0m \u001b[0;34m=\u001b[0m \u001b[0mlist\u001b[0m\u001b[0;34m(\u001b[0m\u001b[0mindex_like\u001b[0m\u001b[0;34m)\u001b[0m\u001b[0;34m\u001b[0m\u001b[0;34m\u001b[0m\u001b[0m\n\u001b[1;32m   5605\u001b[0m \u001b[0;34m\u001b[0m\u001b[0m\n\u001b[0;32m-> 5606\u001b[0;31m         \u001b[0mconverted\u001b[0m\u001b[0;34m,\u001b[0m \u001b[0mall_arrays\u001b[0m \u001b[0;34m=\u001b[0m \u001b[0mlib\u001b[0m\u001b[0;34m.\u001b[0m\u001b[0mclean_index_list\u001b[0m\u001b[0;34m(\u001b[0m\u001b[0mindex_like\u001b[0m\u001b[0;34m)\u001b[0m\u001b[0;34m\u001b[0m\u001b[0;34m\u001b[0m\u001b[0m\n\u001b[0m\u001b[1;32m   5607\u001b[0m \u001b[0;34m\u001b[0m\u001b[0m\n\u001b[1;32m   5608\u001b[0m         \u001b[0;32mif\u001b[0m \u001b[0mlen\u001b[0m\u001b[0;34m(\u001b[0m\u001b[0mconverted\u001b[0m\u001b[0;34m)\u001b[0m \u001b[0;34m>\u001b[0m \u001b[0;36m0\u001b[0m \u001b[0;32mand\u001b[0m \u001b[0mall_arrays\u001b[0m\u001b[0;34m:\u001b[0m\u001b[0;34m\u001b[0m\u001b[0;34m\u001b[0m\u001b[0m\n",
      "\u001b[0;32mpandas/_libs/lib.pyx\u001b[0m in \u001b[0;36mpandas._libs.lib.clean_index_list\u001b[0;34m()\u001b[0m\n",
      "\u001b[0;32mpandas/_libs/lib.pyx\u001b[0m in \u001b[0;36mpandas._libs.lib.infer_dtype\u001b[0;34m()\u001b[0m\n",
      "\u001b[0;32m/usr/local/lib/python3.7/dist-packages/pandas/core/dtypes/cast.py\u001b[0m in \u001b[0;36mconstruct_1d_object_array_from_listlike\u001b[0;34m(values)\u001b[0m\n\u001b[1;32m   1588\u001b[0m     \u001b[0;31m# numpy will try to interpret nested lists as further dimensions, hence\u001b[0m\u001b[0;34m\u001b[0m\u001b[0;34m\u001b[0m\u001b[0;34m\u001b[0m\u001b[0m\n\u001b[1;32m   1589\u001b[0m     \u001b[0;31m# making a 1D array that contains list-likes is a bit tricky:\u001b[0m\u001b[0;34m\u001b[0m\u001b[0;34m\u001b[0m\u001b[0;34m\u001b[0m\u001b[0m\n\u001b[0;32m-> 1590\u001b[0;31m     \u001b[0mresult\u001b[0m \u001b[0;34m=\u001b[0m \u001b[0mnp\u001b[0m\u001b[0;34m.\u001b[0m\u001b[0mempty\u001b[0m\u001b[0;34m(\u001b[0m\u001b[0mlen\u001b[0m\u001b[0;34m(\u001b[0m\u001b[0mvalues\u001b[0m\u001b[0;34m)\u001b[0m\u001b[0;34m,\u001b[0m \u001b[0mdtype\u001b[0m\u001b[0;34m=\u001b[0m\u001b[0;34m\"object\"\u001b[0m\u001b[0;34m)\u001b[0m\u001b[0;34m\u001b[0m\u001b[0;34m\u001b[0m\u001b[0m\n\u001b[0m\u001b[1;32m   1591\u001b[0m     \u001b[0mresult\u001b[0m\u001b[0;34m[\u001b[0m\u001b[0;34m:\u001b[0m\u001b[0;34m]\u001b[0m \u001b[0;34m=\u001b[0m \u001b[0mvalues\u001b[0m\u001b[0;34m\u001b[0m\u001b[0;34m\u001b[0m\u001b[0m\n\u001b[1;32m   1592\u001b[0m     \u001b[0;32mreturn\u001b[0m \u001b[0mresult\u001b[0m\u001b[0;34m\u001b[0m\u001b[0;34m\u001b[0m\u001b[0m\n",
      "\u001b[0;31mKeyboardInterrupt\u001b[0m: "
     ]
    }
   ],
   "source": [
    "#This works plots interactivly but index dosent changes. So i need to yield the x and y values from generators\n",
    "\n",
    "def plotObject(df,alpha =0.7):\n",
    "\n",
    "    #plt.ion()\n",
    "    #fig, ax = plt.ion()\n",
    "    #ax.set_xlabel('Index')\n",
    "    #ax.set_ylabel('Tem, C', color='r')\n",
    "    #plt.legend (bbox_to_anchor=(1.4,0.89), fontsize='xx-small', loc='upper right', ncol=2)\n",
    "    for i in range (0, 10):\n",
    "        x = df.index[-1]\n",
    "        y =df.iloc[-1]\n",
    "        #print ('dataframe is :',df)\n",
    "        Fig = ax.plot(x, y.iloc[i], label = 'Layer ' + str(10-i), color= scm.to_rgba(10-i, alpha))\n",
    "    #plt.show()\n",
    "    #plt.draw()\n",
    "    #plt.pause(0.05)\n",
    "    return Fig\n",
    "\n",
    "#tankStrat(dfs(lol))\n",
    "cmap_name = \"jet\"\n",
    "scm = create_color_step_obj(cmap_name, 10)\n",
    "#plt.ion()\n",
    "#fig, ax = plt.subplots()\n",
    "#plt.legend (bbox_to_anchor=(1.4,0.89), fontsize='xx-small', loc='upper right', ncol=2)\n",
    "#plt.draw()\n",
    "#plt.pause(0.05)\n",
    "#x = np.random.random()\n",
    "x = 230\n",
    "#x = pd.DataFrame(np.zeros(1))\n",
    "print ('small x is:',x)\n",
    "y = pd.DataFrame(np.random.randint(20,60,size=(100, 10))).iloc[-1]\n",
    "#y = pd.DataFrame(np.Nan(0,100,size=(100, 10))).iloc[-1]\n",
    "#y = pd.DataFrame([0]*10)\n",
    "print ('small y is :', y)\n",
    "#fig = [plt.plot(x, y.iloc[i], label = 'Layer ' + str(10-i), color= scm.to_rgba(10-i, 0.7)) for i in range (0,10)]\n",
    "#plt.figure(figsize=(10,8))\n",
    "plt.ion()\n",
    "#plt.figure()\n",
    "#plt.ion()\n",
    "fig = plt.figure()\n",
    "axes = fig.add_subplot(111)\n",
    "#plt.axis([0,1000,0,1])\n",
    "x = x\n",
    "for i in range(0, 10):\n",
    "    Y = y.iloc[i]\n",
    "    \n",
    "    #Y = y.iloc[i]\n",
    "    line_list = [plt.scatter(x, Y, label = 'Layer ' + str(10-i), color= scm.to_rgba(10-i, 0.7)) for i in range (0, 10)]\n",
    "    #plt.ion()\n",
    "    plt.draw()\n",
    "    #time.sleep(0.1)\n",
    "    plt.pause(0.0001)  \n",
    "    plt.show()\n",
    "    ##plt.pause(0.01)\n",
    "\n",
    "def plotInnerFig(figs, df):\n",
    "    for fi in figs:\n",
    "        fi.set_ydata(df)\n",
    "        plt.draw()\n",
    "        plt.pause(0.5)\n",
    "        plt.show()\n",
    "    return \n",
    "\n",
    "def plot(df, fig):\n",
    "    x = df.index\n",
    "    y = df\n",
    "    Fig = [fi.set_ydata(df) for fi in fig]\n",
    "        \n",
    "    plt.draw()\n",
    "    plt.pause(0.5)\n",
    "    plt.show()\n",
    "    return Fig\n",
    "\n",
    "while True:\n",
    "    #c.execute(\"INSERT INTO flowReadings(flowHp, flowLoad) VALUES(?,?,?,?)\", (chan2.voltage, chan1.voltage))\n",
    "    #connection.commit()\n",
    "    chan1 = AnalogIn(ads, ADS.P0)\n",
    "    chan2 = AnalogIn(ads, ADS.P1)\n",
    "\n",
    "    chan1Vol = chan1.voltage\n",
    "    chan1curr = chan1Vol/159.42\n",
    "\n",
    "    chan2Vol = chan2.voltage\n",
    "    chan2curr=chan2Vol/159.65\n",
    "    #flow1 = ((chan1Vol/159.42)*1000 -4)/16*1000\n",
    "    flow1 = ((chan1Vol/159.42)-0.003956)/0.0000159\n",
    "    #flow2 = ((chan2Vol/159.65)*1000 -4)/16*4000 +20\n",
    "    #flow2 = ((chan2Vol/159.65)- 0.0005468893873066417)/1.09561608e-05\n",
    "    flow2 = ((chan2Vol/159.65)- 0.003973767754877122)/5.3038815e-06\n",
    "    cL.execute(\"INSERT INTO flowReadings(flowHp, flowLoad) VALUES(%s, %s)\", (flow2, flow1))\n",
    "    connectionL.commit()\n",
    "    #print('flow HP:',\"{:>5}\\t{:>5.3f}\".format(chan2.value, chan2.voltage), '\\n\\n')\n",
    "    #print('flow load:',\"{:>5}\\t{:>5.3f}\".format(chan1.value, chan1.voltage, '\\n\\n'))\n",
    "    print('flow rates load is = ',chan1Vol, chan1curr,flow1 )\n",
    "    print('flow rates HP is = ',chan2Vol, chan2curr,flow2 )\n",
    "\n",
    "    connectionR = db.Connection(host=HOST, port=PORT,user=USER, passwd=PASSWORD, db=DB)\n",
    "    cR = connectionR.cursor()\n",
    "    #c.execute(\"SELECT * from temSensor\")\n",
    "    cR.execute(\"SELECT * FROM temSensor ORDER BY id DESC LIMIT 1\")\n",
    "    result = cR.fetchall()\n",
    "    id = result[0][0]\n",
    "    idGenerator(id, l_id)\n",
    "    #print ('id is :', id)\n",
    "    flowRateLoad.append(flow1)\n",
    "\n",
    "    if lol[0] ==[] or id < lol[0][-1][0][0] :\n",
    "        lol[0].append(result)\n",
    "        #print (lol)\n",
    "        lol[1].append(flow1)\n",
    "        lol[2].append(flow2)\n",
    "    elif lol[0] != [] and id > lol[0][-1][0][0]:\n",
    "\n",
    "        lol[0].append(result)\n",
    "        lol[1].append(flow1)\n",
    "        lol[2].append(flow2)\n",
    "\n",
    "\n",
    "    mct(lol)\n",
    "    #print ('lol is:',lol)\n",
    "    #dfs(lol)\n",
    "    tankStrat(dfs(lol))\n",
    "    #plot(tankStrat(dfs(lol)), plotObject(tankStrat(dfs(lol))))\n",
    "    #plotObject(tankStrat(dfs(lol)))for i in range (0, 10):\n",
    "    x = tankStrat(dfs(lol)).index[-1]\n",
    "    y =tankStrat(dfs(lol)).iloc[-1]\n",
    "    '''\n",
    "    for line in line_list:\n",
    "        print (type(line), line)\n",
    "        for li in line:\n",
    "            li.set_xdata(x)\n",
    "            li.set_ydata(y)\n",
    "    axes.autoscale_view(True,True,True)\n",
    "    '''\n",
    "    for line in line_list:\n",
    "        li.set_xdata(x)\n",
    "        li.set_ydata(y)\n",
    "    plt.show()\n",
    "    plt.draw()\n",
    "    plt.pause(0.0001)\n",
    "    \n",
    "        \n",
    "        \n",
    "    #plt.figure()\n",
    "    #for f in fig:\n",
    "    #    f.set_xdata(x)\n",
    "    #    f.set_ydata(y)\n",
    "    #plt.show()\n",
    "    #plt.draw()\n",
    "    #plt.pause(0.01)\n",
    "    print('x is ',x, 'y is:', y)\n",
    "    #plt.draw()\n",
    "    #plt.pause(0.05)\n",
    "    #print ('dataframe is :',df)\n",
    "    \n",
    "    \n",
    "    \n",
    "    print('________________________________________________________________')\n",
    "    time.sleep(0.05)"
   ]
  },
  {
   "cell_type": "code",
   "execution_count": 168,
   "id": "stunning-blank",
   "metadata": {
    "scrolled": false
   },
   "outputs": [
    {
     "name": "stderr",
     "output_type": "stream",
     "text": [
      "No handles with labels found to put in legend.\n"
     ]
    },
    {
     "name": "stdout",
     "output_type": "stream",
     "text": [
      "flow rates load is =  0.6340193487350078 0.0039770376912244875 1.3231252342444757\n",
      "flow rates HP is =  0.6340193487350078 0.003971308166207377 -0.4637337145910134\n"
     ]
    },
    {
     "data": {
      "image/png": "[encoded data removed]",
      "text/plain": [
       "<Figure size 432x288 with 1 Axes>"
      ]
     },
     "metadata": {
      "needs_background": "light"
     },
     "output_type": "display_data"
    },
    {
     "name": "stdout",
     "output_type": "stream",
     "text": [
      "________________________________________________________________\n"
     ]
    },
    {
     "name": "stderr",
     "output_type": "stream",
     "text": [
      "No handles with labels found to put in legend.\n"
     ]
    },
    {
     "name": "stdout",
     "output_type": "stream",
     "text": [
      "flow rates load is =  0.6340193487350078 0.0039770376912244875 1.3231252342444757\n",
      "flow rates HP is =  0.6300192266609699 0.003946252594180832 -5.187740468238238\n"
     ]
    },
    {
     "data": {
      "image/png": "[encoded data removed]",
      "text/plain": [
       "<Figure size 432x288 with 1 Axes>"
      ]
     },
     "metadata": {
      "needs_background": "light"
     },
     "output_type": "display_data"
    },
    {
     "name": "stdout",
     "output_type": "stream",
     "text": [
      "________________________________________________________________\n"
     ]
    },
    {
     "name": "stderr",
     "output_type": "stream",
     "text": [
      "No handles with labels found to put in legend.\n"
     ]
    },
    {
     "name": "stdout",
     "output_type": "stream",
     "text": [
      "flow rates load is =  0.6340193487350078 0.0039770376912244875 1.3231252342444757\n",
      "flow rates HP is =  0.6340193487350078 0.003971308166207377 -0.4637337145910134\n"
     ]
    },
    {
     "data": {
      "image/png": "[encoded data removed]",
      "text/plain": [
       "<Figure size 432x288 with 1 Axes>"
      ]
     },
     "metadata": {
      "needs_background": "light"
     },
     "output_type": "display_data"
    },
    {
     "name": "stdout",
     "output_type": "stream",
     "text": [
      "________________________________________________________________\n"
     ]
    },
    {
     "name": "stderr",
     "output_type": "stream",
     "text": [
      "No handles with labels found to put in legend.\n"
     ]
    },
    {
     "name": "stdout",
     "output_type": "stream",
     "text": [
      "flow rates load is =  0.6320192876979889 0.003964491830999805 0.5340774213713702\n",
      "flow rates HP is =  0.6300192266609699 0.003946252594180832 -5.187740468238238\n"
     ]
    },
    {
     "data": {
      "image/png": "[encoded data removed]",
      "text/plain": [
       "<Figure size 432x288 with 1 Axes>"
      ]
     },
     "metadata": {
      "needs_background": "light"
     },
     "output_type": "display_data"
    },
    {
     "name": "stdout",
     "output_type": "stream",
     "text": [
      "________________________________________________________________\n"
     ]
    },
    {
     "name": "stderr",
     "output_type": "stream",
     "text": [
      "No handles with labels found to put in legend.\n"
     ]
    },
    {
     "name": "stdout",
     "output_type": "stream",
     "text": [
      "flow rates load is =  0.6320192876979889 0.003964491830999805 0.5340774213713702\n",
      "flow rates HP is =  0.6340193487350078 0.003971308166207377 -0.4637337145910134\n"
     ]
    },
    {
     "data": {
      "image/png": "[encoded data removed]",
      "text/plain": [
       "<Figure size 432x288 with 1 Axes>"
      ]
     },
     "metadata": {
      "needs_background": "light"
     },
     "output_type": "display_data"
    },
    {
     "name": "stdout",
     "output_type": "stream",
     "text": [
      "________________________________________________________________\n"
     ]
    },
    {
     "ename": "KeyboardInterrupt",
     "evalue": "",
     "output_type": "error",
     "traceback": [
      "\u001b[0;31m---------------------------------------------------------------------------\u001b[0m",
      "\u001b[0;31mKeyboardInterrupt\u001b[0m                         Traceback (most recent call last)",
      "\u001b[0;32m<ipython-input-168-81defc9afdab>\u001b[0m in \u001b[0;36m<module>\u001b[0;34m\u001b[0m\n\u001b[1;32m     95\u001b[0m     \u001b[0mplotObject\u001b[0m\u001b[0;34m(\u001b[0m\u001b[0mtankStrat\u001b[0m\u001b[0;34m(\u001b[0m\u001b[0mdfs\u001b[0m\u001b[0;34m(\u001b[0m\u001b[0mlol\u001b[0m\u001b[0;34m)\u001b[0m\u001b[0;34m)\u001b[0m\u001b[0;34m)\u001b[0m\u001b[0;34m\u001b[0m\u001b[0;34m\u001b[0m\u001b[0m\n\u001b[1;32m     96\u001b[0m     \u001b[0mprint\u001b[0m\u001b[0;34m(\u001b[0m\u001b[0;34m'________________________________________________________________'\u001b[0m\u001b[0;34m)\u001b[0m\u001b[0;34m\u001b[0m\u001b[0;34m\u001b[0m\u001b[0m\n\u001b[0;32m---> 97\u001b[0;31m     \u001b[0mtime\u001b[0m\u001b[0;34m.\u001b[0m\u001b[0msleep\u001b[0m\u001b[0;34m(\u001b[0m\u001b[0;36m0.5\u001b[0m\u001b[0;34m)\u001b[0m\u001b[0;34m\u001b[0m\u001b[0;34m\u001b[0m\u001b[0m\n\u001b[0m",
      "\u001b[0;31mKeyboardInterrupt\u001b[0m: "
     ]
    }
   ],
   "source": [
    "def plotObject(df,alpha =0.7):\n",
    "    cmap_name = \"jet\"\n",
    "    scm = create_color_step_obj(cmap_name, 10)\n",
    "    plt.ion()\n",
    "    fig, ax = plt.subplots()\n",
    "    #fig, ax = plt.ion()\n",
    "    ax.set_xlabel('Index')\n",
    "    ax.set_ylabel('Tem, C', color='r')\n",
    "    plt.legend (bbox_to_anchor=(1.4,0.89), fontsize='xx-small', loc='upper right', ncol=2)\n",
    "    for i in range (0, 10):\n",
    "        fig = ax.plot(df.index, df.iloc[:, i], label = 'Layer ' + str(10-i), color= scm.to_rgba(10-i, alpha))\n",
    "    plt.show()\n",
    "    return fig\n",
    "\n",
    "def plotInnerFig(figs, df):\n",
    "    for fi in figs:\n",
    "        fi.set_ydata(df)\n",
    "        plt.draw()\n",
    "        plt.pause(0.5)\n",
    "        plt.show()\n",
    "    return \n",
    "'''\n",
    "def plot(df, fig):\n",
    "    for i in range(0, 10):\n",
    "        x = df.index\n",
    "        y = df\n",
    "        plotInnerFig(fig, df)\n",
    "        \n",
    "        #plt.draw()\n",
    "        #plt.pause(0.5)\n",
    "        #plt.show()\n",
    "    return\n",
    "'''\n",
    "\n",
    "def plot(df, fig):\n",
    "    x = df.index\n",
    "    y = df\n",
    "    Fig = [fi.set_ydata(df) for fi in fig]\n",
    "        \n",
    "    plt.draw()\n",
    "    plt.pause(0.5)\n",
    "    plt.show()\n",
    "    return Fig\n",
    "\n",
    "while True:\n",
    "    #c.execute(\"INSERT INTO flowReadings(flowHp, flowLoad) VALUES(?,?,?,?)\", (chan2.voltage, chan1.voltage))\n",
    "    #connection.commit()\n",
    "    chan1 = AnalogIn(ads, ADS.P0)\n",
    "    chan2 = AnalogIn(ads, ADS.P1)\n",
    "\n",
    "    chan1Vol = chan1.voltage\n",
    "    chan1curr = chan1Vol/159.42\n",
    "\n",
    "    chan2Vol = chan2.voltage\n",
    "    chan2curr=chan2Vol/159.65\n",
    "    #flow1 = ((chan1Vol/159.42)*1000 -4)/16*1000\n",
    "    flow1 = ((chan1Vol/159.42)-0.003956)/0.0000159\n",
    "    #flow2 = ((chan2Vol/159.65)*1000 -4)/16*4000 +20\n",
    "    #flow2 = ((chan2Vol/159.65)- 0.0005468893873066417)/1.09561608e-05\n",
    "    flow2 = ((chan2Vol/159.65)- 0.003973767754877122)/5.3038815e-06\n",
    "    cL.execute(\"INSERT INTO flowReadings(flowHp, flowLoad) VALUES(%s, %s)\", (flow2, flow1))\n",
    "    connectionL.commit()\n",
    "    #print('flow HP:',\"{:>5}\\t{:>5.3f}\".format(chan2.value, chan2.voltage), '\\n\\n')\n",
    "    #print('flow load:',\"{:>5}\\t{:>5.3f}\".format(chan1.value, chan1.voltage, '\\n\\n'))\n",
    "    print('flow rates load is = ',chan1Vol, chan1curr,flow1 )\n",
    "    print('flow rates HP is = ',chan2Vol, chan2curr,flow2 )\n",
    "\n",
    "    connectionR = db.Connection(host=HOST, port=PORT,user=USER, passwd=PASSWORD, db=DB)\n",
    "    cR = connectionR.cursor()\n",
    "    #c.execute(\"SELECT * from temSensor\")\n",
    "    cR.execute(\"SELECT * FROM temSensor ORDER BY id DESC LIMIT 1\")\n",
    "    result = cR.fetchall()\n",
    "    id = result[0][0]\n",
    "    idGenerator(id, l_id)\n",
    "    #print ('id is :', id)\n",
    "    flowRateLoad.append(flow1)\n",
    "\n",
    "    if lol[0] ==[] or id < lol[0][-1][0][0] :\n",
    "        lol[0].append(result)\n",
    "        #print (lol)\n",
    "        lol[1].append(flow1)\n",
    "        lol[2].append(flow2)\n",
    "    elif lol[0] != [] and id > lol[0][-1][0][0]:\n",
    "\n",
    "        lol[0].append(result)\n",
    "        lol[1].append(flow1)\n",
    "        lol[2].append(flow2)\n",
    "\n",
    "\n",
    "    mct(lol)\n",
    "    #print (lol)\n",
    "    #dfs(lol)\n",
    "    #tankStrat(dfs(lol))\n",
    "    #plot(tankStrat(dfs(lol)), plotObject(tankStrat(dfs(lol))))\n",
    "    plotObject(tankStrat(dfs(lol)))\n",
    "    print('________________________________________________________________')\n",
    "    time.sleep(0.5)"
   ]
  },
  {
   "cell_type": "code",
   "execution_count": 4,
   "id": "infrared-paragraph",
   "metadata": {
    "scrolled": false
   },
   "outputs": [
    {
     "data": {
      "image/png": "[encoded data removed]",
      "text/plain": [
       "<Figure size 432x288 with 1 Axes>"
      ]
     },
     "metadata": {
      "needs_background": "light"
     },
     "output_type": "display_data"
    },
    {
     "data": {
      "text/plain": [
       "<Figure size 432x288 with 0 Axes>"
      ]
     },
     "metadata": {},
     "output_type": "display_data"
    },
    {
     "data": {
      "text/plain": [
       "<Figure size 432x288 with 0 Axes>"
      ]
     },
     "metadata": {},
     "output_type": "display_data"
    },
    {
     "data": {
      "text/plain": [
       "<Figure size 432x288 with 0 Axes>"
      ]
     },
     "metadata": {},
     "output_type": "display_data"
    },
    {
     "data": {
      "text/plain": [
       "<Figure size 432x288 with 0 Axes>"
      ]
     },
     "metadata": {},
     "output_type": "display_data"
    },
    {
     "data": {
      "text/plain": [
       "<Figure size 432x288 with 0 Axes>"
      ]
     },
     "metadata": {},
     "output_type": "display_data"
    },
    {
     "data": {
      "text/plain": [
       "<Figure size 432x288 with 0 Axes>"
      ]
     },
     "metadata": {},
     "output_type": "display_data"
    },
    {
     "data": {
      "text/plain": [
       "<Figure size 432x288 with 0 Axes>"
      ]
     },
     "metadata": {},
     "output_type": "display_data"
    },
    {
     "data": {
      "text/plain": [
       "<Figure size 432x288 with 0 Axes>"
      ]
     },
     "metadata": {},
     "output_type": "display_data"
    },
    {
     "data": {
      "text/plain": [
       "<Figure size 432x288 with 0 Axes>"
      ]
     },
     "metadata": {},
     "output_type": "display_data"
    },
    {
     "data": {
      "text/plain": [
       "<Figure size 432x288 with 0 Axes>"
      ]
     },
     "metadata": {},
     "output_type": "display_data"
    },
    {
     "data": {
      "text/plain": [
       "<Figure size 432x288 with 0 Axes>"
      ]
     },
     "metadata": {},
     "output_type": "display_data"
    },
    {
     "data": {
      "text/plain": [
       "<Figure size 432x288 with 0 Axes>"
      ]
     },
     "metadata": {},
     "output_type": "display_data"
    },
    {
     "data": {
      "text/plain": [
       "<Figure size 432x288 with 0 Axes>"
      ]
     },
     "metadata": {},
     "output_type": "display_data"
    },
    {
     "data": {
      "text/plain": [
       "<Figure size 432x288 with 0 Axes>"
      ]
     },
     "metadata": {},
     "output_type": "display_data"
    },
    {
     "data": {
      "text/plain": [
       "<Figure size 432x288 with 0 Axes>"
      ]
     },
     "metadata": {},
     "output_type": "display_data"
    },
    {
     "data": {
      "text/plain": [
       "<Figure size 432x288 with 0 Axes>"
      ]
     },
     "metadata": {},
     "output_type": "display_data"
    },
    {
     "data": {
      "text/plain": [
       "<Figure size 432x288 with 0 Axes>"
      ]
     },
     "metadata": {},
     "output_type": "display_data"
    },
    {
     "data": {
      "text/plain": [
       "<Figure size 432x288 with 0 Axes>"
      ]
     },
     "metadata": {},
     "output_type": "display_data"
    },
    {
     "data": {
      "text/plain": [
       "<Figure size 432x288 with 0 Axes>"
      ]
     },
     "metadata": {},
     "output_type": "display_data"
    },
    {
     "data": {
      "text/plain": [
       "<Figure size 432x288 with 0 Axes>"
      ]
     },
     "metadata": {},
     "output_type": "display_data"
    },
    {
     "data": {
      "text/plain": [
       "<Figure size 432x288 with 0 Axes>"
      ]
     },
     "metadata": {},
     "output_type": "display_data"
    },
    {
     "data": {
      "text/plain": [
       "<Figure size 432x288 with 0 Axes>"
      ]
     },
     "metadata": {},
     "output_type": "display_data"
    },
    {
     "data": {
      "text/plain": [
       "<Figure size 432x288 with 0 Axes>"
      ]
     },
     "metadata": {},
     "output_type": "display_data"
    },
    {
     "data": {
      "text/plain": [
       "<Figure size 432x288 with 0 Axes>"
      ]
     },
     "metadata": {},
     "output_type": "display_data"
    },
    {
     "data": {
      "text/plain": [
       "<Figure size 432x288 with 0 Axes>"
      ]
     },
     "metadata": {},
     "output_type": "display_data"
    },
    {
     "data": {
      "text/plain": [
       "<Figure size 432x288 with 0 Axes>"
      ]
     },
     "metadata": {},
     "output_type": "display_data"
    },
    {
     "data": {
      "text/plain": [
       "<Figure size 432x288 with 0 Axes>"
      ]
     },
     "metadata": {},
     "output_type": "display_data"
    },
    {
     "data": {
      "text/plain": [
       "<Figure size 432x288 with 0 Axes>"
      ]
     },
     "metadata": {},
     "output_type": "display_data"
    },
    {
     "data": {
      "text/plain": [
       "<Figure size 432x288 with 0 Axes>"
      ]
     },
     "metadata": {},
     "output_type": "display_data"
    },
    {
     "data": {
      "text/plain": [
       "<Figure size 432x288 with 0 Axes>"
      ]
     },
     "metadata": {},
     "output_type": "display_data"
    },
    {
     "data": {
      "text/plain": [
       "<Figure size 432x288 with 0 Axes>"
      ]
     },
     "metadata": {},
     "output_type": "display_data"
    },
    {
     "data": {
      "text/plain": [
       "<Figure size 432x288 with 0 Axes>"
      ]
     },
     "metadata": {},
     "output_type": "display_data"
    },
    {
     "data": {
      "text/plain": [
       "<Figure size 432x288 with 0 Axes>"
      ]
     },
     "metadata": {},
     "output_type": "display_data"
    },
    {
     "data": {
      "text/plain": [
       "<Figure size 432x288 with 0 Axes>"
      ]
     },
     "metadata": {},
     "output_type": "display_data"
    },
    {
     "data": {
      "text/plain": [
       "<Figure size 432x288 with 0 Axes>"
      ]
     },
     "metadata": {},
     "output_type": "display_data"
    },
    {
     "data": {
      "text/plain": [
       "<Figure size 432x288 with 0 Axes>"
      ]
     },
     "metadata": {},
     "output_type": "display_data"
    },
    {
     "data": {
      "text/plain": [
       "<Figure size 432x288 with 0 Axes>"
      ]
     },
     "metadata": {},
     "output_type": "display_data"
    },
    {
     "data": {
      "text/plain": [
       "<Figure size 432x288 with 0 Axes>"
      ]
     },
     "metadata": {},
     "output_type": "display_data"
    },
    {
     "data": {
      "text/plain": [
       "<Figure size 432x288 with 0 Axes>"
      ]
     },
     "metadata": {},
     "output_type": "display_data"
    },
    {
     "data": {
      "text/plain": [
       "<Figure size 432x288 with 0 Axes>"
      ]
     },
     "metadata": {},
     "output_type": "display_data"
    },
    {
     "data": {
      "text/plain": [
       "<Figure size 432x288 with 0 Axes>"
      ]
     },
     "metadata": {},
     "output_type": "display_data"
    },
    {
     "data": {
      "text/plain": [
       "<Figure size 432x288 with 0 Axes>"
      ]
     },
     "metadata": {},
     "output_type": "display_data"
    },
    {
     "data": {
      "text/plain": [
       "<Figure size 432x288 with 0 Axes>"
      ]
     },
     "metadata": {},
     "output_type": "display_data"
    },
    {
     "data": {
      "text/plain": [
       "<Figure size 432x288 with 0 Axes>"
      ]
     },
     "metadata": {},
     "output_type": "display_data"
    },
    {
     "data": {
      "text/plain": [
       "<Figure size 432x288 with 0 Axes>"
      ]
     },
     "metadata": {},
     "output_type": "display_data"
    },
    {
     "data": {
      "text/plain": [
       "<Figure size 432x288 with 0 Axes>"
      ]
     },
     "metadata": {},
     "output_type": "display_data"
    },
    {
     "data": {
      "text/plain": [
       "<Figure size 432x288 with 0 Axes>"
      ]
     },
     "metadata": {},
     "output_type": "display_data"
    },
    {
     "data": {
      "text/plain": [
       "<Figure size 432x288 with 0 Axes>"
      ]
     },
     "metadata": {},
     "output_type": "display_data"
    },
    {
     "data": {
      "text/plain": [
       "<Figure size 432x288 with 0 Axes>"
      ]
     },
     "metadata": {},
     "output_type": "display_data"
    },
    {
     "data": {
      "text/plain": [
       "<Figure size 432x288 with 0 Axes>"
      ]
     },
     "metadata": {},
     "output_type": "display_data"
    },
    {
     "data": {
      "text/plain": [
       "<Figure size 432x288 with 0 Axes>"
      ]
     },
     "metadata": {},
     "output_type": "display_data"
    },
    {
     "data": {
      "text/plain": [
       "<Figure size 432x288 with 0 Axes>"
      ]
     },
     "metadata": {},
     "output_type": "display_data"
    },
    {
     "data": {
      "text/plain": [
       "<Figure size 432x288 with 0 Axes>"
      ]
     },
     "metadata": {},
     "output_type": "display_data"
    },
    {
     "data": {
      "text/plain": [
       "<Figure size 432x288 with 0 Axes>"
      ]
     },
     "metadata": {},
     "output_type": "display_data"
    },
    {
     "data": {
      "text/plain": [
       "<Figure size 432x288 with 0 Axes>"
      ]
     },
     "metadata": {},
     "output_type": "display_data"
    },
    {
     "data": {
      "text/plain": [
       "<Figure size 432x288 with 0 Axes>"
      ]
     },
     "metadata": {},
     "output_type": "display_data"
    },
    {
     "data": {
      "text/plain": [
       "<Figure size 432x288 with 0 Axes>"
      ]
     },
     "metadata": {},
     "output_type": "display_data"
    },
    {
     "data": {
      "text/plain": [
       "<Figure size 432x288 with 0 Axes>"
      ]
     },
     "metadata": {},
     "output_type": "display_data"
    },
    {
     "data": {
      "text/plain": [
       "<Figure size 432x288 with 0 Axes>"
      ]
     },
     "metadata": {},
     "output_type": "display_data"
    },
    {
     "data": {
      "text/plain": [
       "<Figure size 432x288 with 0 Axes>"
      ]
     },
     "metadata": {},
     "output_type": "display_data"
    },
    {
     "data": {
      "text/plain": [
       "<Figure size 432x288 with 0 Axes>"
      ]
     },
     "metadata": {},
     "output_type": "display_data"
    },
    {
     "data": {
      "text/plain": [
       "<Figure size 432x288 with 0 Axes>"
      ]
     },
     "metadata": {},
     "output_type": "display_data"
    },
    {
     "data": {
      "text/plain": [
       "<Figure size 432x288 with 0 Axes>"
      ]
     },
     "metadata": {},
     "output_type": "display_data"
    },
    {
     "data": {
      "text/plain": [
       "<Figure size 432x288 with 0 Axes>"
      ]
     },
     "metadata": {},
     "output_type": "display_data"
    },
    {
     "data": {
      "text/plain": [
       "<Figure size 432x288 with 0 Axes>"
      ]
     },
     "metadata": {},
     "output_type": "display_data"
    },
    {
     "data": {
      "text/plain": [
       "<Figure size 432x288 with 0 Axes>"
      ]
     },
     "metadata": {},
     "output_type": "display_data"
    },
    {
     "data": {
      "text/plain": [
       "<Figure size 432x288 with 0 Axes>"
      ]
     },
     "metadata": {},
     "output_type": "display_data"
    },
    {
     "data": {
      "text/plain": [
       "<Figure size 432x288 with 0 Axes>"
      ]
     },
     "metadata": {},
     "output_type": "display_data"
    },
    {
     "data": {
      "text/plain": [
       "<Figure size 432x288 with 0 Axes>"
      ]
     },
     "metadata": {},
     "output_type": "display_data"
    },
    {
     "data": {
      "text/plain": [
       "<Figure size 432x288 with 0 Axes>"
      ]
     },
     "metadata": {},
     "output_type": "display_data"
    },
    {
     "data": {
      "text/plain": [
       "<Figure size 432x288 with 0 Axes>"
      ]
     },
     "metadata": {},
     "output_type": "display_data"
    },
    {
     "data": {
      "text/plain": [
       "<Figure size 432x288 with 0 Axes>"
      ]
     },
     "metadata": {},
     "output_type": "display_data"
    },
    {
     "data": {
      "text/plain": [
       "<Figure size 432x288 with 0 Axes>"
      ]
     },
     "metadata": {},
     "output_type": "display_data"
    },
    {
     "data": {
      "text/plain": [
       "<Figure size 432x288 with 0 Axes>"
      ]
     },
     "metadata": {},
     "output_type": "display_data"
    },
    {
     "data": {
      "text/plain": [
       "<Figure size 432x288 with 0 Axes>"
      ]
     },
     "metadata": {},
     "output_type": "display_data"
    },
    {
     "data": {
      "text/plain": [
       "<Figure size 432x288 with 0 Axes>"
      ]
     },
     "metadata": {},
     "output_type": "display_data"
    },
    {
     "data": {
      "text/plain": [
       "<Figure size 432x288 with 0 Axes>"
      ]
     },
     "metadata": {},
     "output_type": "display_data"
    },
    {
     "data": {
      "text/plain": [
       "<Figure size 432x288 with 0 Axes>"
      ]
     },
     "metadata": {},
     "output_type": "display_data"
    },
    {
     "data": {
      "text/plain": [
       "<Figure size 432x288 with 0 Axes>"
      ]
     },
     "metadata": {},
     "output_type": "display_data"
    },
    {
     "data": {
      "text/plain": [
       "<Figure size 432x288 with 0 Axes>"
      ]
     },
     "metadata": {},
     "output_type": "display_data"
    },
    {
     "data": {
      "text/plain": [
       "<Figure size 432x288 with 0 Axes>"
      ]
     },
     "metadata": {},
     "output_type": "display_data"
    },
    {
     "data": {
      "text/plain": [
       "<Figure size 432x288 with 0 Axes>"
      ]
     },
     "metadata": {},
     "output_type": "display_data"
    },
    {
     "data": {
      "text/plain": [
       "<Figure size 432x288 with 0 Axes>"
      ]
     },
     "metadata": {},
     "output_type": "display_data"
    },
    {
     "data": {
      "text/plain": [
       "<Figure size 432x288 with 0 Axes>"
      ]
     },
     "metadata": {},
     "output_type": "display_data"
    },
    {
     "data": {
      "text/plain": [
       "<Figure size 432x288 with 0 Axes>"
      ]
     },
     "metadata": {},
     "output_type": "display_data"
    },
    {
     "data": {
      "text/plain": [
       "<Figure size 432x288 with 0 Axes>"
      ]
     },
     "metadata": {},
     "output_type": "display_data"
    },
    {
     "data": {
      "text/plain": [
       "<Figure size 432x288 with 0 Axes>"
      ]
     },
     "metadata": {},
     "output_type": "display_data"
    },
    {
     "data": {
      "text/plain": [
       "<Figure size 432x288 with 0 Axes>"
      ]
     },
     "metadata": {},
     "output_type": "display_data"
    },
    {
     "data": {
      "text/plain": [
       "<Figure size 432x288 with 0 Axes>"
      ]
     },
     "metadata": {},
     "output_type": "display_data"
    },
    {
     "data": {
      "text/plain": [
       "<Figure size 432x288 with 0 Axes>"
      ]
     },
     "metadata": {},
     "output_type": "display_data"
    },
    {
     "data": {
      "text/plain": [
       "<Figure size 432x288 with 0 Axes>"
      ]
     },
     "metadata": {},
     "output_type": "display_data"
    },
    {
     "data": {
      "text/plain": [
       "<Figure size 432x288 with 0 Axes>"
      ]
     },
     "metadata": {},
     "output_type": "display_data"
    },
    {
     "data": {
      "text/plain": [
       "<Figure size 432x288 with 0 Axes>"
      ]
     },
     "metadata": {},
     "output_type": "display_data"
    },
    {
     "data": {
      "text/plain": [
       "<Figure size 432x288 with 0 Axes>"
      ]
     },
     "metadata": {},
     "output_type": "display_data"
    },
    {
     "data": {
      "text/plain": [
       "<Figure size 432x288 with 0 Axes>"
      ]
     },
     "metadata": {},
     "output_type": "display_data"
    },
    {
     "data": {
      "text/plain": [
       "<Figure size 432x288 with 0 Axes>"
      ]
     },
     "metadata": {},
     "output_type": "display_data"
    },
    {
     "data": {
      "text/plain": [
       "<Figure size 432x288 with 0 Axes>"
      ]
     },
     "metadata": {},
     "output_type": "display_data"
    },
    {
     "data": {
      "text/plain": [
       "<Figure size 432x288 with 0 Axes>"
      ]
     },
     "metadata": {},
     "output_type": "display_data"
    },
    {
     "data": {
      "text/plain": [
       "<Figure size 432x288 with 0 Axes>"
      ]
     },
     "metadata": {},
     "output_type": "display_data"
    },
    {
     "data": {
      "text/plain": [
       "<Figure size 432x288 with 0 Axes>"
      ]
     },
     "metadata": {},
     "output_type": "display_data"
    },
    {
     "data": {
      "text/plain": [
       "<Figure size 432x288 with 0 Axes>"
      ]
     },
     "metadata": {},
     "output_type": "display_data"
    },
    {
     "data": {
      "text/plain": [
       "<Figure size 432x288 with 0 Axes>"
      ]
     },
     "metadata": {},
     "output_type": "display_data"
    },
    {
     "data": {
      "text/plain": [
       "<Figure size 432x288 with 0 Axes>"
      ]
     },
     "metadata": {},
     "output_type": "display_data"
    },
    {
     "data": {
      "text/plain": [
       "<Figure size 432x288 with 0 Axes>"
      ]
     },
     "metadata": {},
     "output_type": "display_data"
    },
    {
     "data": {
      "text/plain": [
       "<Figure size 432x288 with 0 Axes>"
      ]
     },
     "metadata": {},
     "output_type": "display_data"
    },
    {
     "data": {
      "text/plain": [
       "<Figure size 432x288 with 0 Axes>"
      ]
     },
     "metadata": {},
     "output_type": "display_data"
    },
    {
     "data": {
      "text/plain": [
       "<Figure size 432x288 with 0 Axes>"
      ]
     },
     "metadata": {},
     "output_type": "display_data"
    },
    {
     "data": {
      "text/plain": [
       "<Figure size 432x288 with 0 Axes>"
      ]
     },
     "metadata": {},
     "output_type": "display_data"
    },
    {
     "data": {
      "text/plain": [
       "<Figure size 432x288 with 0 Axes>"
      ]
     },
     "metadata": {},
     "output_type": "display_data"
    },
    {
     "data": {
      "text/plain": [
       "<Figure size 432x288 with 0 Axes>"
      ]
     },
     "metadata": {},
     "output_type": "display_data"
    },
    {
     "data": {
      "text/plain": [
       "<Figure size 432x288 with 0 Axes>"
      ]
     },
     "metadata": {},
     "output_type": "display_data"
    },
    {
     "data": {
      "text/plain": [
       "<Figure size 432x288 with 0 Axes>"
      ]
     },
     "metadata": {},
     "output_type": "display_data"
    },
    {
     "data": {
      "text/plain": [
       "<Figure size 432x288 with 0 Axes>"
      ]
     },
     "metadata": {},
     "output_type": "display_data"
    },
    {
     "data": {
      "text/plain": [
       "<Figure size 432x288 with 0 Axes>"
      ]
     },
     "metadata": {},
     "output_type": "display_data"
    },
    {
     "data": {
      "text/plain": [
       "<Figure size 432x288 with 0 Axes>"
      ]
     },
     "metadata": {},
     "output_type": "display_data"
    },
    {
     "data": {
      "text/plain": [
       "<Figure size 432x288 with 0 Axes>"
      ]
     },
     "metadata": {},
     "output_type": "display_data"
    },
    {
     "data": {
      "text/plain": [
       "<Figure size 432x288 with 0 Axes>"
      ]
     },
     "metadata": {},
     "output_type": "display_data"
    },
    {
     "data": {
      "text/plain": [
       "<Figure size 432x288 with 0 Axes>"
      ]
     },
     "metadata": {},
     "output_type": "display_data"
    },
    {
     "data": {
      "text/plain": [
       "<Figure size 432x288 with 0 Axes>"
      ]
     },
     "metadata": {},
     "output_type": "display_data"
    },
    {
     "data": {
      "text/plain": [
       "<Figure size 432x288 with 0 Axes>"
      ]
     },
     "metadata": {},
     "output_type": "display_data"
    },
    {
     "data": {
      "text/plain": [
       "<Figure size 432x288 with 0 Axes>"
      ]
     },
     "metadata": {},
     "output_type": "display_data"
    },
    {
     "data": {
      "text/plain": [
       "<Figure size 432x288 with 0 Axes>"
      ]
     },
     "metadata": {},
     "output_type": "display_data"
    },
    {
     "data": {
      "text/plain": [
       "<Figure size 432x288 with 0 Axes>"
      ]
     },
     "metadata": {},
     "output_type": "display_data"
    },
    {
     "data": {
      "text/plain": [
       "<Figure size 432x288 with 0 Axes>"
      ]
     },
     "metadata": {},
     "output_type": "display_data"
    },
    {
     "data": {
      "text/plain": [
       "<Figure size 432x288 with 0 Axes>"
      ]
     },
     "metadata": {},
     "output_type": "display_data"
    },
    {
     "data": {
      "text/plain": [
       "<Figure size 432x288 with 0 Axes>"
      ]
     },
     "metadata": {},
     "output_type": "display_data"
    },
    {
     "data": {
      "text/plain": [
       "<Figure size 432x288 with 0 Axes>"
      ]
     },
     "metadata": {},
     "output_type": "display_data"
    },
    {
     "data": {
      "text/plain": [
       "<Figure size 432x288 with 0 Axes>"
      ]
     },
     "metadata": {},
     "output_type": "display_data"
    },
    {
     "data": {
      "text/plain": [
       "<Figure size 432x288 with 0 Axes>"
      ]
     },
     "metadata": {},
     "output_type": "display_data"
    },
    {
     "data": {
      "text/plain": [
       "<Figure size 432x288 with 0 Axes>"
      ]
     },
     "metadata": {},
     "output_type": "display_data"
    },
    {
     "data": {
      "text/plain": [
       "<Figure size 432x288 with 0 Axes>"
      ]
     },
     "metadata": {},
     "output_type": "display_data"
    },
    {
     "data": {
      "text/plain": [
       "<Figure size 432x288 with 0 Axes>"
      ]
     },
     "metadata": {},
     "output_type": "display_data"
    },
    {
     "data": {
      "text/plain": [
       "<Figure size 432x288 with 0 Axes>"
      ]
     },
     "metadata": {},
     "output_type": "display_data"
    },
    {
     "data": {
      "text/plain": [
       "<Figure size 432x288 with 0 Axes>"
      ]
     },
     "metadata": {},
     "output_type": "display_data"
    },
    {
     "data": {
      "text/plain": [
       "<Figure size 432x288 with 0 Axes>"
      ]
     },
     "metadata": {},
     "output_type": "display_data"
    },
    {
     "data": {
      "text/plain": [
       "<Figure size 432x288 with 0 Axes>"
      ]
     },
     "metadata": {},
     "output_type": "display_data"
    },
    {
     "data": {
      "text/plain": [
       "<Figure size 432x288 with 0 Axes>"
      ]
     },
     "metadata": {},
     "output_type": "display_data"
    },
    {
     "data": {
      "text/plain": [
       "<Figure size 432x288 with 0 Axes>"
      ]
     },
     "metadata": {},
     "output_type": "display_data"
    },
    {
     "data": {
      "text/plain": [
       "<Figure size 432x288 with 0 Axes>"
      ]
     },
     "metadata": {},
     "output_type": "display_data"
    },
    {
     "data": {
      "text/plain": [
       "<Figure size 432x288 with 0 Axes>"
      ]
     },
     "metadata": {},
     "output_type": "display_data"
    },
    {
     "data": {
      "text/plain": [
       "<Figure size 432x288 with 0 Axes>"
      ]
     },
     "metadata": {},
     "output_type": "display_data"
    },
    {
     "data": {
      "text/plain": [
       "<Figure size 432x288 with 0 Axes>"
      ]
     },
     "metadata": {},
     "output_type": "display_data"
    },
    {
     "data": {
      "text/plain": [
       "<Figure size 432x288 with 0 Axes>"
      ]
     },
     "metadata": {},
     "output_type": "display_data"
    },
    {
     "data": {
      "text/plain": [
       "<Figure size 432x288 with 0 Axes>"
      ]
     },
     "metadata": {},
     "output_type": "display_data"
    },
    {
     "data": {
      "text/plain": [
       "<Figure size 432x288 with 0 Axes>"
      ]
     },
     "metadata": {},
     "output_type": "display_data"
    },
    {
     "data": {
      "text/plain": [
       "<Figure size 432x288 with 0 Axes>"
      ]
     },
     "metadata": {},
     "output_type": "display_data"
    },
    {
     "data": {
      "text/plain": [
       "<Figure size 432x288 with 0 Axes>"
      ]
     },
     "metadata": {},
     "output_type": "display_data"
    },
    {
     "data": {
      "text/plain": [
       "<Figure size 432x288 with 0 Axes>"
      ]
     },
     "metadata": {},
     "output_type": "display_data"
    },
    {
     "data": {
      "text/plain": [
       "<Figure size 432x288 with 0 Axes>"
      ]
     },
     "metadata": {},
     "output_type": "display_data"
    },
    {
     "data": {
      "text/plain": [
       "<Figure size 432x288 with 0 Axes>"
      ]
     },
     "metadata": {},
     "output_type": "display_data"
    },
    {
     "data": {
      "text/plain": [
       "<Figure size 432x288 with 0 Axes>"
      ]
     },
     "metadata": {},
     "output_type": "display_data"
    },
    {
     "data": {
      "text/plain": [
       "<Figure size 432x288 with 0 Axes>"
      ]
     },
     "metadata": {},
     "output_type": "display_data"
    },
    {
     "data": {
      "text/plain": [
       "<Figure size 432x288 with 0 Axes>"
      ]
     },
     "metadata": {},
     "output_type": "display_data"
    },
    {
     "data": {
      "text/plain": [
       "<Figure size 432x288 with 0 Axes>"
      ]
     },
     "metadata": {},
     "output_type": "display_data"
    },
    {
     "data": {
      "text/plain": [
       "<Figure size 432x288 with 0 Axes>"
      ]
     },
     "metadata": {},
     "output_type": "display_data"
    },
    {
     "data": {
      "text/plain": [
       "<Figure size 432x288 with 0 Axes>"
      ]
     },
     "metadata": {},
     "output_type": "display_data"
    },
    {
     "data": {
      "text/plain": [
       "<Figure size 432x288 with 0 Axes>"
      ]
     },
     "metadata": {},
     "output_type": "display_data"
    },
    {
     "data": {
      "text/plain": [
       "<Figure size 432x288 with 0 Axes>"
      ]
     },
     "metadata": {},
     "output_type": "display_data"
    },
    {
     "data": {
      "text/plain": [
       "<Figure size 432x288 with 0 Axes>"
      ]
     },
     "metadata": {},
     "output_type": "display_data"
    },
    {
     "data": {
      "text/plain": [
       "<Figure size 432x288 with 0 Axes>"
      ]
     },
     "metadata": {},
     "output_type": "display_data"
    },
    {
     "data": {
      "text/plain": [
       "<Figure size 432x288 with 0 Axes>"
      ]
     },
     "metadata": {},
     "output_type": "display_data"
    },
    {
     "data": {
      "text/plain": [
       "<Figure size 432x288 with 0 Axes>"
      ]
     },
     "metadata": {},
     "output_type": "display_data"
    },
    {
     "data": {
      "text/plain": [
       "<Figure size 432x288 with 0 Axes>"
      ]
     },
     "metadata": {},
     "output_type": "display_data"
    },
    {
     "data": {
      "text/plain": [
       "<Figure size 432x288 with 0 Axes>"
      ]
     },
     "metadata": {},
     "output_type": "display_data"
    },
    {
     "data": {
      "text/plain": [
       "<Figure size 432x288 with 0 Axes>"
      ]
     },
     "metadata": {},
     "output_type": "display_data"
    },
    {
     "data": {
      "text/plain": [
       "<Figure size 432x288 with 0 Axes>"
      ]
     },
     "metadata": {},
     "output_type": "display_data"
    },
    {
     "data": {
      "text/plain": [
       "<Figure size 432x288 with 0 Axes>"
      ]
     },
     "metadata": {},
     "output_type": "display_data"
    },
    {
     "data": {
      "text/plain": [
       "<Figure size 432x288 with 0 Axes>"
      ]
     },
     "metadata": {},
     "output_type": "display_data"
    },
    {
     "data": {
      "text/plain": [
       "<Figure size 432x288 with 0 Axes>"
      ]
     },
     "metadata": {},
     "output_type": "display_data"
    },
    {
     "data": {
      "text/plain": [
       "<Figure size 432x288 with 0 Axes>"
      ]
     },
     "metadata": {},
     "output_type": "display_data"
    },
    {
     "data": {
      "text/plain": [
       "<Figure size 432x288 with 0 Axes>"
      ]
     },
     "metadata": {},
     "output_type": "display_data"
    },
    {
     "data": {
      "text/plain": [
       "<Figure size 432x288 with 0 Axes>"
      ]
     },
     "metadata": {},
     "output_type": "display_data"
    },
    {
     "data": {
      "text/plain": [
       "<Figure size 432x288 with 0 Axes>"
      ]
     },
     "metadata": {},
     "output_type": "display_data"
    },
    {
     "data": {
      "text/plain": [
       "<Figure size 432x288 with 0 Axes>"
      ]
     },
     "metadata": {},
     "output_type": "display_data"
    },
    {
     "data": {
      "text/plain": [
       "<Figure size 432x288 with 0 Axes>"
      ]
     },
     "metadata": {},
     "output_type": "display_data"
    },
    {
     "data": {
      "text/plain": [
       "<Figure size 432x288 with 0 Axes>"
      ]
     },
     "metadata": {},
     "output_type": "display_data"
    },
    {
     "data": {
      "text/plain": [
       "<Figure size 432x288 with 0 Axes>"
      ]
     },
     "metadata": {},
     "output_type": "display_data"
    },
    {
     "data": {
      "text/plain": [
       "<Figure size 432x288 with 0 Axes>"
      ]
     },
     "metadata": {},
     "output_type": "display_data"
    },
    {
     "data": {
      "text/plain": [
       "<Figure size 432x288 with 0 Axes>"
      ]
     },
     "metadata": {},
     "output_type": "display_data"
    },
    {
     "data": {
      "text/plain": [
       "<Figure size 432x288 with 0 Axes>"
      ]
     },
     "metadata": {},
     "output_type": "display_data"
    },
    {
     "data": {
      "text/plain": [
       "<Figure size 432x288 with 0 Axes>"
      ]
     },
     "metadata": {},
     "output_type": "display_data"
    },
    {
     "data": {
      "text/plain": [
       "<Figure size 432x288 with 0 Axes>"
      ]
     },
     "metadata": {},
     "output_type": "display_data"
    },
    {
     "data": {
      "text/plain": [
       "<Figure size 432x288 with 0 Axes>"
      ]
     },
     "metadata": {},
     "output_type": "display_data"
    },
    {
     "data": {
      "text/plain": [
       "<Figure size 432x288 with 0 Axes>"
      ]
     },
     "metadata": {},
     "output_type": "display_data"
    },
    {
     "data": {
      "text/plain": [
       "<Figure size 432x288 with 0 Axes>"
      ]
     },
     "metadata": {},
     "output_type": "display_data"
    },
    {
     "data": {
      "text/plain": [
       "<Figure size 432x288 with 0 Axes>"
      ]
     },
     "metadata": {},
     "output_type": "display_data"
    },
    {
     "data": {
      "text/plain": [
       "<Figure size 432x288 with 0 Axes>"
      ]
     },
     "metadata": {},
     "output_type": "display_data"
    },
    {
     "data": {
      "text/plain": [
       "<Figure size 432x288 with 0 Axes>"
      ]
     },
     "metadata": {},
     "output_type": "display_data"
    },
    {
     "data": {
      "text/plain": [
       "<Figure size 432x288 with 0 Axes>"
      ]
     },
     "metadata": {},
     "output_type": "display_data"
    },
    {
     "data": {
      "text/plain": [
       "<Figure size 432x288 with 0 Axes>"
      ]
     },
     "metadata": {},
     "output_type": "display_data"
    },
    {
     "data": {
      "text/plain": [
       "<Figure size 432x288 with 0 Axes>"
      ]
     },
     "metadata": {},
     "output_type": "display_data"
    },
    {
     "data": {
      "text/plain": [
       "<Figure size 432x288 with 0 Axes>"
      ]
     },
     "metadata": {},
     "output_type": "display_data"
    },
    {
     "data": {
      "text/plain": [
       "<Figure size 432x288 with 0 Axes>"
      ]
     },
     "metadata": {},
     "output_type": "display_data"
    },
    {
     "data": {
      "text/plain": [
       "<Figure size 432x288 with 0 Axes>"
      ]
     },
     "metadata": {},
     "output_type": "display_data"
    },
    {
     "data": {
      "text/plain": [
       "<Figure size 432x288 with 0 Axes>"
      ]
     },
     "metadata": {},
     "output_type": "display_data"
    },
    {
     "data": {
      "text/plain": [
       "<Figure size 432x288 with 0 Axes>"
      ]
     },
     "metadata": {},
     "output_type": "display_data"
    },
    {
     "data": {
      "text/plain": [
       "<Figure size 432x288 with 0 Axes>"
      ]
     },
     "metadata": {},
     "output_type": "display_data"
    },
    {
     "data": {
      "text/plain": [
       "<Figure size 432x288 with 0 Axes>"
      ]
     },
     "metadata": {},
     "output_type": "display_data"
    },
    {
     "data": {
      "text/plain": [
       "<Figure size 432x288 with 0 Axes>"
      ]
     },
     "metadata": {},
     "output_type": "display_data"
    },
    {
     "data": {
      "text/plain": [
       "<Figure size 432x288 with 0 Axes>"
      ]
     },
     "metadata": {},
     "output_type": "display_data"
    },
    {
     "data": {
      "text/plain": [
       "<Figure size 432x288 with 0 Axes>"
      ]
     },
     "metadata": {},
     "output_type": "display_data"
    },
    {
     "data": {
      "text/plain": [
       "<Figure size 432x288 with 0 Axes>"
      ]
     },
     "metadata": {},
     "output_type": "display_data"
    },
    {
     "data": {
      "text/plain": [
       "<Figure size 432x288 with 0 Axes>"
      ]
     },
     "metadata": {},
     "output_type": "display_data"
    },
    {
     "data": {
      "text/plain": [
       "<Figure size 432x288 with 0 Axes>"
      ]
     },
     "metadata": {},
     "output_type": "display_data"
    },
    {
     "data": {
      "text/plain": [
       "<Figure size 432x288 with 0 Axes>"
      ]
     },
     "metadata": {},
     "output_type": "display_data"
    },
    {
     "data": {
      "text/plain": [
       "<Figure size 432x288 with 0 Axes>"
      ]
     },
     "metadata": {},
     "output_type": "display_data"
    },
    {
     "data": {
      "text/plain": [
       "<Figure size 432x288 with 0 Axes>"
      ]
     },
     "metadata": {},
     "output_type": "display_data"
    },
    {
     "data": {
      "text/plain": [
       "<Figure size 432x288 with 0 Axes>"
      ]
     },
     "metadata": {},
     "output_type": "display_data"
    },
    {
     "data": {
      "text/plain": [
       "<Figure size 432x288 with 0 Axes>"
      ]
     },
     "metadata": {},
     "output_type": "display_data"
    },
    {
     "data": {
      "text/plain": [
       "<Figure size 432x288 with 0 Axes>"
      ]
     },
     "metadata": {},
     "output_type": "display_data"
    },
    {
     "data": {
      "text/plain": [
       "<Figure size 432x288 with 0 Axes>"
      ]
     },
     "metadata": {},
     "output_type": "display_data"
    },
    {
     "data": {
      "text/plain": [
       "<Figure size 432x288 with 0 Axes>"
      ]
     },
     "metadata": {},
     "output_type": "display_data"
    },
    {
     "data": {
      "text/plain": [
       "<Figure size 432x288 with 0 Axes>"
      ]
     },
     "metadata": {},
     "output_type": "display_data"
    },
    {
     "data": {
      "text/plain": [
       "<Figure size 432x288 with 0 Axes>"
      ]
     },
     "metadata": {},
     "output_type": "display_data"
    },
    {
     "data": {
      "text/plain": [
       "<Figure size 432x288 with 0 Axes>"
      ]
     },
     "metadata": {},
     "output_type": "display_data"
    },
    {
     "data": {
      "text/plain": [
       "<Figure size 432x288 with 0 Axes>"
      ]
     },
     "metadata": {},
     "output_type": "display_data"
    },
    {
     "data": {
      "text/plain": [
       "<Figure size 432x288 with 0 Axes>"
      ]
     },
     "metadata": {},
     "output_type": "display_data"
    },
    {
     "data": {
      "text/plain": [
       "<Figure size 432x288 with 0 Axes>"
      ]
     },
     "metadata": {},
     "output_type": "display_data"
    },
    {
     "data": {
      "text/plain": [
       "<Figure size 432x288 with 0 Axes>"
      ]
     },
     "metadata": {},
     "output_type": "display_data"
    },
    {
     "data": {
      "text/plain": [
       "<Figure size 432x288 with 0 Axes>"
      ]
     },
     "metadata": {},
     "output_type": "display_data"
    },
    {
     "data": {
      "text/plain": [
       "<Figure size 432x288 with 0 Axes>"
      ]
     },
     "metadata": {},
     "output_type": "display_data"
    },
    {
     "data": {
      "text/plain": [
       "<Figure size 432x288 with 0 Axes>"
      ]
     },
     "metadata": {},
     "output_type": "display_data"
    },
    {
     "data": {
      "text/plain": [
       "<Figure size 432x288 with 0 Axes>"
      ]
     },
     "metadata": {},
     "output_type": "display_data"
    },
    {
     "data": {
      "text/plain": [
       "<Figure size 432x288 with 0 Axes>"
      ]
     },
     "metadata": {},
     "output_type": "display_data"
    },
    {
     "data": {
      "text/plain": [
       "<Figure size 432x288 with 0 Axes>"
      ]
     },
     "metadata": {},
     "output_type": "display_data"
    },
    {
     "data": {
      "text/plain": [
       "<Figure size 432x288 with 0 Axes>"
      ]
     },
     "metadata": {},
     "output_type": "display_data"
    },
    {
     "data": {
      "text/plain": [
       "<Figure size 432x288 with 0 Axes>"
      ]
     },
     "metadata": {},
     "output_type": "display_data"
    },
    {
     "data": {
      "text/plain": [
       "<Figure size 432x288 with 0 Axes>"
      ]
     },
     "metadata": {},
     "output_type": "display_data"
    },
    {
     "data": {
      "text/plain": [
       "<Figure size 432x288 with 0 Axes>"
      ]
     },
     "metadata": {},
     "output_type": "display_data"
    },
    {
     "data": {
      "text/plain": [
       "<Figure size 432x288 with 0 Axes>"
      ]
     },
     "metadata": {},
     "output_type": "display_data"
    },
    {
     "data": {
      "text/plain": [
       "<Figure size 432x288 with 0 Axes>"
      ]
     },
     "metadata": {},
     "output_type": "display_data"
    },
    {
     "data": {
      "text/plain": [
       "<Figure size 432x288 with 0 Axes>"
      ]
     },
     "metadata": {},
     "output_type": "display_data"
    },
    {
     "data": {
      "text/plain": [
       "<Figure size 432x288 with 0 Axes>"
      ]
     },
     "metadata": {},
     "output_type": "display_data"
    },
    {
     "data": {
      "text/plain": [
       "<Figure size 432x288 with 0 Axes>"
      ]
     },
     "metadata": {},
     "output_type": "display_data"
    },
    {
     "data": {
      "text/plain": [
       "<Figure size 432x288 with 0 Axes>"
      ]
     },
     "metadata": {},
     "output_type": "display_data"
    },
    {
     "data": {
      "text/plain": [
       "<Figure size 432x288 with 0 Axes>"
      ]
     },
     "metadata": {},
     "output_type": "display_data"
    },
    {
     "data": {
      "text/plain": [
       "<Figure size 432x288 with 0 Axes>"
      ]
     },
     "metadata": {},
     "output_type": "display_data"
    },
    {
     "data": {
      "text/plain": [
       "<Figure size 432x288 with 0 Axes>"
      ]
     },
     "metadata": {},
     "output_type": "display_data"
    },
    {
     "data": {
      "text/plain": [
       "<Figure size 432x288 with 0 Axes>"
      ]
     },
     "metadata": {},
     "output_type": "display_data"
    },
    {
     "ename": "KeyboardInterrupt",
     "evalue": "",
     "output_type": "error",
     "traceback": [
      "\u001b[0;31m---------------------------------------------------------------------------\u001b[0m",
      "\u001b[0;31mKeyboardInterrupt\u001b[0m                         Traceback (most recent call last)",
      "\u001b[0;32m<ipython-input-4-26673a5712fc>\u001b[0m in \u001b[0;36m<module>\u001b[0;34m\u001b[0m\n\u001b[1;32m     12\u001b[0m     \u001b[0mgraph\u001b[0m\u001b[0;34m.\u001b[0m\u001b[0mset_ydata\u001b[0m\u001b[0;34m(\u001b[0m\u001b[0mY\u001b[0m\u001b[0;34m)\u001b[0m\u001b[0;34m\u001b[0m\u001b[0;34m\u001b[0m\u001b[0m\n\u001b[1;32m     13\u001b[0m     \u001b[0mplt\u001b[0m\u001b[0;34m.\u001b[0m\u001b[0mdraw\u001b[0m\u001b[0;34m(\u001b[0m\u001b[0;34m)\u001b[0m\u001b[0;34m\u001b[0m\u001b[0;34m\u001b[0m\u001b[0m\n\u001b[0;32m---> 14\u001b[0;31m     \u001b[0mplt\u001b[0m\u001b[0;34m.\u001b[0m\u001b[0mpause\u001b[0m\u001b[0;34m(\u001b[0m\u001b[0;36m0.09\u001b[0m\u001b[0;34m)\u001b[0m\u001b[0;34m\u001b[0m\u001b[0;34m\u001b[0m\u001b[0m\n\u001b[0m",
      "\u001b[0;32m~/.local/lib/python3.7/site-packages/matplotlib/pyplot.py\u001b[0m in \u001b[0;36mpause\u001b[0;34m(interval)\u001b[0m\n\u001b[1;32m    436\u001b[0m             \u001b[0mcanvas\u001b[0m\u001b[0;34m.\u001b[0m\u001b[0mdraw_idle\u001b[0m\u001b[0;34m(\u001b[0m\u001b[0;34m)\u001b[0m\u001b[0;34m\u001b[0m\u001b[0;34m\u001b[0m\u001b[0m\n\u001b[1;32m    437\u001b[0m         \u001b[0mshow\u001b[0m\u001b[0;34m(\u001b[0m\u001b[0mblock\u001b[0m\u001b[0;34m=\u001b[0m\u001b[0;32mFalse\u001b[0m\u001b[0;34m)\u001b[0m\u001b[0;34m\u001b[0m\u001b[0;34m\u001b[0m\u001b[0m\n\u001b[0;32m--> 438\u001b[0;31m         \u001b[0mcanvas\u001b[0m\u001b[0;34m.\u001b[0m\u001b[0mstart_event_loop\u001b[0m\u001b[0;34m(\u001b[0m\u001b[0minterval\u001b[0m\u001b[0;34m)\u001b[0m\u001b[0;34m\u001b[0m\u001b[0;34m\u001b[0m\u001b[0m\n\u001b[0m\u001b[1;32m    439\u001b[0m     \u001b[0;32melse\u001b[0m\u001b[0;34m:\u001b[0m\u001b[0;34m\u001b[0m\u001b[0;34m\u001b[0m\u001b[0m\n\u001b[1;32m    440\u001b[0m         \u001b[0mtime\u001b[0m\u001b[0;34m.\u001b[0m\u001b[0msleep\u001b[0m\u001b[0;34m(\u001b[0m\u001b[0minterval\u001b[0m\u001b[0;34m)\u001b[0m\u001b[0;34m\u001b[0m\u001b[0;34m\u001b[0m\u001b[0m\n",
      "\u001b[0;32m~/.local/lib/python3.7/site-packages/matplotlib/backend_bases.py\u001b[0m in \u001b[0;36mstart_event_loop\u001b[0;34m(self, timeout)\u001b[0m\n\u001b[1;32m   2406\u001b[0m         \u001b[0;32mwhile\u001b[0m \u001b[0mself\u001b[0m\u001b[0;34m.\u001b[0m\u001b[0m_looping\u001b[0m \u001b[0;32mand\u001b[0m \u001b[0mcounter\u001b[0m \u001b[0;34m*\u001b[0m \u001b[0mtimestep\u001b[0m \u001b[0;34m<\u001b[0m \u001b[0mtimeout\u001b[0m\u001b[0;34m:\u001b[0m\u001b[0;34m\u001b[0m\u001b[0;34m\u001b[0m\u001b[0m\n\u001b[1;32m   2407\u001b[0m             \u001b[0mself\u001b[0m\u001b[0;34m.\u001b[0m\u001b[0mflush_events\u001b[0m\u001b[0;34m(\u001b[0m\u001b[0;34m)\u001b[0m\u001b[0;34m\u001b[0m\u001b[0;34m\u001b[0m\u001b[0m\n\u001b[0;32m-> 2408\u001b[0;31m             \u001b[0mtime\u001b[0m\u001b[0;34m.\u001b[0m\u001b[0msleep\u001b[0m\u001b[0;34m(\u001b[0m\u001b[0mtimestep\u001b[0m\u001b[0;34m)\u001b[0m\u001b[0;34m\u001b[0m\u001b[0;34m\u001b[0m\u001b[0m\n\u001b[0m\u001b[1;32m   2409\u001b[0m             \u001b[0mcounter\u001b[0m \u001b[0;34m+=\u001b[0m \u001b[0;36m1\u001b[0m\u001b[0;34m\u001b[0m\u001b[0;34m\u001b[0m\u001b[0m\n\u001b[1;32m   2410\u001b[0m \u001b[0;34m\u001b[0m\u001b[0m\n",
      "\u001b[0;31mKeyboardInterrupt\u001b[0m: "
     ]
    }
   ],
   "source": [
    "import matplotlib.pyplot as plt\n",
    "import numpy as np\n",
    "\n",
    "X = np.linspace(0,2,1000)\n",
    "Y = X**2 + np.random.random(X.shape)\n",
    "\n",
    "plt.ion()\n",
    "graph = plt.plot(X,Y)[0]\n",
    "\n",
    "while True:\n",
    "    Y = X**2 + np.random.random(X.shape)\n",
    "    graph.set_ydata(Y)\n",
    "    plt.draw()\n",
    "    plt.pause(0.09)"
   ]
  },
  {
   "cell_type": "code",
   "execution_count": null,
   "id": "serious-ireland",
   "metadata": {},
   "outputs": [],
   "source": []
  }
 ],
 "metadata": {
  "kernelspec": {
   "display_name": "Python 3",
   "language": "python",
   "name": "python3"
  },
  "language_info": {
   "codemirror_mode": {
    "name": "ipython",
    "version": 3
   },
   "file_extension": ".py",
   "mimetype": "text/x-python",
   "name": "python",
   "nbconvert_exporter": "python",
   "pygments_lexer": "ipython3",
   "version": "3.7.3"
  }
 },
 "nbformat": 4,
 "nbformat_minor": 5
}
